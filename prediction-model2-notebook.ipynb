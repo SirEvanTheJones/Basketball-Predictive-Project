{
 "metadata": {
  "language_info": {
   "codemirror_mode": {
    "name": "ipython",
    "version": 3
   },
   "file_extension": ".py",
   "mimetype": "text/x-python",
   "name": "python",
   "nbconvert_exporter": "python",
   "pygments_lexer": "ipython3",
   "version": "3.9.2"
  },
  "orig_nbformat": 2,
  "kernelspec": {
   "name": "python3",
   "display_name": "Python 3.9.2 64-bit ('3.9')",
   "metadata": {
    "interpreter": {
     "hash": "7812ea015bdcee6f23a998adcdd2ef97c151c0c241b7b7070987d9313e41299d"
    }
   }
  }
 },
 "nbformat": 4,
 "nbformat_minor": 2,
 "cells": [
  {
   "cell_type": "code",
   "execution_count": 1,
   "metadata": {},
   "outputs": [],
   "source": [
    "import pandas as pd\n",
    "import numpy as np\n",
    "import matplotlib.pyplot as plt\n",
    "import seaborn as sns\n",
    "import os"
   ]
  },
  {
   "cell_type": "code",
   "execution_count": 2,
   "metadata": {},
   "outputs": [
    {
     "output_type": "execute_result",
     "data": {
      "text/plain": [
       "                   Date        Visitor/Neutral  Away_PTS  \\\n",
       "0     Tue, Dec 22, 2020  Golden State Warriors      99.0   \n",
       "1     Tue, Dec 22, 2020   Los Angeles Clippers     116.0   \n",
       "2     Wed, Dec 23, 2020      Charlotte Hornets     114.0   \n",
       "3     Wed, Dec 23, 2020        New York Knicks     107.0   \n",
       "4     Wed, Dec 23, 2020             Miami Heat     107.0   \n",
       "...                 ...                    ...       ...   \n",
       "1006   Sat, May 8, 2021      Memphis Grizzlies     109.0   \n",
       "1007   Sat, May 8, 2021          Brooklyn Nets     125.0   \n",
       "1008   Sat, May 8, 2021  Oklahoma City Thunder      97.0   \n",
       "1009   Sat, May 8, 2021      San Antonio Spurs     102.0   \n",
       "1010   Sat, May 8, 2021        Houston Rockets     116.0   \n",
       "\n",
       "                Home/Neutral  Home_PTS Home/Away Winner  \\\n",
       "0              Brooklyn Nets     125.0             Home   \n",
       "1         Los Angeles Lakers     109.0          Visitor   \n",
       "2        Cleveland Cavaliers     121.0             Home   \n",
       "3             Indiana Pacers     121.0             Home   \n",
       "4              Orlando Magic     113.0             Home   \n",
       "...                      ...       ...              ...   \n",
       "1006         Toronto Raptors      99.0          Visitor   \n",
       "1007          Denver Nuggets     119.0          Visitor   \n",
       "1008   Golden State Warriors     136.0             Home   \n",
       "1009  Portland Trail Blazers     124.0             Home   \n",
       "1010               Utah Jazz     124.0             Home   \n",
       "\n",
       "                Winning Team  Margin of Victory  \n",
       "0              Brooklyn Nets               26.0  \n",
       "1       Los Angeles Clippers                7.0  \n",
       "2        Cleveland Cavaliers                7.0  \n",
       "3             Indiana Pacers               14.0  \n",
       "4              Orlando Magic                6.0  \n",
       "...                      ...                ...  \n",
       "1006       Memphis Grizzlies               10.0  \n",
       "1007           Brooklyn Nets                6.0  \n",
       "1008   Golden State Warriors               39.0  \n",
       "1009  Portland Trail Blazers               22.0  \n",
       "1010               Utah Jazz                8.0  \n",
       "\n",
       "[1011 rows x 8 columns]"
      ],
      "text/html": "<div>\n<style scoped>\n    .dataframe tbody tr th:only-of-type {\n        vertical-align: middle;\n    }\n\n    .dataframe tbody tr th {\n        vertical-align: top;\n    }\n\n    .dataframe thead th {\n        text-align: right;\n    }\n</style>\n<table border=\"1\" class=\"dataframe\">\n  <thead>\n    <tr style=\"text-align: right;\">\n      <th></th>\n      <th>Date</th>\n      <th>Visitor/Neutral</th>\n      <th>Away_PTS</th>\n      <th>Home/Neutral</th>\n      <th>Home_PTS</th>\n      <th>Home/Away Winner</th>\n      <th>Winning Team</th>\n      <th>Margin of Victory</th>\n    </tr>\n  </thead>\n  <tbody>\n    <tr>\n      <th>0</th>\n      <td>Tue, Dec 22, 2020</td>\n      <td>Golden State Warriors</td>\n      <td>99.0</td>\n      <td>Brooklyn Nets</td>\n      <td>125.0</td>\n      <td>Home</td>\n      <td>Brooklyn Nets</td>\n      <td>26.0</td>\n    </tr>\n    <tr>\n      <th>1</th>\n      <td>Tue, Dec 22, 2020</td>\n      <td>Los Angeles Clippers</td>\n      <td>116.0</td>\n      <td>Los Angeles Lakers</td>\n      <td>109.0</td>\n      <td>Visitor</td>\n      <td>Los Angeles Clippers</td>\n      <td>7.0</td>\n    </tr>\n    <tr>\n      <th>2</th>\n      <td>Wed, Dec 23, 2020</td>\n      <td>Charlotte Hornets</td>\n      <td>114.0</td>\n      <td>Cleveland Cavaliers</td>\n      <td>121.0</td>\n      <td>Home</td>\n      <td>Cleveland Cavaliers</td>\n      <td>7.0</td>\n    </tr>\n    <tr>\n      <th>3</th>\n      <td>Wed, Dec 23, 2020</td>\n      <td>New York Knicks</td>\n      <td>107.0</td>\n      <td>Indiana Pacers</td>\n      <td>121.0</td>\n      <td>Home</td>\n      <td>Indiana Pacers</td>\n      <td>14.0</td>\n    </tr>\n    <tr>\n      <th>4</th>\n      <td>Wed, Dec 23, 2020</td>\n      <td>Miami Heat</td>\n      <td>107.0</td>\n      <td>Orlando Magic</td>\n      <td>113.0</td>\n      <td>Home</td>\n      <td>Orlando Magic</td>\n      <td>6.0</td>\n    </tr>\n    <tr>\n      <th>...</th>\n      <td>...</td>\n      <td>...</td>\n      <td>...</td>\n      <td>...</td>\n      <td>...</td>\n      <td>...</td>\n      <td>...</td>\n      <td>...</td>\n    </tr>\n    <tr>\n      <th>1006</th>\n      <td>Sat, May 8, 2021</td>\n      <td>Memphis Grizzlies</td>\n      <td>109.0</td>\n      <td>Toronto Raptors</td>\n      <td>99.0</td>\n      <td>Visitor</td>\n      <td>Memphis Grizzlies</td>\n      <td>10.0</td>\n    </tr>\n    <tr>\n      <th>1007</th>\n      <td>Sat, May 8, 2021</td>\n      <td>Brooklyn Nets</td>\n      <td>125.0</td>\n      <td>Denver Nuggets</td>\n      <td>119.0</td>\n      <td>Visitor</td>\n      <td>Brooklyn Nets</td>\n      <td>6.0</td>\n    </tr>\n    <tr>\n      <th>1008</th>\n      <td>Sat, May 8, 2021</td>\n      <td>Oklahoma City Thunder</td>\n      <td>97.0</td>\n      <td>Golden State Warriors</td>\n      <td>136.0</td>\n      <td>Home</td>\n      <td>Golden State Warriors</td>\n      <td>39.0</td>\n    </tr>\n    <tr>\n      <th>1009</th>\n      <td>Sat, May 8, 2021</td>\n      <td>San Antonio Spurs</td>\n      <td>102.0</td>\n      <td>Portland Trail Blazers</td>\n      <td>124.0</td>\n      <td>Home</td>\n      <td>Portland Trail Blazers</td>\n      <td>22.0</td>\n    </tr>\n    <tr>\n      <th>1010</th>\n      <td>Sat, May 8, 2021</td>\n      <td>Houston Rockets</td>\n      <td>116.0</td>\n      <td>Utah Jazz</td>\n      <td>124.0</td>\n      <td>Home</td>\n      <td>Utah Jazz</td>\n      <td>8.0</td>\n    </tr>\n  </tbody>\n</table>\n<p>1011 rows × 8 columns</p>\n</div>"
     },
     "metadata": {},
     "execution_count": 2
    }
   ],
   "source": [
    "pwd = os.getcwd()\n",
    "game_schedule = pd.read_csv(pwd + \"/full_schedule.csv\")\n",
    "game_schedule"
   ]
  },
  {
   "cell_type": "code",
   "execution_count": 3,
   "metadata": {},
   "outputs": [
    {
     "output_type": "execute_result",
     "data": {
      "text/plain": [
       "                      Team    FG   FGA    FG%    3P   3PA    3P%    2P   2PA  \\\n",
       "0            Brooklyn Nets  43.2  87.7  0.493  14.1  36.3  0.388  29.1  51.4   \n",
       "1          Milwaukee Bucks  44.5  91.5  0.486  14.5  37.1  0.392  30.0  54.4   \n",
       "2                Utah Jazz  41.1  88.1  0.467  16.9  43.4  0.391  24.2  44.8   \n",
       "3     Los Angeles Clippers  41.9  87.0  0.482  14.4  34.5  0.416  27.5  52.4   \n",
       "4           Denver Nuggets  43.5  89.1  0.488  13.0  34.1  0.380  30.5  55.0   \n",
       "5     New Orleans Pelicans  42.7  88.5  0.482  10.7  30.6  0.351  32.0  57.9   \n",
       "6       Washington Wizards  42.6  90.0  0.473  10.2  29.2  0.350  32.4  60.8   \n",
       "7            Atlanta Hawks  40.2  87.0  0.462  12.4  33.5  0.370  27.8  53.5   \n",
       "8   Portland Trail Blazers  40.9  91.3  0.448  15.7  41.4  0.380  25.1  49.9   \n",
       "9   Minnesota Timberwolves  40.4  90.9  0.445  13.0  37.2  0.350  27.4  53.7   \n",
       "10   Golden State Warriors  41.0  88.2  0.465  14.2  38.0  0.374  26.9  50.2   \n",
       "11          Indiana Pacers  42.8  90.8  0.471  12.4  34.3  0.361  30.4  56.5   \n",
       "12            Phoenix Suns  43.1  88.2  0.489  13.0  34.8  0.373  30.1  53.4   \n",
       "13          Boston Celtics  41.4  88.7  0.466  13.3  35.9  0.372  28.0  52.8   \n",
       "14        Sacramento Kings  42.7  88.5  0.482  12.0  33.0  0.365  30.6  55.5   \n",
       "15      Philadelphia 76ers  41.4  86.9  0.476  11.1  29.9  0.371  30.3  56.9   \n",
       "16         Toronto Raptors  39.7  88.2  0.450  14.7  39.7  0.371  24.9  48.5   \n",
       "17       Memphis Grizzlies  42.9  92.1  0.466  11.0  31.0  0.356  31.9  61.1   \n",
       "18           Chicago Bulls  42.3  88.4  0.478  12.3  33.6  0.365  30.0  54.8   \n",
       "19        Dallas Mavericks  41.0  87.1  0.470  13.7  38.0  0.362  27.2  49.1   \n",
       "20       Charlotte Hornets  40.0  87.4  0.458  13.9  37.0  0.377  26.1  50.4   \n",
       "21      Los Angeles Lakers  40.8  86.0  0.474  11.1  31.4  0.352  29.7  54.6   \n",
       "22         Houston Rockets  39.0  88.4  0.441  13.4  40.0  0.335  25.6  48.4   \n",
       "23       San Antonio Spurs  41.7  90.1  0.462  10.3  28.9  0.356  31.4  61.2   \n",
       "24         Detroit Pistons  38.6  85.8  0.450  11.8  33.1  0.355  26.8  52.7   \n",
       "25              Miami Heat  38.6  83.5  0.463  12.7  36.1  0.350  26.0  47.4   \n",
       "26         New York Knicks  39.5  86.5  0.457  11.5  29.7  0.387  28.0  56.8   \n",
       "27   Oklahoma City Thunder  38.8  87.8  0.442  12.2  35.7  0.342  26.6  52.1   \n",
       "28           Orlando Magic  38.4  89.3  0.430  11.1  32.0  0.346  27.3  57.3   \n",
       "29     Cleveland Cavaliers  38.9  85.7  0.454   9.9  29.3  0.338  29.0  56.3   \n",
       "\n",
       "      2P%  ...   3PAr    TS%   eFG%  TOV%  ORB%  FT/FGA  opponent_eFG%  \\\n",
       "0   0.567  ...  0.414  0.608  0.573  12.3  21.8   0.209          0.535   \n",
       "1   0.550  ...  0.405  0.593  0.565  12.2  23.3   0.173          0.532   \n",
       "2   0.541  ...  0.492  0.596  0.563  12.7  24.2   0.195          0.506   \n",
       "3   0.525  ...  0.397  0.599  0.564  12.0  22.9   0.186          0.532   \n",
       "4   0.554  ...  0.382  0.591  0.561  12.2  24.8   0.175          0.544   \n",
       "5   0.552  ...  0.346  0.576  0.543  12.8  26.4   0.216          0.550   \n",
       "6   0.533  ...  0.325  0.568  0.530  12.6  21.1   0.219          0.538   \n",
       "7   0.520  ...  0.385  0.576  0.533  12.1  24.5   0.228          0.531   \n",
       "8   0.504  ...  0.454  0.572  0.534  10.1  23.4   0.193          0.549   \n",
       "9   0.511  ...  0.410  0.552  0.517  12.5  22.3   0.191          0.556   \n",
       "10  0.535  ...  0.431  0.578  0.546  13.3  17.8   0.189          0.525   \n",
       "11  0.539  ...  0.378  0.573  0.540  11.9  20.1   0.182          0.531   \n",
       "12  0.564  ...  0.394  0.594  0.562  11.8  20.9   0.172          0.529   \n",
       "13  0.531  ...  0.404  0.574  0.542  12.7  24.9   0.186          0.538   \n",
       "14  0.552  ...  0.373  0.581  0.551  11.9  21.5   0.191          0.565   \n",
       "15  0.531  ...  0.345  0.578  0.540  13.0  23.5   0.229          0.522   \n",
       "16  0.514  ...  0.450  0.572  0.533  12.0  20.7   0.199          0.540   \n",
       "17  0.522  ...  0.337  0.559  0.526  11.5  23.9   0.177          0.536   \n",
       "18  0.548  ...  0.380  0.576  0.548  13.8  22.0   0.160          0.540   \n",
       "19  0.554  ...  0.436  0.581  0.549  11.1  20.5   0.188          0.533   \n",
       "20  0.518  ...  0.423  0.569  0.538  13.5  23.3   0.181          0.549   \n",
       "21  0.544  ...  0.365  0.570  0.538  13.8  22.5   0.198          0.524   \n",
       "22  0.530  ...  0.452  0.549  0.517  13.1  19.7   0.186          0.549   \n",
       "23  0.513  ...  0.321  0.556  0.520  10.3  20.0   0.195          0.535   \n",
       "24  0.509  ...  0.386  0.556  0.518  13.4  22.3   0.212          0.541   \n",
       "25  0.548  ...  0.432  0.575  0.538  13.2  19.2   0.201          0.537   \n",
       "26  0.493  ...  0.344  0.558  0.523  12.1  22.9   0.191          0.514   \n",
       "27  0.510  ...  0.406  0.542  0.511  14.5  20.8   0.176          0.544   \n",
       "28  0.477  ...  0.359  0.528  0.492  11.5  21.5   0.181          0.547   \n",
       "29  0.514  ...  0.342  0.545  0.512  14.0  23.7   0.189          0.554   \n",
       "\n",
       "    opponent_TOV%  DRB%  opponent_FT/FGA  \n",
       "0            11.3  77.6            0.188  \n",
       "1            11.6  79.7            0.157  \n",
       "2            10.3  79.0            0.160  \n",
       "3            11.9  79.1            0.190  \n",
       "4            12.8  78.9            0.195  \n",
       "5            11.9  79.8            0.190  \n",
       "6            12.5  77.7            0.215  \n",
       "7            11.2  77.5            0.193  \n",
       "8            11.3  77.2            0.203  \n",
       "9            13.2  76.8            0.210  \n",
       "10           13.3  76.6            0.226  \n",
       "11           13.0  74.8            0.201  \n",
       "12           12.5  78.7            0.191  \n",
       "13           12.9  77.9            0.212  \n",
       "14           11.9  74.8            0.197  \n",
       "15           13.9  78.7            0.202  \n",
       "16           14.5  76.1            0.235  \n",
       "17           13.4  78.8            0.200  \n",
       "18           11.5  80.4            0.200  \n",
       "19           11.4  77.8            0.197  \n",
       "20           13.4  75.8            0.162  \n",
       "21           13.8  79.4            0.179  \n",
       "22           13.1  77.0            0.200  \n",
       "23           11.9  77.1            0.176  \n",
       "24           12.8  76.8            0.198  \n",
       "25           14.0  77.5            0.182  \n",
       "26           11.8  79.0            0.194  \n",
       "27           11.5  77.8            0.166  \n",
       "28           11.8  78.5            0.167  \n",
       "29           13.5  76.4            0.185  \n",
       "\n",
       "[30 rows x 65 columns]"
      ],
      "text/html": "<div>\n<style scoped>\n    .dataframe tbody tr th:only-of-type {\n        vertical-align: middle;\n    }\n\n    .dataframe tbody tr th {\n        vertical-align: top;\n    }\n\n    .dataframe thead th {\n        text-align: right;\n    }\n</style>\n<table border=\"1\" class=\"dataframe\">\n  <thead>\n    <tr style=\"text-align: right;\">\n      <th></th>\n      <th>Team</th>\n      <th>FG</th>\n      <th>FGA</th>\n      <th>FG%</th>\n      <th>3P</th>\n      <th>3PA</th>\n      <th>3P%</th>\n      <th>2P</th>\n      <th>2PA</th>\n      <th>2P%</th>\n      <th>...</th>\n      <th>3PAr</th>\n      <th>TS%</th>\n      <th>eFG%</th>\n      <th>TOV%</th>\n      <th>ORB%</th>\n      <th>FT/FGA</th>\n      <th>opponent_eFG%</th>\n      <th>opponent_TOV%</th>\n      <th>DRB%</th>\n      <th>opponent_FT/FGA</th>\n    </tr>\n  </thead>\n  <tbody>\n    <tr>\n      <th>0</th>\n      <td>Brooklyn Nets</td>\n      <td>43.2</td>\n      <td>87.7</td>\n      <td>0.493</td>\n      <td>14.1</td>\n      <td>36.3</td>\n      <td>0.388</td>\n      <td>29.1</td>\n      <td>51.4</td>\n      <td>0.567</td>\n      <td>...</td>\n      <td>0.414</td>\n      <td>0.608</td>\n      <td>0.573</td>\n      <td>12.3</td>\n      <td>21.8</td>\n      <td>0.209</td>\n      <td>0.535</td>\n      <td>11.3</td>\n      <td>77.6</td>\n      <td>0.188</td>\n    </tr>\n    <tr>\n      <th>1</th>\n      <td>Milwaukee Bucks</td>\n      <td>44.5</td>\n      <td>91.5</td>\n      <td>0.486</td>\n      <td>14.5</td>\n      <td>37.1</td>\n      <td>0.392</td>\n      <td>30.0</td>\n      <td>54.4</td>\n      <td>0.550</td>\n      <td>...</td>\n      <td>0.405</td>\n      <td>0.593</td>\n      <td>0.565</td>\n      <td>12.2</td>\n      <td>23.3</td>\n      <td>0.173</td>\n      <td>0.532</td>\n      <td>11.6</td>\n      <td>79.7</td>\n      <td>0.157</td>\n    </tr>\n    <tr>\n      <th>2</th>\n      <td>Utah Jazz</td>\n      <td>41.1</td>\n      <td>88.1</td>\n      <td>0.467</td>\n      <td>16.9</td>\n      <td>43.4</td>\n      <td>0.391</td>\n      <td>24.2</td>\n      <td>44.8</td>\n      <td>0.541</td>\n      <td>...</td>\n      <td>0.492</td>\n      <td>0.596</td>\n      <td>0.563</td>\n      <td>12.7</td>\n      <td>24.2</td>\n      <td>0.195</td>\n      <td>0.506</td>\n      <td>10.3</td>\n      <td>79.0</td>\n      <td>0.160</td>\n    </tr>\n    <tr>\n      <th>3</th>\n      <td>Los Angeles Clippers</td>\n      <td>41.9</td>\n      <td>87.0</td>\n      <td>0.482</td>\n      <td>14.4</td>\n      <td>34.5</td>\n      <td>0.416</td>\n      <td>27.5</td>\n      <td>52.4</td>\n      <td>0.525</td>\n      <td>...</td>\n      <td>0.397</td>\n      <td>0.599</td>\n      <td>0.564</td>\n      <td>12.0</td>\n      <td>22.9</td>\n      <td>0.186</td>\n      <td>0.532</td>\n      <td>11.9</td>\n      <td>79.1</td>\n      <td>0.190</td>\n    </tr>\n    <tr>\n      <th>4</th>\n      <td>Denver Nuggets</td>\n      <td>43.5</td>\n      <td>89.1</td>\n      <td>0.488</td>\n      <td>13.0</td>\n      <td>34.1</td>\n      <td>0.380</td>\n      <td>30.5</td>\n      <td>55.0</td>\n      <td>0.554</td>\n      <td>...</td>\n      <td>0.382</td>\n      <td>0.591</td>\n      <td>0.561</td>\n      <td>12.2</td>\n      <td>24.8</td>\n      <td>0.175</td>\n      <td>0.544</td>\n      <td>12.8</td>\n      <td>78.9</td>\n      <td>0.195</td>\n    </tr>\n    <tr>\n      <th>5</th>\n      <td>New Orleans Pelicans</td>\n      <td>42.7</td>\n      <td>88.5</td>\n      <td>0.482</td>\n      <td>10.7</td>\n      <td>30.6</td>\n      <td>0.351</td>\n      <td>32.0</td>\n      <td>57.9</td>\n      <td>0.552</td>\n      <td>...</td>\n      <td>0.346</td>\n      <td>0.576</td>\n      <td>0.543</td>\n      <td>12.8</td>\n      <td>26.4</td>\n      <td>0.216</td>\n      <td>0.550</td>\n      <td>11.9</td>\n      <td>79.8</td>\n      <td>0.190</td>\n    </tr>\n    <tr>\n      <th>6</th>\n      <td>Washington Wizards</td>\n      <td>42.6</td>\n      <td>90.0</td>\n      <td>0.473</td>\n      <td>10.2</td>\n      <td>29.2</td>\n      <td>0.350</td>\n      <td>32.4</td>\n      <td>60.8</td>\n      <td>0.533</td>\n      <td>...</td>\n      <td>0.325</td>\n      <td>0.568</td>\n      <td>0.530</td>\n      <td>12.6</td>\n      <td>21.1</td>\n      <td>0.219</td>\n      <td>0.538</td>\n      <td>12.5</td>\n      <td>77.7</td>\n      <td>0.215</td>\n    </tr>\n    <tr>\n      <th>7</th>\n      <td>Atlanta Hawks</td>\n      <td>40.2</td>\n      <td>87.0</td>\n      <td>0.462</td>\n      <td>12.4</td>\n      <td>33.5</td>\n      <td>0.370</td>\n      <td>27.8</td>\n      <td>53.5</td>\n      <td>0.520</td>\n      <td>...</td>\n      <td>0.385</td>\n      <td>0.576</td>\n      <td>0.533</td>\n      <td>12.1</td>\n      <td>24.5</td>\n      <td>0.228</td>\n      <td>0.531</td>\n      <td>11.2</td>\n      <td>77.5</td>\n      <td>0.193</td>\n    </tr>\n    <tr>\n      <th>8</th>\n      <td>Portland Trail Blazers</td>\n      <td>40.9</td>\n      <td>91.3</td>\n      <td>0.448</td>\n      <td>15.7</td>\n      <td>41.4</td>\n      <td>0.380</td>\n      <td>25.1</td>\n      <td>49.9</td>\n      <td>0.504</td>\n      <td>...</td>\n      <td>0.454</td>\n      <td>0.572</td>\n      <td>0.534</td>\n      <td>10.1</td>\n      <td>23.4</td>\n      <td>0.193</td>\n      <td>0.549</td>\n      <td>11.3</td>\n      <td>77.2</td>\n      <td>0.203</td>\n    </tr>\n    <tr>\n      <th>9</th>\n      <td>Minnesota Timberwolves</td>\n      <td>40.4</td>\n      <td>90.9</td>\n      <td>0.445</td>\n      <td>13.0</td>\n      <td>37.2</td>\n      <td>0.350</td>\n      <td>27.4</td>\n      <td>53.7</td>\n      <td>0.511</td>\n      <td>...</td>\n      <td>0.410</td>\n      <td>0.552</td>\n      <td>0.517</td>\n      <td>12.5</td>\n      <td>22.3</td>\n      <td>0.191</td>\n      <td>0.556</td>\n      <td>13.2</td>\n      <td>76.8</td>\n      <td>0.210</td>\n    </tr>\n    <tr>\n      <th>10</th>\n      <td>Golden State Warriors</td>\n      <td>41.0</td>\n      <td>88.2</td>\n      <td>0.465</td>\n      <td>14.2</td>\n      <td>38.0</td>\n      <td>0.374</td>\n      <td>26.9</td>\n      <td>50.2</td>\n      <td>0.535</td>\n      <td>...</td>\n      <td>0.431</td>\n      <td>0.578</td>\n      <td>0.546</td>\n      <td>13.3</td>\n      <td>17.8</td>\n      <td>0.189</td>\n      <td>0.525</td>\n      <td>13.3</td>\n      <td>76.6</td>\n      <td>0.226</td>\n    </tr>\n    <tr>\n      <th>11</th>\n      <td>Indiana Pacers</td>\n      <td>42.8</td>\n      <td>90.8</td>\n      <td>0.471</td>\n      <td>12.4</td>\n      <td>34.3</td>\n      <td>0.361</td>\n      <td>30.4</td>\n      <td>56.5</td>\n      <td>0.539</td>\n      <td>...</td>\n      <td>0.378</td>\n      <td>0.573</td>\n      <td>0.540</td>\n      <td>11.9</td>\n      <td>20.1</td>\n      <td>0.182</td>\n      <td>0.531</td>\n      <td>13.0</td>\n      <td>74.8</td>\n      <td>0.201</td>\n    </tr>\n    <tr>\n      <th>12</th>\n      <td>Phoenix Suns</td>\n      <td>43.1</td>\n      <td>88.2</td>\n      <td>0.489</td>\n      <td>13.0</td>\n      <td>34.8</td>\n      <td>0.373</td>\n      <td>30.1</td>\n      <td>53.4</td>\n      <td>0.564</td>\n      <td>...</td>\n      <td>0.394</td>\n      <td>0.594</td>\n      <td>0.562</td>\n      <td>11.8</td>\n      <td>20.9</td>\n      <td>0.172</td>\n      <td>0.529</td>\n      <td>12.5</td>\n      <td>78.7</td>\n      <td>0.191</td>\n    </tr>\n    <tr>\n      <th>13</th>\n      <td>Boston Celtics</td>\n      <td>41.4</td>\n      <td>88.7</td>\n      <td>0.466</td>\n      <td>13.3</td>\n      <td>35.9</td>\n      <td>0.372</td>\n      <td>28.0</td>\n      <td>52.8</td>\n      <td>0.531</td>\n      <td>...</td>\n      <td>0.404</td>\n      <td>0.574</td>\n      <td>0.542</td>\n      <td>12.7</td>\n      <td>24.9</td>\n      <td>0.186</td>\n      <td>0.538</td>\n      <td>12.9</td>\n      <td>77.9</td>\n      <td>0.212</td>\n    </tr>\n    <tr>\n      <th>14</th>\n      <td>Sacramento Kings</td>\n      <td>42.7</td>\n      <td>88.5</td>\n      <td>0.482</td>\n      <td>12.0</td>\n      <td>33.0</td>\n      <td>0.365</td>\n      <td>30.6</td>\n      <td>55.5</td>\n      <td>0.552</td>\n      <td>...</td>\n      <td>0.373</td>\n      <td>0.581</td>\n      <td>0.551</td>\n      <td>11.9</td>\n      <td>21.5</td>\n      <td>0.191</td>\n      <td>0.565</td>\n      <td>11.9</td>\n      <td>74.8</td>\n      <td>0.197</td>\n    </tr>\n    <tr>\n      <th>15</th>\n      <td>Philadelphia 76ers</td>\n      <td>41.4</td>\n      <td>86.9</td>\n      <td>0.476</td>\n      <td>11.1</td>\n      <td>29.9</td>\n      <td>0.371</td>\n      <td>30.3</td>\n      <td>56.9</td>\n      <td>0.531</td>\n      <td>...</td>\n      <td>0.345</td>\n      <td>0.578</td>\n      <td>0.540</td>\n      <td>13.0</td>\n      <td>23.5</td>\n      <td>0.229</td>\n      <td>0.522</td>\n      <td>13.9</td>\n      <td>78.7</td>\n      <td>0.202</td>\n    </tr>\n    <tr>\n      <th>16</th>\n      <td>Toronto Raptors</td>\n      <td>39.7</td>\n      <td>88.2</td>\n      <td>0.450</td>\n      <td>14.7</td>\n      <td>39.7</td>\n      <td>0.371</td>\n      <td>24.9</td>\n      <td>48.5</td>\n      <td>0.514</td>\n      <td>...</td>\n      <td>0.450</td>\n      <td>0.572</td>\n      <td>0.533</td>\n      <td>12.0</td>\n      <td>20.7</td>\n      <td>0.199</td>\n      <td>0.540</td>\n      <td>14.5</td>\n      <td>76.1</td>\n      <td>0.235</td>\n    </tr>\n    <tr>\n      <th>17</th>\n      <td>Memphis Grizzlies</td>\n      <td>42.9</td>\n      <td>92.1</td>\n      <td>0.466</td>\n      <td>11.0</td>\n      <td>31.0</td>\n      <td>0.356</td>\n      <td>31.9</td>\n      <td>61.1</td>\n      <td>0.522</td>\n      <td>...</td>\n      <td>0.337</td>\n      <td>0.559</td>\n      <td>0.526</td>\n      <td>11.5</td>\n      <td>23.9</td>\n      <td>0.177</td>\n      <td>0.536</td>\n      <td>13.4</td>\n      <td>78.8</td>\n      <td>0.200</td>\n    </tr>\n    <tr>\n      <th>18</th>\n      <td>Chicago Bulls</td>\n      <td>42.3</td>\n      <td>88.4</td>\n      <td>0.478</td>\n      <td>12.3</td>\n      <td>33.6</td>\n      <td>0.365</td>\n      <td>30.0</td>\n      <td>54.8</td>\n      <td>0.548</td>\n      <td>...</td>\n      <td>0.380</td>\n      <td>0.576</td>\n      <td>0.548</td>\n      <td>13.8</td>\n      <td>22.0</td>\n      <td>0.160</td>\n      <td>0.540</td>\n      <td>11.5</td>\n      <td>80.4</td>\n      <td>0.200</td>\n    </tr>\n    <tr>\n      <th>19</th>\n      <td>Dallas Mavericks</td>\n      <td>41.0</td>\n      <td>87.1</td>\n      <td>0.470</td>\n      <td>13.7</td>\n      <td>38.0</td>\n      <td>0.362</td>\n      <td>27.2</td>\n      <td>49.1</td>\n      <td>0.554</td>\n      <td>...</td>\n      <td>0.436</td>\n      <td>0.581</td>\n      <td>0.549</td>\n      <td>11.1</td>\n      <td>20.5</td>\n      <td>0.188</td>\n      <td>0.533</td>\n      <td>11.4</td>\n      <td>77.8</td>\n      <td>0.197</td>\n    </tr>\n    <tr>\n      <th>20</th>\n      <td>Charlotte Hornets</td>\n      <td>40.0</td>\n      <td>87.4</td>\n      <td>0.458</td>\n      <td>13.9</td>\n      <td>37.0</td>\n      <td>0.377</td>\n      <td>26.1</td>\n      <td>50.4</td>\n      <td>0.518</td>\n      <td>...</td>\n      <td>0.423</td>\n      <td>0.569</td>\n      <td>0.538</td>\n      <td>13.5</td>\n      <td>23.3</td>\n      <td>0.181</td>\n      <td>0.549</td>\n      <td>13.4</td>\n      <td>75.8</td>\n      <td>0.162</td>\n    </tr>\n    <tr>\n      <th>21</th>\n      <td>Los Angeles Lakers</td>\n      <td>40.8</td>\n      <td>86.0</td>\n      <td>0.474</td>\n      <td>11.1</td>\n      <td>31.4</td>\n      <td>0.352</td>\n      <td>29.7</td>\n      <td>54.6</td>\n      <td>0.544</td>\n      <td>...</td>\n      <td>0.365</td>\n      <td>0.570</td>\n      <td>0.538</td>\n      <td>13.8</td>\n      <td>22.5</td>\n      <td>0.198</td>\n      <td>0.524</td>\n      <td>13.8</td>\n      <td>79.4</td>\n      <td>0.179</td>\n    </tr>\n    <tr>\n      <th>22</th>\n      <td>Houston Rockets</td>\n      <td>39.0</td>\n      <td>88.4</td>\n      <td>0.441</td>\n      <td>13.4</td>\n      <td>40.0</td>\n      <td>0.335</td>\n      <td>25.6</td>\n      <td>48.4</td>\n      <td>0.530</td>\n      <td>...</td>\n      <td>0.452</td>\n      <td>0.549</td>\n      <td>0.517</td>\n      <td>13.1</td>\n      <td>19.7</td>\n      <td>0.186</td>\n      <td>0.549</td>\n      <td>13.1</td>\n      <td>77.0</td>\n      <td>0.200</td>\n    </tr>\n    <tr>\n      <th>23</th>\n      <td>San Antonio Spurs</td>\n      <td>41.7</td>\n      <td>90.1</td>\n      <td>0.462</td>\n      <td>10.3</td>\n      <td>28.9</td>\n      <td>0.356</td>\n      <td>31.4</td>\n      <td>61.2</td>\n      <td>0.513</td>\n      <td>...</td>\n      <td>0.321</td>\n      <td>0.556</td>\n      <td>0.520</td>\n      <td>10.3</td>\n      <td>20.0</td>\n      <td>0.195</td>\n      <td>0.535</td>\n      <td>11.9</td>\n      <td>77.1</td>\n      <td>0.176</td>\n    </tr>\n    <tr>\n      <th>24</th>\n      <td>Detroit Pistons</td>\n      <td>38.6</td>\n      <td>85.8</td>\n      <td>0.450</td>\n      <td>11.8</td>\n      <td>33.1</td>\n      <td>0.355</td>\n      <td>26.8</td>\n      <td>52.7</td>\n      <td>0.509</td>\n      <td>...</td>\n      <td>0.386</td>\n      <td>0.556</td>\n      <td>0.518</td>\n      <td>13.4</td>\n      <td>22.3</td>\n      <td>0.212</td>\n      <td>0.541</td>\n      <td>12.8</td>\n      <td>76.8</td>\n      <td>0.198</td>\n    </tr>\n    <tr>\n      <th>25</th>\n      <td>Miami Heat</td>\n      <td>38.6</td>\n      <td>83.5</td>\n      <td>0.463</td>\n      <td>12.7</td>\n      <td>36.1</td>\n      <td>0.350</td>\n      <td>26.0</td>\n      <td>47.4</td>\n      <td>0.548</td>\n      <td>...</td>\n      <td>0.432</td>\n      <td>0.575</td>\n      <td>0.538</td>\n      <td>13.2</td>\n      <td>19.2</td>\n      <td>0.201</td>\n      <td>0.537</td>\n      <td>14.0</td>\n      <td>77.5</td>\n      <td>0.182</td>\n    </tr>\n    <tr>\n      <th>26</th>\n      <td>New York Knicks</td>\n      <td>39.5</td>\n      <td>86.5</td>\n      <td>0.457</td>\n      <td>11.5</td>\n      <td>29.7</td>\n      <td>0.387</td>\n      <td>28.0</td>\n      <td>56.8</td>\n      <td>0.493</td>\n      <td>...</td>\n      <td>0.344</td>\n      <td>0.558</td>\n      <td>0.523</td>\n      <td>12.1</td>\n      <td>22.9</td>\n      <td>0.191</td>\n      <td>0.514</td>\n      <td>11.8</td>\n      <td>79.0</td>\n      <td>0.194</td>\n    </tr>\n    <tr>\n      <th>27</th>\n      <td>Oklahoma City Thunder</td>\n      <td>38.8</td>\n      <td>87.8</td>\n      <td>0.442</td>\n      <td>12.2</td>\n      <td>35.7</td>\n      <td>0.342</td>\n      <td>26.6</td>\n      <td>52.1</td>\n      <td>0.510</td>\n      <td>...</td>\n      <td>0.406</td>\n      <td>0.542</td>\n      <td>0.511</td>\n      <td>14.5</td>\n      <td>20.8</td>\n      <td>0.176</td>\n      <td>0.544</td>\n      <td>11.5</td>\n      <td>77.8</td>\n      <td>0.166</td>\n    </tr>\n    <tr>\n      <th>28</th>\n      <td>Orlando Magic</td>\n      <td>38.4</td>\n      <td>89.3</td>\n      <td>0.430</td>\n      <td>11.1</td>\n      <td>32.0</td>\n      <td>0.346</td>\n      <td>27.3</td>\n      <td>57.3</td>\n      <td>0.477</td>\n      <td>...</td>\n      <td>0.359</td>\n      <td>0.528</td>\n      <td>0.492</td>\n      <td>11.5</td>\n      <td>21.5</td>\n      <td>0.181</td>\n      <td>0.547</td>\n      <td>11.8</td>\n      <td>78.5</td>\n      <td>0.167</td>\n    </tr>\n    <tr>\n      <th>29</th>\n      <td>Cleveland Cavaliers</td>\n      <td>38.9</td>\n      <td>85.7</td>\n      <td>0.454</td>\n      <td>9.9</td>\n      <td>29.3</td>\n      <td>0.338</td>\n      <td>29.0</td>\n      <td>56.3</td>\n      <td>0.514</td>\n      <td>...</td>\n      <td>0.342</td>\n      <td>0.545</td>\n      <td>0.512</td>\n      <td>14.0</td>\n      <td>23.7</td>\n      <td>0.189</td>\n      <td>0.554</td>\n      <td>13.5</td>\n      <td>76.4</td>\n      <td>0.185</td>\n    </tr>\n  </tbody>\n</table>\n<p>30 rows × 65 columns</p>\n</div>"
     },
     "metadata": {},
     "execution_count": 3
    }
   ],
   "source": [
    "pwd = os.getcwd()\n",
    "team_stats = pd.read_csv(pwd + \"/team_year_stats.csv\")\n",
    "team_stats"
   ]
  },
  {
   "cell_type": "code",
   "execution_count": 4,
   "metadata": {},
   "outputs": [
    {
     "output_type": "execute_result",
     "data": {
      "text/plain": [
       "Index(['Team', 'FG', 'FGA', 'FG%', '3P', '3PA', '3P%', '2P', '2PA', '2P%',\n",
       "       'FT', 'FTA', 'FT%', 'ORB', 'DRB', 'TRB', 'AST', 'STL', 'BLK', 'TOV',\n",
       "       'PF', 'PTS', 'FG_opponent', 'FGA_opponent', 'FG%_opponent',\n",
       "       '3P_opponent', '3PA_opponent', '3P%_opponent', '2P_opponent',\n",
       "       '2PA_opponent', '2P%_opponent', 'FT_opponent', 'FTA_opponent',\n",
       "       'FT%_opponent', 'ORB_opponent', 'DRB_opponent', 'TRB_opponent',\n",
       "       'AST_opponent', 'STL_opponent', 'BLK_opponent', 'TOV_opponent',\n",
       "       'PF_opponent', 'PTS_opponent', 'W', 'L', 'PW', 'PL', 'MOV', 'SOS',\n",
       "       'SRS', 'ORtg', 'DRtg', 'NRtg', 'Pace', 'FTr', '3PAr', 'TS%', 'eFG%',\n",
       "       'TOV%', 'ORB%', 'FT/FGA', 'opponent_eFG%', 'opponent_TOV%', 'DRB%',\n",
       "       'opponent_FT/FGA'],\n",
       "      dtype='object')"
      ]
     },
     "metadata": {},
     "execution_count": 4
    }
   ],
   "source": [
    "team_stats.columns"
   ]
  },
  {
   "cell_type": "code",
   "execution_count": 5,
   "metadata": {},
   "outputs": [
    {
     "output_type": "execute_result",
     "data": {
      "text/plain": [
       "     Home/Away Winner\n",
       "0                Home\n",
       "1             Visitor\n",
       "2                Home\n",
       "3                Home\n",
       "4                Home\n",
       "...               ...\n",
       "1006          Visitor\n",
       "1007          Visitor\n",
       "1008             Home\n",
       "1009             Home\n",
       "1010             Home\n",
       "\n",
       "[1011 rows x 1 columns]"
      ],
      "text/html": "<div>\n<style scoped>\n    .dataframe tbody tr th:only-of-type {\n        vertical-align: middle;\n    }\n\n    .dataframe tbody tr th {\n        vertical-align: top;\n    }\n\n    .dataframe thead th {\n        text-align: right;\n    }\n</style>\n<table border=\"1\" class=\"dataframe\">\n  <thead>\n    <tr style=\"text-align: right;\">\n      <th></th>\n      <th>Home/Away Winner</th>\n    </tr>\n  </thead>\n  <tbody>\n    <tr>\n      <th>0</th>\n      <td>Home</td>\n    </tr>\n    <tr>\n      <th>1</th>\n      <td>Visitor</td>\n    </tr>\n    <tr>\n      <th>2</th>\n      <td>Home</td>\n    </tr>\n    <tr>\n      <th>3</th>\n      <td>Home</td>\n    </tr>\n    <tr>\n      <th>4</th>\n      <td>Home</td>\n    </tr>\n    <tr>\n      <th>...</th>\n      <td>...</td>\n    </tr>\n    <tr>\n      <th>1006</th>\n      <td>Visitor</td>\n    </tr>\n    <tr>\n      <th>1007</th>\n      <td>Visitor</td>\n    </tr>\n    <tr>\n      <th>1008</th>\n      <td>Home</td>\n    </tr>\n    <tr>\n      <th>1009</th>\n      <td>Home</td>\n    </tr>\n    <tr>\n      <th>1010</th>\n      <td>Home</td>\n    </tr>\n  </tbody>\n</table>\n<p>1011 rows × 1 columns</p>\n</div>"
     },
     "metadata": {},
     "execution_count": 5
    }
   ],
   "source": [
    "model_data = game_schedule\n",
    "model_data.drop(columns=[\"Date\", \"Visitor/Neutral\", \"Away_PTS\", \"Home/Neutral\", \"Home_PTS\", \"Winning Team\", \"Margin of Victory\"], inplace=True)\n",
    "model_data"
   ]
  },
  {
   "cell_type": "code",
   "execution_count": null,
   "metadata": {},
   "outputs": [],
   "source": [
    "home_efg = []\n",
    "home_to = []\n",
    "home_orb = []\n",
    "home_ftr = []\n",
    "\n"
   ]
  }
 ]
}