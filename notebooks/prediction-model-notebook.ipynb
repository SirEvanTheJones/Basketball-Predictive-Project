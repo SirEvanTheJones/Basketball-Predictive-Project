{
 "metadata": {
  "language_info": {
   "codemirror_mode": {
    "name": "ipython",
    "version": 3
   },
   "file_extension": ".py",
   "mimetype": "text/x-python",
   "name": "python",
   "nbconvert_exporter": "python",
   "pygments_lexer": "ipython3",
   "version": "3.9.2"
  },
  "orig_nbformat": 2,
  "kernelspec": {
   "name": "python3",
   "display_name": "Python 3.9.2 64-bit ('3.9')",
   "metadata": {
    "interpreter": {
     "hash": "7812ea015bdcee6f23a998adcdd2ef97c151c0c241b7b7070987d9313e41299d"
    }
   }
  }
 },
 "nbformat": 4,
 "nbformat_minor": 2,
 "cells": [
  {
   "cell_type": "code",
   "execution_count": 1,
   "metadata": {},
   "outputs": [],
   "source": [
    "import pandas as pd\n",
    "import numpy as np\n",
    "import matplotlib.pyplot as plt\n",
    "import seaborn as sns\n",
    "import os"
   ]
  },
  {
   "cell_type": "code",
   "execution_count": 2,
   "metadata": {},
   "outputs": [
    {
     "output_type": "execute_result",
     "data": {
      "text/plain": [
       "                   Date        Visitor/Neutral  Away_PTS  \\\n",
       "0     Tue, Dec 22, 2020  Golden State Warriors      99.0   \n",
       "1     Tue, Dec 22, 2020   Los Angeles Clippers     116.0   \n",
       "2     Wed, Dec 23, 2020      Charlotte Hornets     114.0   \n",
       "3     Wed, Dec 23, 2020        New York Knicks     107.0   \n",
       "4     Wed, Dec 23, 2020             Miami Heat     107.0   \n",
       "...                 ...                    ...       ...   \n",
       "1006   Sat, May 8, 2021      Memphis Grizzlies     109.0   \n",
       "1007   Sat, May 8, 2021          Brooklyn Nets     125.0   \n",
       "1008   Sat, May 8, 2021  Oklahoma City Thunder      97.0   \n",
       "1009   Sat, May 8, 2021      San Antonio Spurs     102.0   \n",
       "1010   Sat, May 8, 2021        Houston Rockets     116.0   \n",
       "\n",
       "                Home/Neutral  Home_PTS Home/Away Winner  \\\n",
       "0              Brooklyn Nets     125.0             Home   \n",
       "1         Los Angeles Lakers     109.0          Visitor   \n",
       "2        Cleveland Cavaliers     121.0             Home   \n",
       "3             Indiana Pacers     121.0             Home   \n",
       "4              Orlando Magic     113.0             Home   \n",
       "...                      ...       ...              ...   \n",
       "1006         Toronto Raptors      99.0          Visitor   \n",
       "1007          Denver Nuggets     119.0          Visitor   \n",
       "1008   Golden State Warriors     136.0             Home   \n",
       "1009  Portland Trail Blazers     124.0             Home   \n",
       "1010               Utah Jazz     124.0             Home   \n",
       "\n",
       "                Winning Team  Margin of Victory  \n",
       "0              Brooklyn Nets               26.0  \n",
       "1       Los Angeles Clippers                7.0  \n",
       "2        Cleveland Cavaliers                7.0  \n",
       "3             Indiana Pacers               14.0  \n",
       "4              Orlando Magic                6.0  \n",
       "...                      ...                ...  \n",
       "1006       Memphis Grizzlies               10.0  \n",
       "1007           Brooklyn Nets                6.0  \n",
       "1008   Golden State Warriors               39.0  \n",
       "1009  Portland Trail Blazers               22.0  \n",
       "1010               Utah Jazz                8.0  \n",
       "\n",
       "[1011 rows x 8 columns]"
      ],
      "text/html": "<div>\n<style scoped>\n    .dataframe tbody tr th:only-of-type {\n        vertical-align: middle;\n    }\n\n    .dataframe tbody tr th {\n        vertical-align: top;\n    }\n\n    .dataframe thead th {\n        text-align: right;\n    }\n</style>\n<table border=\"1\" class=\"dataframe\">\n  <thead>\n    <tr style=\"text-align: right;\">\n      <th></th>\n      <th>Date</th>\n      <th>Visitor/Neutral</th>\n      <th>Away_PTS</th>\n      <th>Home/Neutral</th>\n      <th>Home_PTS</th>\n      <th>Home/Away Winner</th>\n      <th>Winning Team</th>\n      <th>Margin of Victory</th>\n    </tr>\n  </thead>\n  <tbody>\n    <tr>\n      <th>0</th>\n      <td>Tue, Dec 22, 2020</td>\n      <td>Golden State Warriors</td>\n      <td>99.0</td>\n      <td>Brooklyn Nets</td>\n      <td>125.0</td>\n      <td>Home</td>\n      <td>Brooklyn Nets</td>\n      <td>26.0</td>\n    </tr>\n    <tr>\n      <th>1</th>\n      <td>Tue, Dec 22, 2020</td>\n      <td>Los Angeles Clippers</td>\n      <td>116.0</td>\n      <td>Los Angeles Lakers</td>\n      <td>109.0</td>\n      <td>Visitor</td>\n      <td>Los Angeles Clippers</td>\n      <td>7.0</td>\n    </tr>\n    <tr>\n      <th>2</th>\n      <td>Wed, Dec 23, 2020</td>\n      <td>Charlotte Hornets</td>\n      <td>114.0</td>\n      <td>Cleveland Cavaliers</td>\n      <td>121.0</td>\n      <td>Home</td>\n      <td>Cleveland Cavaliers</td>\n      <td>7.0</td>\n    </tr>\n    <tr>\n      <th>3</th>\n      <td>Wed, Dec 23, 2020</td>\n      <td>New York Knicks</td>\n      <td>107.0</td>\n      <td>Indiana Pacers</td>\n      <td>121.0</td>\n      <td>Home</td>\n      <td>Indiana Pacers</td>\n      <td>14.0</td>\n    </tr>\n    <tr>\n      <th>4</th>\n      <td>Wed, Dec 23, 2020</td>\n      <td>Miami Heat</td>\n      <td>107.0</td>\n      <td>Orlando Magic</td>\n      <td>113.0</td>\n      <td>Home</td>\n      <td>Orlando Magic</td>\n      <td>6.0</td>\n    </tr>\n    <tr>\n      <th>...</th>\n      <td>...</td>\n      <td>...</td>\n      <td>...</td>\n      <td>...</td>\n      <td>...</td>\n      <td>...</td>\n      <td>...</td>\n      <td>...</td>\n    </tr>\n    <tr>\n      <th>1006</th>\n      <td>Sat, May 8, 2021</td>\n      <td>Memphis Grizzlies</td>\n      <td>109.0</td>\n      <td>Toronto Raptors</td>\n      <td>99.0</td>\n      <td>Visitor</td>\n      <td>Memphis Grizzlies</td>\n      <td>10.0</td>\n    </tr>\n    <tr>\n      <th>1007</th>\n      <td>Sat, May 8, 2021</td>\n      <td>Brooklyn Nets</td>\n      <td>125.0</td>\n      <td>Denver Nuggets</td>\n      <td>119.0</td>\n      <td>Visitor</td>\n      <td>Brooklyn Nets</td>\n      <td>6.0</td>\n    </tr>\n    <tr>\n      <th>1008</th>\n      <td>Sat, May 8, 2021</td>\n      <td>Oklahoma City Thunder</td>\n      <td>97.0</td>\n      <td>Golden State Warriors</td>\n      <td>136.0</td>\n      <td>Home</td>\n      <td>Golden State Warriors</td>\n      <td>39.0</td>\n    </tr>\n    <tr>\n      <th>1009</th>\n      <td>Sat, May 8, 2021</td>\n      <td>San Antonio Spurs</td>\n      <td>102.0</td>\n      <td>Portland Trail Blazers</td>\n      <td>124.0</td>\n      <td>Home</td>\n      <td>Portland Trail Blazers</td>\n      <td>22.0</td>\n    </tr>\n    <tr>\n      <th>1010</th>\n      <td>Sat, May 8, 2021</td>\n      <td>Houston Rockets</td>\n      <td>116.0</td>\n      <td>Utah Jazz</td>\n      <td>124.0</td>\n      <td>Home</td>\n      <td>Utah Jazz</td>\n      <td>8.0</td>\n    </tr>\n  </tbody>\n</table>\n<p>1011 rows × 8 columns</p>\n</div>"
     },
     "metadata": {},
     "execution_count": 2
    }
   ],
   "source": [
    "pwd = os.getcwd()\n",
    "game_schedule = pd.read_csv(pwd + \"/../datasets/full_schedule.csv\")\n",
    "game_schedule"
   ]
  },
  {
   "cell_type": "code",
   "execution_count": 3,
   "metadata": {},
   "outputs": [
    {
     "output_type": "execute_result",
     "data": {
      "text/plain": [
       "                      Team    FG%    3P%  BLK_opponent    MOV   SRS   ORtg  \\\n",
       "0            Brooklyn Nets  0.493  0.388           4.6   4.42  4.05  118.3   \n",
       "1          Milwaukee Bucks  0.486  0.392           4.9   6.32  6.18  116.7   \n",
       "2                Utah Jazz  0.467  0.391           3.9   9.06  9.01  117.5   \n",
       "3     Los Angeles Clippers  0.482  0.416           4.1   6.03  6.04  117.9   \n",
       "4           Denver Nuggets  0.488  0.380           4.3   5.36  5.09  117.5   \n",
       "5     New Orleans Pelicans  0.482  0.351           5.7   0.42  0.33  114.5   \n",
       "6       Washington Wizards  0.473  0.350           4.8  -2.53 -2.48  110.4   \n",
       "7            Atlanta Hawks  0.462  0.370           5.1   1.17  1.27  114.7   \n",
       "8   Portland Trail Blazers  0.448  0.380           4.8   0.51  0.41  116.8   \n",
       "9   Minnesota Timberwolves  0.445  0.350           5.7  -6.55 -6.16  108.7   \n",
       "10   Golden State Warriors  0.465  0.374           4.5  -0.28 -0.16  110.1   \n",
       "11          Indiana Pacers  0.471  0.361           5.3   0.02 -0.04  112.1   \n",
       "12            Phoenix Suns  0.489  0.373           3.6   6.16  6.15  116.4   \n",
       "13          Boston Celtics  0.466  0.372           4.6   1.73  1.93  114.0   \n",
       "14        Sacramento Kings  0.482  0.365           4.6  -4.73 -4.19  114.2   \n",
       "15      Philadelphia 76ers  0.476  0.371           4.6   5.35  5.51  112.8   \n",
       "16         Toronto Raptors  0.450  0.371           5.7   0.36  0.07  112.5   \n",
       "17       Memphis Grizzlies  0.466  0.356           5.3   0.94  1.18  111.7   \n",
       "18           Chicago Bulls  0.478  0.365           5.0  -1.61 -1.85  110.9   \n",
       "19        Dallas Mavericks  0.470  0.362           3.8   2.10  2.38  115.0   \n",
       "20       Charlotte Hornets  0.458  0.377           4.7  -1.22 -1.18  111.2   \n",
       "21      Los Angeles Lakers  0.474  0.352           4.5   3.13  2.87  109.9   \n",
       "22         Houston Rockets  0.441  0.335           5.3  -7.39 -7.48  106.3   \n",
       "23       San Antonio Spurs  0.462  0.356           5.1  -0.53 -1.11  111.3   \n",
       "24         Detroit Pistons  0.450  0.355           6.0  -3.98 -3.78  108.4   \n",
       "25              Miami Heat  0.463  0.350           4.1  -0.44 -0.58  109.9   \n",
       "26         New York Knicks  0.457  0.387           5.6   2.30  1.93  110.8   \n",
       "27   Oklahoma City Thunder  0.442  0.342           5.2 -10.06 -9.66  103.5   \n",
       "28           Orlando Magic  0.430  0.346           5.3  -8.25 -8.08  105.3   \n",
       "29     Cleveland Cavaliers  0.454  0.338           5.5  -7.48 -7.43  106.0   \n",
       "\n",
       "    NRtg    TS%   eFG%  \n",
       "0    4.4  0.608  0.573  \n",
       "1    6.1  0.593  0.565  \n",
       "2    9.2  0.596  0.563  \n",
       "3    6.2  0.599  0.564  \n",
       "4    5.4  0.591  0.561  \n",
       "5    0.4  0.576  0.543  \n",
       "6   -2.4  0.568  0.530  \n",
       "7    1.1  0.576  0.533  \n",
       "8    0.5  0.572  0.534  \n",
       "9   -6.4  0.552  0.517  \n",
       "10  -0.3  0.578  0.546  \n",
       "11   0.0  0.573  0.540  \n",
       "12   6.3  0.594  0.562  \n",
       "13   1.8  0.574  0.542  \n",
       "14  -4.8  0.581  0.551  \n",
       "15   5.3  0.578  0.540  \n",
       "16   0.4  0.572  0.533  \n",
       "17   1.0  0.559  0.526  \n",
       "18  -1.6  0.576  0.548  \n",
       "19   2.2  0.581  0.549  \n",
       "20  -1.3  0.569  0.538  \n",
       "21   3.1  0.570  0.538  \n",
       "22  -7.3  0.549  0.517  \n",
       "23  -0.5  0.556  0.520  \n",
       "24  -4.0  0.556  0.518  \n",
       "25  -0.5  0.575  0.538  \n",
       "26   2.4  0.558  0.523  \n",
       "27  -9.9  0.542  0.511  \n",
       "28  -8.4  0.528  0.492  \n",
       "29  -7.6  0.545  0.512  "
      ],
      "text/html": "<div>\n<style scoped>\n    .dataframe tbody tr th:only-of-type {\n        vertical-align: middle;\n    }\n\n    .dataframe tbody tr th {\n        vertical-align: top;\n    }\n\n    .dataframe thead th {\n        text-align: right;\n    }\n</style>\n<table border=\"1\" class=\"dataframe\">\n  <thead>\n    <tr style=\"text-align: right;\">\n      <th></th>\n      <th>Team</th>\n      <th>FG%</th>\n      <th>3P%</th>\n      <th>BLK_opponent</th>\n      <th>MOV</th>\n      <th>SRS</th>\n      <th>ORtg</th>\n      <th>NRtg</th>\n      <th>TS%</th>\n      <th>eFG%</th>\n    </tr>\n  </thead>\n  <tbody>\n    <tr>\n      <th>0</th>\n      <td>Brooklyn Nets</td>\n      <td>0.493</td>\n      <td>0.388</td>\n      <td>4.6</td>\n      <td>4.42</td>\n      <td>4.05</td>\n      <td>118.3</td>\n      <td>4.4</td>\n      <td>0.608</td>\n      <td>0.573</td>\n    </tr>\n    <tr>\n      <th>1</th>\n      <td>Milwaukee Bucks</td>\n      <td>0.486</td>\n      <td>0.392</td>\n      <td>4.9</td>\n      <td>6.32</td>\n      <td>6.18</td>\n      <td>116.7</td>\n      <td>6.1</td>\n      <td>0.593</td>\n      <td>0.565</td>\n    </tr>\n    <tr>\n      <th>2</th>\n      <td>Utah Jazz</td>\n      <td>0.467</td>\n      <td>0.391</td>\n      <td>3.9</td>\n      <td>9.06</td>\n      <td>9.01</td>\n      <td>117.5</td>\n      <td>9.2</td>\n      <td>0.596</td>\n      <td>0.563</td>\n    </tr>\n    <tr>\n      <th>3</th>\n      <td>Los Angeles Clippers</td>\n      <td>0.482</td>\n      <td>0.416</td>\n      <td>4.1</td>\n      <td>6.03</td>\n      <td>6.04</td>\n      <td>117.9</td>\n      <td>6.2</td>\n      <td>0.599</td>\n      <td>0.564</td>\n    </tr>\n    <tr>\n      <th>4</th>\n      <td>Denver Nuggets</td>\n      <td>0.488</td>\n      <td>0.380</td>\n      <td>4.3</td>\n      <td>5.36</td>\n      <td>5.09</td>\n      <td>117.5</td>\n      <td>5.4</td>\n      <td>0.591</td>\n      <td>0.561</td>\n    </tr>\n    <tr>\n      <th>5</th>\n      <td>New Orleans Pelicans</td>\n      <td>0.482</td>\n      <td>0.351</td>\n      <td>5.7</td>\n      <td>0.42</td>\n      <td>0.33</td>\n      <td>114.5</td>\n      <td>0.4</td>\n      <td>0.576</td>\n      <td>0.543</td>\n    </tr>\n    <tr>\n      <th>6</th>\n      <td>Washington Wizards</td>\n      <td>0.473</td>\n      <td>0.350</td>\n      <td>4.8</td>\n      <td>-2.53</td>\n      <td>-2.48</td>\n      <td>110.4</td>\n      <td>-2.4</td>\n      <td>0.568</td>\n      <td>0.530</td>\n    </tr>\n    <tr>\n      <th>7</th>\n      <td>Atlanta Hawks</td>\n      <td>0.462</td>\n      <td>0.370</td>\n      <td>5.1</td>\n      <td>1.17</td>\n      <td>1.27</td>\n      <td>114.7</td>\n      <td>1.1</td>\n      <td>0.576</td>\n      <td>0.533</td>\n    </tr>\n    <tr>\n      <th>8</th>\n      <td>Portland Trail Blazers</td>\n      <td>0.448</td>\n      <td>0.380</td>\n      <td>4.8</td>\n      <td>0.51</td>\n      <td>0.41</td>\n      <td>116.8</td>\n      <td>0.5</td>\n      <td>0.572</td>\n      <td>0.534</td>\n    </tr>\n    <tr>\n      <th>9</th>\n      <td>Minnesota Timberwolves</td>\n      <td>0.445</td>\n      <td>0.350</td>\n      <td>5.7</td>\n      <td>-6.55</td>\n      <td>-6.16</td>\n      <td>108.7</td>\n      <td>-6.4</td>\n      <td>0.552</td>\n      <td>0.517</td>\n    </tr>\n    <tr>\n      <th>10</th>\n      <td>Golden State Warriors</td>\n      <td>0.465</td>\n      <td>0.374</td>\n      <td>4.5</td>\n      <td>-0.28</td>\n      <td>-0.16</td>\n      <td>110.1</td>\n      <td>-0.3</td>\n      <td>0.578</td>\n      <td>0.546</td>\n    </tr>\n    <tr>\n      <th>11</th>\n      <td>Indiana Pacers</td>\n      <td>0.471</td>\n      <td>0.361</td>\n      <td>5.3</td>\n      <td>0.02</td>\n      <td>-0.04</td>\n      <td>112.1</td>\n      <td>0.0</td>\n      <td>0.573</td>\n      <td>0.540</td>\n    </tr>\n    <tr>\n      <th>12</th>\n      <td>Phoenix Suns</td>\n      <td>0.489</td>\n      <td>0.373</td>\n      <td>3.6</td>\n      <td>6.16</td>\n      <td>6.15</td>\n      <td>116.4</td>\n      <td>6.3</td>\n      <td>0.594</td>\n      <td>0.562</td>\n    </tr>\n    <tr>\n      <th>13</th>\n      <td>Boston Celtics</td>\n      <td>0.466</td>\n      <td>0.372</td>\n      <td>4.6</td>\n      <td>1.73</td>\n      <td>1.93</td>\n      <td>114.0</td>\n      <td>1.8</td>\n      <td>0.574</td>\n      <td>0.542</td>\n    </tr>\n    <tr>\n      <th>14</th>\n      <td>Sacramento Kings</td>\n      <td>0.482</td>\n      <td>0.365</td>\n      <td>4.6</td>\n      <td>-4.73</td>\n      <td>-4.19</td>\n      <td>114.2</td>\n      <td>-4.8</td>\n      <td>0.581</td>\n      <td>0.551</td>\n    </tr>\n    <tr>\n      <th>15</th>\n      <td>Philadelphia 76ers</td>\n      <td>0.476</td>\n      <td>0.371</td>\n      <td>4.6</td>\n      <td>5.35</td>\n      <td>5.51</td>\n      <td>112.8</td>\n      <td>5.3</td>\n      <td>0.578</td>\n      <td>0.540</td>\n    </tr>\n    <tr>\n      <th>16</th>\n      <td>Toronto Raptors</td>\n      <td>0.450</td>\n      <td>0.371</td>\n      <td>5.7</td>\n      <td>0.36</td>\n      <td>0.07</td>\n      <td>112.5</td>\n      <td>0.4</td>\n      <td>0.572</td>\n      <td>0.533</td>\n    </tr>\n    <tr>\n      <th>17</th>\n      <td>Memphis Grizzlies</td>\n      <td>0.466</td>\n      <td>0.356</td>\n      <td>5.3</td>\n      <td>0.94</td>\n      <td>1.18</td>\n      <td>111.7</td>\n      <td>1.0</td>\n      <td>0.559</td>\n      <td>0.526</td>\n    </tr>\n    <tr>\n      <th>18</th>\n      <td>Chicago Bulls</td>\n      <td>0.478</td>\n      <td>0.365</td>\n      <td>5.0</td>\n      <td>-1.61</td>\n      <td>-1.85</td>\n      <td>110.9</td>\n      <td>-1.6</td>\n      <td>0.576</td>\n      <td>0.548</td>\n    </tr>\n    <tr>\n      <th>19</th>\n      <td>Dallas Mavericks</td>\n      <td>0.470</td>\n      <td>0.362</td>\n      <td>3.8</td>\n      <td>2.10</td>\n      <td>2.38</td>\n      <td>115.0</td>\n      <td>2.2</td>\n      <td>0.581</td>\n      <td>0.549</td>\n    </tr>\n    <tr>\n      <th>20</th>\n      <td>Charlotte Hornets</td>\n      <td>0.458</td>\n      <td>0.377</td>\n      <td>4.7</td>\n      <td>-1.22</td>\n      <td>-1.18</td>\n      <td>111.2</td>\n      <td>-1.3</td>\n      <td>0.569</td>\n      <td>0.538</td>\n    </tr>\n    <tr>\n      <th>21</th>\n      <td>Los Angeles Lakers</td>\n      <td>0.474</td>\n      <td>0.352</td>\n      <td>4.5</td>\n      <td>3.13</td>\n      <td>2.87</td>\n      <td>109.9</td>\n      <td>3.1</td>\n      <td>0.570</td>\n      <td>0.538</td>\n    </tr>\n    <tr>\n      <th>22</th>\n      <td>Houston Rockets</td>\n      <td>0.441</td>\n      <td>0.335</td>\n      <td>5.3</td>\n      <td>-7.39</td>\n      <td>-7.48</td>\n      <td>106.3</td>\n      <td>-7.3</td>\n      <td>0.549</td>\n      <td>0.517</td>\n    </tr>\n    <tr>\n      <th>23</th>\n      <td>San Antonio Spurs</td>\n      <td>0.462</td>\n      <td>0.356</td>\n      <td>5.1</td>\n      <td>-0.53</td>\n      <td>-1.11</td>\n      <td>111.3</td>\n      <td>-0.5</td>\n      <td>0.556</td>\n      <td>0.520</td>\n    </tr>\n    <tr>\n      <th>24</th>\n      <td>Detroit Pistons</td>\n      <td>0.450</td>\n      <td>0.355</td>\n      <td>6.0</td>\n      <td>-3.98</td>\n      <td>-3.78</td>\n      <td>108.4</td>\n      <td>-4.0</td>\n      <td>0.556</td>\n      <td>0.518</td>\n    </tr>\n    <tr>\n      <th>25</th>\n      <td>Miami Heat</td>\n      <td>0.463</td>\n      <td>0.350</td>\n      <td>4.1</td>\n      <td>-0.44</td>\n      <td>-0.58</td>\n      <td>109.9</td>\n      <td>-0.5</td>\n      <td>0.575</td>\n      <td>0.538</td>\n    </tr>\n    <tr>\n      <th>26</th>\n      <td>New York Knicks</td>\n      <td>0.457</td>\n      <td>0.387</td>\n      <td>5.6</td>\n      <td>2.30</td>\n      <td>1.93</td>\n      <td>110.8</td>\n      <td>2.4</td>\n      <td>0.558</td>\n      <td>0.523</td>\n    </tr>\n    <tr>\n      <th>27</th>\n      <td>Oklahoma City Thunder</td>\n      <td>0.442</td>\n      <td>0.342</td>\n      <td>5.2</td>\n      <td>-10.06</td>\n      <td>-9.66</td>\n      <td>103.5</td>\n      <td>-9.9</td>\n      <td>0.542</td>\n      <td>0.511</td>\n    </tr>\n    <tr>\n      <th>28</th>\n      <td>Orlando Magic</td>\n      <td>0.430</td>\n      <td>0.346</td>\n      <td>5.3</td>\n      <td>-8.25</td>\n      <td>-8.08</td>\n      <td>105.3</td>\n      <td>-8.4</td>\n      <td>0.528</td>\n      <td>0.492</td>\n    </tr>\n    <tr>\n      <th>29</th>\n      <td>Cleveland Cavaliers</td>\n      <td>0.454</td>\n      <td>0.338</td>\n      <td>5.5</td>\n      <td>-7.48</td>\n      <td>-7.43</td>\n      <td>106.0</td>\n      <td>-7.6</td>\n      <td>0.545</td>\n      <td>0.512</td>\n    </tr>\n  </tbody>\n</table>\n</div>"
     },
     "metadata": {},
     "execution_count": 3
    }
   ],
   "source": [
    "nine_feature_team_stats = pd.read_csv(pwd + \"/../datasets/9_relevant_team_stats.csv\")\n",
    "nine_feature_team_stats"
   ]
  },
  {
   "cell_type": "code",
   "execution_count": 89,
   "metadata": {},
   "outputs": [],
   "source": [
    "processing_data = game_schedule"
   ]
  },
  {
   "cell_type": "code",
   "execution_count": 90,
   "metadata": {},
   "outputs": [
    {
     "output_type": "execute_result",
     "data": {
      "text/plain": [
       "1011"
      ]
     },
     "metadata": {},
     "execution_count": 90
    }
   ],
   "source": [
    "away_fg = []\n",
    "away_3p = []\n",
    "away_blk_opponent = []\n",
    "away_mov = []\n",
    "away_srs = []\n",
    "away_ortg = []\n",
    "away_nrtg = []\n",
    "away_ts = []\n",
    "away_efg = []\n",
    "\n",
    "for index, row in processing_data.iterrows():\n",
    "    away_team = row[\"Visitor/Neutral\"]\n",
    "    for index1, row1 in nine_feature_team_stats.iterrows():\n",
    "        if row1[\"Team\"] == away_team:\n",
    "            away_fg.append(row1[\"FG%\"])\n",
    "            away_3p.append(row1[\"3P%\"])\n",
    "            away_blk_opponent.append(row1[\"BLK_opponent\"])\n",
    "            away_mov.append(row1[\"MOV\"])\n",
    "            away_srs.append(row1[\"SRS\"])\n",
    "            away_ortg.append(row1[\"ORtg\"])\n",
    "            away_nrtg.append(row1[\"NRtg\"])\n",
    "            away_ts.append(row1[\"TS%\"])\n",
    "            away_efg.append(row1[\"eFG%\"])\n",
    "len(away_fg)"
   ]
  },
  {
   "cell_type": "code",
   "execution_count": 91,
   "metadata": {},
   "outputs": [
    {
     "output_type": "execute_result",
     "data": {
      "text/plain": [
       "1011"
      ]
     },
     "metadata": {},
     "execution_count": 91
    }
   ],
   "source": [
    "home_fg = []\n",
    "home_3p = []\n",
    "home_blk_opponent = []\n",
    "home_mov = []\n",
    "home_srs = []\n",
    "home_ortg = []\n",
    "home_nrtg = []\n",
    "home_ts = []\n",
    "home_efg = []\n",
    "\n",
    "for index, row in processing_data.iterrows():\n",
    "    home_team = row[\"Home/Neutral\"]\n",
    "    for index1, row1 in nine_feature_team_stats.iterrows():\n",
    "        if row1[\"Team\"] == home_team:\n",
    "            home_fg.append(row1[\"FG%\"])\n",
    "            home_3p.append(row1[\"3P%\"])\n",
    "            home_blk_opponent.append(row1[\"BLK_opponent\"])\n",
    "            home_mov.append(row1[\"MOV\"])\n",
    "            home_srs.append(row1[\"SRS\"])\n",
    "            home_ortg.append(row1[\"ORtg\"])\n",
    "            home_nrtg.append(row1[\"NRtg\"])\n",
    "            home_ts.append(row1[\"TS%\"])\n",
    "            home_efg.append(row1[\"eFG%\"])\n",
    "len(home_fg)"
   ]
  },
  {
   "cell_type": "code",
   "execution_count": 92,
   "metadata": {},
   "outputs": [
    {
     "output_type": "execute_result",
     "data": {
      "text/plain": [
       "     Home/Away Winner\n",
       "0                Home\n",
       "1             Visitor\n",
       "2                Home\n",
       "3                Home\n",
       "4                Home\n",
       "...               ...\n",
       "1006          Visitor\n",
       "1007          Visitor\n",
       "1008             Home\n",
       "1009             Home\n",
       "1010             Home\n",
       "\n",
       "[1011 rows x 1 columns]"
      ],
      "text/html": "<div>\n<style scoped>\n    .dataframe tbody tr th:only-of-type {\n        vertical-align: middle;\n    }\n\n    .dataframe tbody tr th {\n        vertical-align: top;\n    }\n\n    .dataframe thead th {\n        text-align: right;\n    }\n</style>\n<table border=\"1\" class=\"dataframe\">\n  <thead>\n    <tr style=\"text-align: right;\">\n      <th></th>\n      <th>Home/Away Winner</th>\n    </tr>\n  </thead>\n  <tbody>\n    <tr>\n      <th>0</th>\n      <td>Home</td>\n    </tr>\n    <tr>\n      <th>1</th>\n      <td>Visitor</td>\n    </tr>\n    <tr>\n      <th>2</th>\n      <td>Home</td>\n    </tr>\n    <tr>\n      <th>3</th>\n      <td>Home</td>\n    </tr>\n    <tr>\n      <th>4</th>\n      <td>Home</td>\n    </tr>\n    <tr>\n      <th>...</th>\n      <td>...</td>\n    </tr>\n    <tr>\n      <th>1006</th>\n      <td>Visitor</td>\n    </tr>\n    <tr>\n      <th>1007</th>\n      <td>Visitor</td>\n    </tr>\n    <tr>\n      <th>1008</th>\n      <td>Home</td>\n    </tr>\n    <tr>\n      <th>1009</th>\n      <td>Home</td>\n    </tr>\n    <tr>\n      <th>1010</th>\n      <td>Home</td>\n    </tr>\n  </tbody>\n</table>\n<p>1011 rows × 1 columns</p>\n</div>"
     },
     "metadata": {},
     "execution_count": 92
    }
   ],
   "source": [
    " processing_data.drop(columns=[\"Date\", \"Visitor/Neutral\", \"Away_PTS\", \"Home/Neutral\", \"Home_PTS\", \"Winning Team\", \"Margin of Victory\"], inplace=True)\n",
    " processing_data"
   ]
  },
  {
   "cell_type": "code",
   "execution_count": 94,
   "metadata": {},
   "outputs": [
    {
     "output_type": "execute_result",
     "data": {
      "text/plain": [
       "     Home/Away Winner  away_FG%  away_3P%  away_opponent_BLK  away_MOV  \\\n",
       "0                Home     0.465     0.374                4.5     -0.28   \n",
       "1             Visitor     0.482     0.416                4.1      6.03   \n",
       "2                Home     0.458     0.377                4.7     -1.22   \n",
       "3                Home     0.457     0.387                5.6      2.30   \n",
       "4                Home     0.463     0.350                4.1     -0.44   \n",
       "...               ...       ...       ...                ...       ...   \n",
       "1006          Visitor     0.466     0.356                5.3      0.94   \n",
       "1007          Visitor     0.493     0.388                4.6      4.42   \n",
       "1008             Home     0.442     0.342                5.2    -10.06   \n",
       "1009             Home     0.462     0.356                5.1     -0.53   \n",
       "1010             Home     0.441     0.335                5.3     -7.39   \n",
       "\n",
       "      away_SRS  away_ORtg  away_NRtg  away_TS%  away_eFG%  home_FG%  home_3P%  \\\n",
       "0        -0.16      110.1       -0.3     0.578      0.546     0.493     0.388   \n",
       "1         6.04      117.9        6.2     0.599      0.564     0.474     0.352   \n",
       "2        -1.18      111.2       -1.3     0.569      0.538     0.454     0.338   \n",
       "3         1.93      110.8        2.4     0.558      0.523     0.471     0.361   \n",
       "4        -0.58      109.9       -0.5     0.575      0.538     0.430     0.346   \n",
       "...        ...        ...        ...       ...        ...       ...       ...   \n",
       "1006      1.18      111.7        1.0     0.559      0.526     0.450     0.371   \n",
       "1007      4.05      118.3        4.4     0.608      0.573     0.488     0.380   \n",
       "1008     -9.66      103.5       -9.9     0.542      0.511     0.465     0.374   \n",
       "1009     -1.11      111.3       -0.5     0.556      0.520     0.448     0.380   \n",
       "1010     -7.48      106.3       -7.3     0.549      0.517     0.467     0.391   \n",
       "\n",
       "      home_opponent_BLK  home_MOV  home_SRS  home_ORtg  home_NRtg  home_TS%  \\\n",
       "0                   4.6      4.42      4.05      118.3        4.4     0.608   \n",
       "1                   4.5      3.13      2.87      109.9        3.1     0.570   \n",
       "2                   5.5     -7.48     -7.43      106.0       -7.6     0.545   \n",
       "3                   5.3      0.02     -0.04      112.1        0.0     0.573   \n",
       "4                   5.3     -8.25     -8.08      105.3       -8.4     0.528   \n",
       "...                 ...       ...       ...        ...        ...       ...   \n",
       "1006                5.7      0.36      0.07      112.5        0.4     0.572   \n",
       "1007                4.3      5.36      5.09      117.5        5.4     0.591   \n",
       "1008                4.5     -0.28     -0.16      110.1       -0.3     0.578   \n",
       "1009                4.8      0.51      0.41      116.8        0.5     0.572   \n",
       "1010                3.9      9.06      9.01      117.5        9.2     0.596   \n",
       "\n",
       "      home_eFG%  \n",
       "0         0.573  \n",
       "1         0.538  \n",
       "2         0.512  \n",
       "3         0.540  \n",
       "4         0.492  \n",
       "...         ...  \n",
       "1006      0.533  \n",
       "1007      0.561  \n",
       "1008      0.546  \n",
       "1009      0.534  \n",
       "1010      0.563  \n",
       "\n",
       "[1011 rows x 19 columns]"
      ],
      "text/html": "<div>\n<style scoped>\n    .dataframe tbody tr th:only-of-type {\n        vertical-align: middle;\n    }\n\n    .dataframe tbody tr th {\n        vertical-align: top;\n    }\n\n    .dataframe thead th {\n        text-align: right;\n    }\n</style>\n<table border=\"1\" class=\"dataframe\">\n  <thead>\n    <tr style=\"text-align: right;\">\n      <th></th>\n      <th>Home/Away Winner</th>\n      <th>away_FG%</th>\n      <th>away_3P%</th>\n      <th>away_opponent_BLK</th>\n      <th>away_MOV</th>\n      <th>away_SRS</th>\n      <th>away_ORtg</th>\n      <th>away_NRtg</th>\n      <th>away_TS%</th>\n      <th>away_eFG%</th>\n      <th>home_FG%</th>\n      <th>home_3P%</th>\n      <th>home_opponent_BLK</th>\n      <th>home_MOV</th>\n      <th>home_SRS</th>\n      <th>home_ORtg</th>\n      <th>home_NRtg</th>\n      <th>home_TS%</th>\n      <th>home_eFG%</th>\n    </tr>\n  </thead>\n  <tbody>\n    <tr>\n      <th>0</th>\n      <td>Home</td>\n      <td>0.465</td>\n      <td>0.374</td>\n      <td>4.5</td>\n      <td>-0.28</td>\n      <td>-0.16</td>\n      <td>110.1</td>\n      <td>-0.3</td>\n      <td>0.578</td>\n      <td>0.546</td>\n      <td>0.493</td>\n      <td>0.388</td>\n      <td>4.6</td>\n      <td>4.42</td>\n      <td>4.05</td>\n      <td>118.3</td>\n      <td>4.4</td>\n      <td>0.608</td>\n      <td>0.573</td>\n    </tr>\n    <tr>\n      <th>1</th>\n      <td>Visitor</td>\n      <td>0.482</td>\n      <td>0.416</td>\n      <td>4.1</td>\n      <td>6.03</td>\n      <td>6.04</td>\n      <td>117.9</td>\n      <td>6.2</td>\n      <td>0.599</td>\n      <td>0.564</td>\n      <td>0.474</td>\n      <td>0.352</td>\n      <td>4.5</td>\n      <td>3.13</td>\n      <td>2.87</td>\n      <td>109.9</td>\n      <td>3.1</td>\n      <td>0.570</td>\n      <td>0.538</td>\n    </tr>\n    <tr>\n      <th>2</th>\n      <td>Home</td>\n      <td>0.458</td>\n      <td>0.377</td>\n      <td>4.7</td>\n      <td>-1.22</td>\n      <td>-1.18</td>\n      <td>111.2</td>\n      <td>-1.3</td>\n      <td>0.569</td>\n      <td>0.538</td>\n      <td>0.454</td>\n      <td>0.338</td>\n      <td>5.5</td>\n      <td>-7.48</td>\n      <td>-7.43</td>\n      <td>106.0</td>\n      <td>-7.6</td>\n      <td>0.545</td>\n      <td>0.512</td>\n    </tr>\n    <tr>\n      <th>3</th>\n      <td>Home</td>\n      <td>0.457</td>\n      <td>0.387</td>\n      <td>5.6</td>\n      <td>2.30</td>\n      <td>1.93</td>\n      <td>110.8</td>\n      <td>2.4</td>\n      <td>0.558</td>\n      <td>0.523</td>\n      <td>0.471</td>\n      <td>0.361</td>\n      <td>5.3</td>\n      <td>0.02</td>\n      <td>-0.04</td>\n      <td>112.1</td>\n      <td>0.0</td>\n      <td>0.573</td>\n      <td>0.540</td>\n    </tr>\n    <tr>\n      <th>4</th>\n      <td>Home</td>\n      <td>0.463</td>\n      <td>0.350</td>\n      <td>4.1</td>\n      <td>-0.44</td>\n      <td>-0.58</td>\n      <td>109.9</td>\n      <td>-0.5</td>\n      <td>0.575</td>\n      <td>0.538</td>\n      <td>0.430</td>\n      <td>0.346</td>\n      <td>5.3</td>\n      <td>-8.25</td>\n      <td>-8.08</td>\n      <td>105.3</td>\n      <td>-8.4</td>\n      <td>0.528</td>\n      <td>0.492</td>\n    </tr>\n    <tr>\n      <th>...</th>\n      <td>...</td>\n      <td>...</td>\n      <td>...</td>\n      <td>...</td>\n      <td>...</td>\n      <td>...</td>\n      <td>...</td>\n      <td>...</td>\n      <td>...</td>\n      <td>...</td>\n      <td>...</td>\n      <td>...</td>\n      <td>...</td>\n      <td>...</td>\n      <td>...</td>\n      <td>...</td>\n      <td>...</td>\n      <td>...</td>\n      <td>...</td>\n    </tr>\n    <tr>\n      <th>1006</th>\n      <td>Visitor</td>\n      <td>0.466</td>\n      <td>0.356</td>\n      <td>5.3</td>\n      <td>0.94</td>\n      <td>1.18</td>\n      <td>111.7</td>\n      <td>1.0</td>\n      <td>0.559</td>\n      <td>0.526</td>\n      <td>0.450</td>\n      <td>0.371</td>\n      <td>5.7</td>\n      <td>0.36</td>\n      <td>0.07</td>\n      <td>112.5</td>\n      <td>0.4</td>\n      <td>0.572</td>\n      <td>0.533</td>\n    </tr>\n    <tr>\n      <th>1007</th>\n      <td>Visitor</td>\n      <td>0.493</td>\n      <td>0.388</td>\n      <td>4.6</td>\n      <td>4.42</td>\n      <td>4.05</td>\n      <td>118.3</td>\n      <td>4.4</td>\n      <td>0.608</td>\n      <td>0.573</td>\n      <td>0.488</td>\n      <td>0.380</td>\n      <td>4.3</td>\n      <td>5.36</td>\n      <td>5.09</td>\n      <td>117.5</td>\n      <td>5.4</td>\n      <td>0.591</td>\n      <td>0.561</td>\n    </tr>\n    <tr>\n      <th>1008</th>\n      <td>Home</td>\n      <td>0.442</td>\n      <td>0.342</td>\n      <td>5.2</td>\n      <td>-10.06</td>\n      <td>-9.66</td>\n      <td>103.5</td>\n      <td>-9.9</td>\n      <td>0.542</td>\n      <td>0.511</td>\n      <td>0.465</td>\n      <td>0.374</td>\n      <td>4.5</td>\n      <td>-0.28</td>\n      <td>-0.16</td>\n      <td>110.1</td>\n      <td>-0.3</td>\n      <td>0.578</td>\n      <td>0.546</td>\n    </tr>\n    <tr>\n      <th>1009</th>\n      <td>Home</td>\n      <td>0.462</td>\n      <td>0.356</td>\n      <td>5.1</td>\n      <td>-0.53</td>\n      <td>-1.11</td>\n      <td>111.3</td>\n      <td>-0.5</td>\n      <td>0.556</td>\n      <td>0.520</td>\n      <td>0.448</td>\n      <td>0.380</td>\n      <td>4.8</td>\n      <td>0.51</td>\n      <td>0.41</td>\n      <td>116.8</td>\n      <td>0.5</td>\n      <td>0.572</td>\n      <td>0.534</td>\n    </tr>\n    <tr>\n      <th>1010</th>\n      <td>Home</td>\n      <td>0.441</td>\n      <td>0.335</td>\n      <td>5.3</td>\n      <td>-7.39</td>\n      <td>-7.48</td>\n      <td>106.3</td>\n      <td>-7.3</td>\n      <td>0.549</td>\n      <td>0.517</td>\n      <td>0.467</td>\n      <td>0.391</td>\n      <td>3.9</td>\n      <td>9.06</td>\n      <td>9.01</td>\n      <td>117.5</td>\n      <td>9.2</td>\n      <td>0.596</td>\n      <td>0.563</td>\n    </tr>\n  </tbody>\n</table>\n<p>1011 rows × 19 columns</p>\n</div>"
     },
     "metadata": {},
     "execution_count": 94
    }
   ],
   "source": [
    "processing_data[\"away_FG%\"] = away_fg\n",
    "processing_data[\"away_3P%\"] = away_3p\n",
    "processing_data[\"away_opponent_BLK\"] = away_blk_opponent\n",
    "processing_data[\"away_MOV\"] = away_mov\n",
    "processing_data[\"away_SRS\"] = away_srs\n",
    "processing_data[\"away_ORtg\"] = away_ortg\n",
    "processing_data[\"away_NRtg\"] = away_nrtg\n",
    "processing_data[\"away_TS%\"] = away_ts\n",
    "processing_data[\"away_eFG%\"] = away_efg\n",
    "\n",
    "processing_data[\"home_FG%\"] = home_fg\n",
    "processing_data[\"home_3P%\"] = home_3p\n",
    "processing_data[\"home_opponent_BLK\"] = home_blk_opponent\n",
    "processing_data[\"home_MOV\"] = home_mov\n",
    "processing_data[\"home_SRS\"] = home_srs\n",
    "processing_data[\"home_ORtg\"] = home_ortg\n",
    "processing_data[\"home_NRtg\"] = home_nrtg\n",
    "processing_data[\"home_TS%\"] = home_ts\n",
    "processing_data[\"home_eFG%\"] = home_efg\n",
    "\n",
    "processing_data"
   ]
  },
  {
   "cell_type": "code",
   "execution_count": 95,
   "metadata": {},
   "outputs": [
    {
     "output_type": "execute_result",
     "data": {
      "text/plain": [
       "0          Home\n",
       "1       Visitor\n",
       "2          Home\n",
       "3          Home\n",
       "4          Home\n",
       "         ...   \n",
       "1006    Visitor\n",
       "1007    Visitor\n",
       "1008       Home\n",
       "1009       Home\n",
       "1010       Home\n",
       "Name: Home/Away Winner, Length: 1011, dtype: object"
      ]
     },
     "metadata": {},
     "execution_count": 95
    }
   ],
   "source": [
    "y = processing_data[\"Home/Away Winner\"]\n",
    "y"
   ]
  },
  {
   "cell_type": "code",
   "execution_count": 96,
   "metadata": {},
   "outputs": [
    {
     "output_type": "execute_result",
     "data": {
      "text/plain": [
       "      away_FG%  away_3P%  away_opponent_BLK  away_MOV  away_SRS  away_ORtg  \\\n",
       "0        0.465     0.374                4.5     -0.28     -0.16      110.1   \n",
       "1        0.482     0.416                4.1      6.03      6.04      117.9   \n",
       "2        0.458     0.377                4.7     -1.22     -1.18      111.2   \n",
       "3        0.457     0.387                5.6      2.30      1.93      110.8   \n",
       "4        0.463     0.350                4.1     -0.44     -0.58      109.9   \n",
       "...        ...       ...                ...       ...       ...        ...   \n",
       "1006     0.466     0.356                5.3      0.94      1.18      111.7   \n",
       "1007     0.493     0.388                4.6      4.42      4.05      118.3   \n",
       "1008     0.442     0.342                5.2    -10.06     -9.66      103.5   \n",
       "1009     0.462     0.356                5.1     -0.53     -1.11      111.3   \n",
       "1010     0.441     0.335                5.3     -7.39     -7.48      106.3   \n",
       "\n",
       "      away_NRtg  away_TS%  away_eFG%  home_FG%  home_3P%  home_opponent_BLK  \\\n",
       "0          -0.3     0.578      0.546     0.493     0.388                4.6   \n",
       "1           6.2     0.599      0.564     0.474     0.352                4.5   \n",
       "2          -1.3     0.569      0.538     0.454     0.338                5.5   \n",
       "3           2.4     0.558      0.523     0.471     0.361                5.3   \n",
       "4          -0.5     0.575      0.538     0.430     0.346                5.3   \n",
       "...         ...       ...        ...       ...       ...                ...   \n",
       "1006        1.0     0.559      0.526     0.450     0.371                5.7   \n",
       "1007        4.4     0.608      0.573     0.488     0.380                4.3   \n",
       "1008       -9.9     0.542      0.511     0.465     0.374                4.5   \n",
       "1009       -0.5     0.556      0.520     0.448     0.380                4.8   \n",
       "1010       -7.3     0.549      0.517     0.467     0.391                3.9   \n",
       "\n",
       "      home_MOV  home_SRS  home_ORtg  home_NRtg  home_TS%  home_eFG%  \n",
       "0         4.42      4.05      118.3        4.4     0.608      0.573  \n",
       "1         3.13      2.87      109.9        3.1     0.570      0.538  \n",
       "2        -7.48     -7.43      106.0       -7.6     0.545      0.512  \n",
       "3         0.02     -0.04      112.1        0.0     0.573      0.540  \n",
       "4        -8.25     -8.08      105.3       -8.4     0.528      0.492  \n",
       "...        ...       ...        ...        ...       ...        ...  \n",
       "1006      0.36      0.07      112.5        0.4     0.572      0.533  \n",
       "1007      5.36      5.09      117.5        5.4     0.591      0.561  \n",
       "1008     -0.28     -0.16      110.1       -0.3     0.578      0.546  \n",
       "1009      0.51      0.41      116.8        0.5     0.572      0.534  \n",
       "1010      9.06      9.01      117.5        9.2     0.596      0.563  \n",
       "\n",
       "[1011 rows x 18 columns]"
      ],
      "text/html": "<div>\n<style scoped>\n    .dataframe tbody tr th:only-of-type {\n        vertical-align: middle;\n    }\n\n    .dataframe tbody tr th {\n        vertical-align: top;\n    }\n\n    .dataframe thead th {\n        text-align: right;\n    }\n</style>\n<table border=\"1\" class=\"dataframe\">\n  <thead>\n    <tr style=\"text-align: right;\">\n      <th></th>\n      <th>away_FG%</th>\n      <th>away_3P%</th>\n      <th>away_opponent_BLK</th>\n      <th>away_MOV</th>\n      <th>away_SRS</th>\n      <th>away_ORtg</th>\n      <th>away_NRtg</th>\n      <th>away_TS%</th>\n      <th>away_eFG%</th>\n      <th>home_FG%</th>\n      <th>home_3P%</th>\n      <th>home_opponent_BLK</th>\n      <th>home_MOV</th>\n      <th>home_SRS</th>\n      <th>home_ORtg</th>\n      <th>home_NRtg</th>\n      <th>home_TS%</th>\n      <th>home_eFG%</th>\n    </tr>\n  </thead>\n  <tbody>\n    <tr>\n      <th>0</th>\n      <td>0.465</td>\n      <td>0.374</td>\n      <td>4.5</td>\n      <td>-0.28</td>\n      <td>-0.16</td>\n      <td>110.1</td>\n      <td>-0.3</td>\n      <td>0.578</td>\n      <td>0.546</td>\n      <td>0.493</td>\n      <td>0.388</td>\n      <td>4.6</td>\n      <td>4.42</td>\n      <td>4.05</td>\n      <td>118.3</td>\n      <td>4.4</td>\n      <td>0.608</td>\n      <td>0.573</td>\n    </tr>\n    <tr>\n      <th>1</th>\n      <td>0.482</td>\n      <td>0.416</td>\n      <td>4.1</td>\n      <td>6.03</td>\n      <td>6.04</td>\n      <td>117.9</td>\n      <td>6.2</td>\n      <td>0.599</td>\n      <td>0.564</td>\n      <td>0.474</td>\n      <td>0.352</td>\n      <td>4.5</td>\n      <td>3.13</td>\n      <td>2.87</td>\n      <td>109.9</td>\n      <td>3.1</td>\n      <td>0.570</td>\n      <td>0.538</td>\n    </tr>\n    <tr>\n      <th>2</th>\n      <td>0.458</td>\n      <td>0.377</td>\n      <td>4.7</td>\n      <td>-1.22</td>\n      <td>-1.18</td>\n      <td>111.2</td>\n      <td>-1.3</td>\n      <td>0.569</td>\n      <td>0.538</td>\n      <td>0.454</td>\n      <td>0.338</td>\n      <td>5.5</td>\n      <td>-7.48</td>\n      <td>-7.43</td>\n      <td>106.0</td>\n      <td>-7.6</td>\n      <td>0.545</td>\n      <td>0.512</td>\n    </tr>\n    <tr>\n      <th>3</th>\n      <td>0.457</td>\n      <td>0.387</td>\n      <td>5.6</td>\n      <td>2.30</td>\n      <td>1.93</td>\n      <td>110.8</td>\n      <td>2.4</td>\n      <td>0.558</td>\n      <td>0.523</td>\n      <td>0.471</td>\n      <td>0.361</td>\n      <td>5.3</td>\n      <td>0.02</td>\n      <td>-0.04</td>\n      <td>112.1</td>\n      <td>0.0</td>\n      <td>0.573</td>\n      <td>0.540</td>\n    </tr>\n    <tr>\n      <th>4</th>\n      <td>0.463</td>\n      <td>0.350</td>\n      <td>4.1</td>\n      <td>-0.44</td>\n      <td>-0.58</td>\n      <td>109.9</td>\n      <td>-0.5</td>\n      <td>0.575</td>\n      <td>0.538</td>\n      <td>0.430</td>\n      <td>0.346</td>\n      <td>5.3</td>\n      <td>-8.25</td>\n      <td>-8.08</td>\n      <td>105.3</td>\n      <td>-8.4</td>\n      <td>0.528</td>\n      <td>0.492</td>\n    </tr>\n    <tr>\n      <th>...</th>\n      <td>...</td>\n      <td>...</td>\n      <td>...</td>\n      <td>...</td>\n      <td>...</td>\n      <td>...</td>\n      <td>...</td>\n      <td>...</td>\n      <td>...</td>\n      <td>...</td>\n      <td>...</td>\n      <td>...</td>\n      <td>...</td>\n      <td>...</td>\n      <td>...</td>\n      <td>...</td>\n      <td>...</td>\n      <td>...</td>\n    </tr>\n    <tr>\n      <th>1006</th>\n      <td>0.466</td>\n      <td>0.356</td>\n      <td>5.3</td>\n      <td>0.94</td>\n      <td>1.18</td>\n      <td>111.7</td>\n      <td>1.0</td>\n      <td>0.559</td>\n      <td>0.526</td>\n      <td>0.450</td>\n      <td>0.371</td>\n      <td>5.7</td>\n      <td>0.36</td>\n      <td>0.07</td>\n      <td>112.5</td>\n      <td>0.4</td>\n      <td>0.572</td>\n      <td>0.533</td>\n    </tr>\n    <tr>\n      <th>1007</th>\n      <td>0.493</td>\n      <td>0.388</td>\n      <td>4.6</td>\n      <td>4.42</td>\n      <td>4.05</td>\n      <td>118.3</td>\n      <td>4.4</td>\n      <td>0.608</td>\n      <td>0.573</td>\n      <td>0.488</td>\n      <td>0.380</td>\n      <td>4.3</td>\n      <td>5.36</td>\n      <td>5.09</td>\n      <td>117.5</td>\n      <td>5.4</td>\n      <td>0.591</td>\n      <td>0.561</td>\n    </tr>\n    <tr>\n      <th>1008</th>\n      <td>0.442</td>\n      <td>0.342</td>\n      <td>5.2</td>\n      <td>-10.06</td>\n      <td>-9.66</td>\n      <td>103.5</td>\n      <td>-9.9</td>\n      <td>0.542</td>\n      <td>0.511</td>\n      <td>0.465</td>\n      <td>0.374</td>\n      <td>4.5</td>\n      <td>-0.28</td>\n      <td>-0.16</td>\n      <td>110.1</td>\n      <td>-0.3</td>\n      <td>0.578</td>\n      <td>0.546</td>\n    </tr>\n    <tr>\n      <th>1009</th>\n      <td>0.462</td>\n      <td>0.356</td>\n      <td>5.1</td>\n      <td>-0.53</td>\n      <td>-1.11</td>\n      <td>111.3</td>\n      <td>-0.5</td>\n      <td>0.556</td>\n      <td>0.520</td>\n      <td>0.448</td>\n      <td>0.380</td>\n      <td>4.8</td>\n      <td>0.51</td>\n      <td>0.41</td>\n      <td>116.8</td>\n      <td>0.5</td>\n      <td>0.572</td>\n      <td>0.534</td>\n    </tr>\n    <tr>\n      <th>1010</th>\n      <td>0.441</td>\n      <td>0.335</td>\n      <td>5.3</td>\n      <td>-7.39</td>\n      <td>-7.48</td>\n      <td>106.3</td>\n      <td>-7.3</td>\n      <td>0.549</td>\n      <td>0.517</td>\n      <td>0.467</td>\n      <td>0.391</td>\n      <td>3.9</td>\n      <td>9.06</td>\n      <td>9.01</td>\n      <td>117.5</td>\n      <td>9.2</td>\n      <td>0.596</td>\n      <td>0.563</td>\n    </tr>\n  </tbody>\n</table>\n<p>1011 rows × 18 columns</p>\n</div>"
     },
     "metadata": {},
     "execution_count": 96
    }
   ],
   "source": [
    "X = processing_data.iloc[:, 1:]\n",
    "X"
   ]
  },
  {
   "cell_type": "code",
   "execution_count": 97,
   "metadata": {},
   "outputs": [
    {
     "output_type": "execute_result",
     "data": {
      "text/plain": [
       "     away_FG%  away_3P%  away_opponent_BLK  away_MOV  away_SRS  away_ORtg  \\\n",
       "694     0.462     0.370                5.1      1.17      1.27      114.7   \n",
       "265     0.471     0.361                5.3      0.02     -0.04      112.1   \n",
       "318     0.488     0.380                4.3      5.36      5.09      117.5   \n",
       "649     0.462     0.370                5.1      1.17      1.27      114.7   \n",
       "785     0.466     0.372                4.6      1.73      1.93      114.0   \n",
       "..        ...       ...                ...       ...       ...        ...   \n",
       "106     0.454     0.338                5.5     -7.48     -7.43      106.0   \n",
       "270     0.476     0.371                4.6      5.35      5.51      112.8   \n",
       "860     0.493     0.388                4.6      4.42      4.05      118.3   \n",
       "435     0.463     0.350                4.1     -0.44     -0.58      109.9   \n",
       "102     0.445     0.350                5.7     -6.55     -6.16      108.7   \n",
       "\n",
       "     away_NRtg  away_TS%  away_eFG%  home_FG%  home_3P%  home_opponent_BLK  \\\n",
       "694        1.1     0.576      0.533     0.489     0.373                3.6   \n",
       "265        0.0     0.573      0.540     0.458     0.377                4.7   \n",
       "318        5.4     0.591      0.561     0.474     0.352                4.5   \n",
       "649        1.1     0.576      0.533     0.482     0.365                4.6   \n",
       "785        1.8     0.574      0.542     0.488     0.380                4.3   \n",
       "..         ...       ...        ...       ...       ...                ...   \n",
       "106       -7.6     0.545      0.512     0.430     0.346                5.3   \n",
       "270        5.3     0.578      0.540     0.445     0.350                5.7   \n",
       "860        4.4     0.608      0.573     0.482     0.351                5.7   \n",
       "435       -0.5     0.575      0.538     0.474     0.352                4.5   \n",
       "102       -6.4     0.552      0.517     0.488     0.380                4.3   \n",
       "\n",
       "     home_MOV  home_SRS  home_ORtg  home_NRtg  home_TS%  home_eFG%  \n",
       "694      6.16      6.15      116.4        6.3     0.594      0.562  \n",
       "265     -1.22     -1.18      111.2       -1.3     0.569      0.538  \n",
       "318      3.13      2.87      109.9        3.1     0.570      0.538  \n",
       "649     -4.73     -4.19      114.2       -4.8     0.581      0.551  \n",
       "785      5.36      5.09      117.5        5.4     0.591      0.561  \n",
       "..        ...       ...        ...        ...       ...        ...  \n",
       "106     -8.25     -8.08      105.3       -8.4     0.528      0.492  \n",
       "270     -6.55     -6.16      108.7       -6.4     0.552      0.517  \n",
       "860      0.42      0.33      114.5        0.4     0.576      0.543  \n",
       "435      3.13      2.87      109.9        3.1     0.570      0.538  \n",
       "102      5.36      5.09      117.5        5.4     0.591      0.561  \n",
       "\n",
       "[808 rows x 18 columns]"
      ],
      "text/html": "<div>\n<style scoped>\n    .dataframe tbody tr th:only-of-type {\n        vertical-align: middle;\n    }\n\n    .dataframe tbody tr th {\n        vertical-align: top;\n    }\n\n    .dataframe thead th {\n        text-align: right;\n    }\n</style>\n<table border=\"1\" class=\"dataframe\">\n  <thead>\n    <tr style=\"text-align: right;\">\n      <th></th>\n      <th>away_FG%</th>\n      <th>away_3P%</th>\n      <th>away_opponent_BLK</th>\n      <th>away_MOV</th>\n      <th>away_SRS</th>\n      <th>away_ORtg</th>\n      <th>away_NRtg</th>\n      <th>away_TS%</th>\n      <th>away_eFG%</th>\n      <th>home_FG%</th>\n      <th>home_3P%</th>\n      <th>home_opponent_BLK</th>\n      <th>home_MOV</th>\n      <th>home_SRS</th>\n      <th>home_ORtg</th>\n      <th>home_NRtg</th>\n      <th>home_TS%</th>\n      <th>home_eFG%</th>\n    </tr>\n  </thead>\n  <tbody>\n    <tr>\n      <th>694</th>\n      <td>0.462</td>\n      <td>0.370</td>\n      <td>5.1</td>\n      <td>1.17</td>\n      <td>1.27</td>\n      <td>114.7</td>\n      <td>1.1</td>\n      <td>0.576</td>\n      <td>0.533</td>\n      <td>0.489</td>\n      <td>0.373</td>\n      <td>3.6</td>\n      <td>6.16</td>\n      <td>6.15</td>\n      <td>116.4</td>\n      <td>6.3</td>\n      <td>0.594</td>\n      <td>0.562</td>\n    </tr>\n    <tr>\n      <th>265</th>\n      <td>0.471</td>\n      <td>0.361</td>\n      <td>5.3</td>\n      <td>0.02</td>\n      <td>-0.04</td>\n      <td>112.1</td>\n      <td>0.0</td>\n      <td>0.573</td>\n      <td>0.540</td>\n      <td>0.458</td>\n      <td>0.377</td>\n      <td>4.7</td>\n      <td>-1.22</td>\n      <td>-1.18</td>\n      <td>111.2</td>\n      <td>-1.3</td>\n      <td>0.569</td>\n      <td>0.538</td>\n    </tr>\n    <tr>\n      <th>318</th>\n      <td>0.488</td>\n      <td>0.380</td>\n      <td>4.3</td>\n      <td>5.36</td>\n      <td>5.09</td>\n      <td>117.5</td>\n      <td>5.4</td>\n      <td>0.591</td>\n      <td>0.561</td>\n      <td>0.474</td>\n      <td>0.352</td>\n      <td>4.5</td>\n      <td>3.13</td>\n      <td>2.87</td>\n      <td>109.9</td>\n      <td>3.1</td>\n      <td>0.570</td>\n      <td>0.538</td>\n    </tr>\n    <tr>\n      <th>649</th>\n      <td>0.462</td>\n      <td>0.370</td>\n      <td>5.1</td>\n      <td>1.17</td>\n      <td>1.27</td>\n      <td>114.7</td>\n      <td>1.1</td>\n      <td>0.576</td>\n      <td>0.533</td>\n      <td>0.482</td>\n      <td>0.365</td>\n      <td>4.6</td>\n      <td>-4.73</td>\n      <td>-4.19</td>\n      <td>114.2</td>\n      <td>-4.8</td>\n      <td>0.581</td>\n      <td>0.551</td>\n    </tr>\n    <tr>\n      <th>785</th>\n      <td>0.466</td>\n      <td>0.372</td>\n      <td>4.6</td>\n      <td>1.73</td>\n      <td>1.93</td>\n      <td>114.0</td>\n      <td>1.8</td>\n      <td>0.574</td>\n      <td>0.542</td>\n      <td>0.488</td>\n      <td>0.380</td>\n      <td>4.3</td>\n      <td>5.36</td>\n      <td>5.09</td>\n      <td>117.5</td>\n      <td>5.4</td>\n      <td>0.591</td>\n      <td>0.561</td>\n    </tr>\n    <tr>\n      <th>...</th>\n      <td>...</td>\n      <td>...</td>\n      <td>...</td>\n      <td>...</td>\n      <td>...</td>\n      <td>...</td>\n      <td>...</td>\n      <td>...</td>\n      <td>...</td>\n      <td>...</td>\n      <td>...</td>\n      <td>...</td>\n      <td>...</td>\n      <td>...</td>\n      <td>...</td>\n      <td>...</td>\n      <td>...</td>\n      <td>...</td>\n    </tr>\n    <tr>\n      <th>106</th>\n      <td>0.454</td>\n      <td>0.338</td>\n      <td>5.5</td>\n      <td>-7.48</td>\n      <td>-7.43</td>\n      <td>106.0</td>\n      <td>-7.6</td>\n      <td>0.545</td>\n      <td>0.512</td>\n      <td>0.430</td>\n      <td>0.346</td>\n      <td>5.3</td>\n      <td>-8.25</td>\n      <td>-8.08</td>\n      <td>105.3</td>\n      <td>-8.4</td>\n      <td>0.528</td>\n      <td>0.492</td>\n    </tr>\n    <tr>\n      <th>270</th>\n      <td>0.476</td>\n      <td>0.371</td>\n      <td>4.6</td>\n      <td>5.35</td>\n      <td>5.51</td>\n      <td>112.8</td>\n      <td>5.3</td>\n      <td>0.578</td>\n      <td>0.540</td>\n      <td>0.445</td>\n      <td>0.350</td>\n      <td>5.7</td>\n      <td>-6.55</td>\n      <td>-6.16</td>\n      <td>108.7</td>\n      <td>-6.4</td>\n      <td>0.552</td>\n      <td>0.517</td>\n    </tr>\n    <tr>\n      <th>860</th>\n      <td>0.493</td>\n      <td>0.388</td>\n      <td>4.6</td>\n      <td>4.42</td>\n      <td>4.05</td>\n      <td>118.3</td>\n      <td>4.4</td>\n      <td>0.608</td>\n      <td>0.573</td>\n      <td>0.482</td>\n      <td>0.351</td>\n      <td>5.7</td>\n      <td>0.42</td>\n      <td>0.33</td>\n      <td>114.5</td>\n      <td>0.4</td>\n      <td>0.576</td>\n      <td>0.543</td>\n    </tr>\n    <tr>\n      <th>435</th>\n      <td>0.463</td>\n      <td>0.350</td>\n      <td>4.1</td>\n      <td>-0.44</td>\n      <td>-0.58</td>\n      <td>109.9</td>\n      <td>-0.5</td>\n      <td>0.575</td>\n      <td>0.538</td>\n      <td>0.474</td>\n      <td>0.352</td>\n      <td>4.5</td>\n      <td>3.13</td>\n      <td>2.87</td>\n      <td>109.9</td>\n      <td>3.1</td>\n      <td>0.570</td>\n      <td>0.538</td>\n    </tr>\n    <tr>\n      <th>102</th>\n      <td>0.445</td>\n      <td>0.350</td>\n      <td>5.7</td>\n      <td>-6.55</td>\n      <td>-6.16</td>\n      <td>108.7</td>\n      <td>-6.4</td>\n      <td>0.552</td>\n      <td>0.517</td>\n      <td>0.488</td>\n      <td>0.380</td>\n      <td>4.3</td>\n      <td>5.36</td>\n      <td>5.09</td>\n      <td>117.5</td>\n      <td>5.4</td>\n      <td>0.591</td>\n      <td>0.561</td>\n    </tr>\n  </tbody>\n</table>\n<p>808 rows × 18 columns</p>\n</div>"
     },
     "metadata": {},
     "execution_count": 97
    }
   ],
   "source": [
    "from sklearn.model_selection import train_test_split\n",
    "\n",
    "X_train, X_test, y_train, y_test = train_test_split(X, y, test_size=0.2, random_state=42)\n",
    "X_train"
   ]
  },
  {
   "cell_type": "code",
   "execution_count": 98,
   "metadata": {},
   "outputs": [
    {
     "output_type": "execute_result",
     "data": {
      "text/plain": [
       "array([[-2.41276165e-01,  2.39004254e-01,  3.69947955e-01, ...,\n",
       "         1.30543128e+00,  1.23868536e+00,  1.28513198e+00],\n",
       "       [ 3.26358992e-01, -2.57862223e-01,  7.00244029e-01, ...,\n",
       "        -3.16597857e-01, -1.64727297e-01, -3.97750536e-04],\n",
       "       [ 1.39855873e+00,  7.91078118e-01, -9.51236343e-01, ...,\n",
       "         6.22471641e-01, -1.08590791e-01, -3.97750536e-04],\n",
       "       ...,\n",
       "       [ 1.71391160e+00,  1.23273721e+00, -4.55792232e-01, ...,\n",
       "         4.62244493e-02,  2.28228246e-01,  2.67420943e-01],\n",
       "       [-1.78205592e-01, -8.65143473e-01, -1.28153242e+00, ...,\n",
       "         6.22471641e-01, -1.08590791e-01, -3.97750536e-04],\n",
       "       [-1.31347590e+00, -8.65143473e-01,  1.36083618e+00, ...,\n",
       "         1.11334888e+00,  1.07027584e+00,  1.23156824e+00]])"
      ]
     },
     "metadata": {},
     "execution_count": 98
    }
   ],
   "source": [
    "from sklearn.preprocessing import StandardScaler\n",
    "\n",
    "scaler = StandardScaler()\n",
    "scaled_X_train = scaler.fit_transform(X_train)\n",
    "scaled_X_train"
   ]
  },
  {
   "cell_type": "code",
   "execution_count": 99,
   "metadata": {},
   "outputs": [
    {
     "output_type": "execute_result",
     "data": {
      "text/plain": [
       "array([[-0.99812304,  0.29421164,  1.36083618, ..., -1.59714717,\n",
       "        -1.28745742, -1.12523626],\n",
       "       [-0.24127616,  0.23900425,  0.36994795, ...,  1.28408879,\n",
       "         1.51936789,  1.39225946],\n",
       "       [ 0.01100613, -0.53389915,  0.70024403, ..., -1.59714717,\n",
       "        -1.28745742, -1.12523626],\n",
       "       ...,\n",
       "       [ 1.7139116 ,  1.23273721, -0.45579223, ..., -0.89284505,\n",
       "        -0.89450188, -1.07167253],\n",
       "       [-0.55662903,  1.17752982,  1.19568814, ..., -0.03914551,\n",
       "         0.05981873,  0.10672973],\n",
       "       [ 0.26328842, -0.20265484, -1.77697653, ...,  1.28408879,\n",
       "         1.51936789,  1.39225946]])"
      ]
     },
     "metadata": {},
     "execution_count": 99
    }
   ],
   "source": [
    "scaled_X_test = scaler.transform(X_test)\n",
    "scaled_X_test"
   ]
  },
  {
   "cell_type": "code",
   "execution_count": 100,
   "metadata": {},
   "outputs": [],
   "source": [
    "def preprocessing_function(X, y):\n",
    "    X_train, X_test, y_train, y_test = train_test_split(X, y, test_size=0.2, random_state=42)\n",
    "\n",
    "    scaled_X_train = scaler.fit_transform(X_train)\n",
    "    scaled_X_test = scaler.transform(X_test)\n",
    "\n",
    "    return scaled_X_train, scaled_X_test, y_train, y_test"
   ]
  },
  {
   "cell_type": "code",
   "execution_count": 101,
   "metadata": {},
   "outputs": [
    {
     "output_type": "execute_result",
     "data": {
      "text/plain": [
       "SVC()"
      ]
     },
     "metadata": {},
     "execution_count": 101
    }
   ],
   "source": [
    "from sklearn.svm import SVC\n",
    "\n",
    "svc_clf = SVC()\n",
    "svc_clf.fit(scaled_X_train, y_train)"
   ]
  },
  {
   "cell_type": "code",
   "execution_count": 102,
   "metadata": {},
   "outputs": [
    {
     "output_type": "execute_result",
     "data": {
      "text/plain": [
       "array(['Visitor', 'Home', 'Visitor', 'Home', 'Visitor', 'Visitor', 'Home',\n",
       "       'Visitor', 'Visitor', 'Home', 'Home', 'Visitor', 'Visitor',\n",
       "       'Visitor', 'Visitor', 'Visitor', 'Home', 'Home', 'Visitor',\n",
       "       'Visitor', 'Visitor', 'Visitor', 'Home', 'Visitor', 'Home', 'Home',\n",
       "       'Home', 'Visitor', 'Home', 'Visitor', 'Home', 'Visitor', 'Visitor',\n",
       "       'Home', 'Visitor', 'Visitor', 'Home', 'Home', 'Visitor', 'Home',\n",
       "       'Visitor', 'Visitor', 'Visitor', 'Home', 'Home', 'Visitor',\n",
       "       'Visitor', 'Home', 'Home', 'Visitor', 'Home', 'Visitor', 'Home',\n",
       "       'Visitor', 'Visitor', 'Visitor', 'Visitor', 'Visitor', 'Visitor',\n",
       "       'Visitor', 'Home', 'Visitor', 'Home', 'Home', 'Visitor', 'Visitor',\n",
       "       'Home', 'Home', 'Visitor', 'Home', 'Home', 'Visitor', 'Visitor',\n",
       "       'Visitor', 'Visitor', 'Visitor', 'Home', 'Visitor', 'Home', 'Home',\n",
       "       'Visitor', 'Home', 'Home', 'Visitor', 'Visitor', 'Visitor',\n",
       "       'Visitor', 'Visitor', 'Visitor', 'Visitor', 'Home', 'Visitor',\n",
       "       'Home', 'Visitor', 'Home', 'Visitor', 'Home', 'Visitor', 'Visitor',\n",
       "       'Visitor', 'Home', 'Visitor', 'Visitor', 'Visitor', 'Home', 'Home',\n",
       "       'Visitor', 'Visitor', 'Home', 'Visitor', 'Visitor', 'Visitor',\n",
       "       'Visitor', 'Home', 'Visitor', 'Visitor', 'Visitor', 'Visitor',\n",
       "       'Visitor', 'Home', 'Visitor', 'Visitor', 'Home', 'Home', 'Home',\n",
       "       'Home', 'Home', 'Home', 'Home', 'Visitor', 'Home', 'Home',\n",
       "       'Visitor', 'Visitor', 'Visitor', 'Home', 'Home', 'Home', 'Home',\n",
       "       'Home', 'Visitor', 'Visitor', 'Visitor', 'Visitor', 'Visitor',\n",
       "       'Home', 'Visitor', 'Home', 'Visitor', 'Visitor', 'Visitor', 'Home',\n",
       "       'Visitor', 'Home', 'Visitor', 'Visitor', 'Home', 'Home', 'Home',\n",
       "       'Home', 'Home', 'Home', 'Visitor', 'Visitor', 'Visitor', 'Home',\n",
       "       'Visitor', 'Home', 'Visitor', 'Home', 'Home', 'Visitor', 'Visitor',\n",
       "       'Visitor', 'Visitor', 'Home', 'Home', 'Home', 'Visitor', 'Visitor',\n",
       "       'Visitor', 'Home', 'Visitor', 'Visitor', 'Home', 'Visitor',\n",
       "       'Visitor', 'Home', 'Visitor', 'Visitor', 'Visitor', 'Visitor',\n",
       "       'Home', 'Visitor', 'Visitor', 'Home', 'Home', 'Home', 'Visitor',\n",
       "       'Home', 'Visitor', 'Home', 'Home'], dtype=object)"
      ]
     },
     "metadata": {},
     "execution_count": 102
    }
   ],
   "source": [
    "svc_clf_predictions = svc_clf.predict(scaled_X_test)\n",
    "svc_clf_predictions"
   ]
  },
  {
   "cell_type": "code",
   "execution_count": 103,
   "metadata": {},
   "outputs": [
    {
     "output_type": "execute_result",
     "data": {
      "text/plain": [
       "array([[61, 50],\n",
       "       [25, 67]])"
      ]
     },
     "metadata": {},
     "execution_count": 103
    }
   ],
   "source": [
    "from sklearn.metrics import confusion_matrix, accuracy_score, precision_score, recall_score\n",
    "\n",
    "confusion_matrix(y_test, svc_clf_predictions)"
   ]
  },
  {
   "cell_type": "code",
   "execution_count": 104,
   "metadata": {},
   "outputs": [
    {
     "output_type": "execute_result",
     "data": {
      "text/plain": [
       "0.6305418719211823"
      ]
     },
     "metadata": {},
     "execution_count": 104
    }
   ],
   "source": [
    "accuracy_score(y_test, svc_clf_predictions)"
   ]
  },
  {
   "cell_type": "code",
   "execution_count": 105,
   "metadata": {},
   "outputs": [
    {
     "output_type": "execute_result",
     "data": {
      "text/plain": [
       "0.7093023255813954"
      ]
     },
     "metadata": {},
     "execution_count": 105
    }
   ],
   "source": [
    "precision_score(y_test, svc_clf_predictions, pos_label=\"Home\")"
   ]
  },
  {
   "cell_type": "code",
   "execution_count": 106,
   "metadata": {},
   "outputs": [
    {
     "output_type": "execute_result",
     "data": {
      "text/plain": [
       "0.5495495495495496"
      ]
     },
     "metadata": {},
     "execution_count": 106
    }
   ],
   "source": [
    "recall_score(y_test, svc_clf_predictions, pos_label=\"Home\")"
   ]
  },
  {
   "cell_type": "code",
   "execution_count": 151,
   "metadata": {},
   "outputs": [],
   "source": [
    "def algo_accuracy(y_test, predictions):\n",
    "    conf_matrix = confusion_matrix(y_test, predictions)\n",
    "    accuracy = accuracy_score(y_test, predictions)\n",
    "    precision = precision_score(y_test, predictions, pos_label=\"Home\")\n",
    "    recall = recall_score(y_test, predictions, pos_label=\"Home\")\n",
    "\n",
    "    return conf_matrix, accuracy, precision, recall"
   ]
  },
  {
   "cell_type": "code",
   "execution_count": 107,
   "metadata": {},
   "outputs": [
    {
     "output_type": "execute_result",
     "data": {
      "text/plain": [
       "     Home/Away Winner\n",
       "0                Home\n",
       "1             Visitor\n",
       "2                Home\n",
       "3                Home\n",
       "4                Home\n",
       "...               ...\n",
       "1006          Visitor\n",
       "1007          Visitor\n",
       "1008             Home\n",
       "1009             Home\n",
       "1010             Home\n",
       "\n",
       "[1011 rows x 1 columns]"
      ],
      "text/html": "<div>\n<style scoped>\n    .dataframe tbody tr th:only-of-type {\n        vertical-align: middle;\n    }\n\n    .dataframe tbody tr th {\n        vertical-align: top;\n    }\n\n    .dataframe thead th {\n        text-align: right;\n    }\n</style>\n<table border=\"1\" class=\"dataframe\">\n  <thead>\n    <tr style=\"text-align: right;\">\n      <th></th>\n      <th>Home/Away Winner</th>\n    </tr>\n  </thead>\n  <tbody>\n    <tr>\n      <th>0</th>\n      <td>Home</td>\n    </tr>\n    <tr>\n      <th>1</th>\n      <td>Visitor</td>\n    </tr>\n    <tr>\n      <th>2</th>\n      <td>Home</td>\n    </tr>\n    <tr>\n      <th>3</th>\n      <td>Home</td>\n    </tr>\n    <tr>\n      <th>4</th>\n      <td>Home</td>\n    </tr>\n    <tr>\n      <th>...</th>\n      <td>...</td>\n    </tr>\n    <tr>\n      <th>1006</th>\n      <td>Visitor</td>\n    </tr>\n    <tr>\n      <th>1007</th>\n      <td>Visitor</td>\n    </tr>\n    <tr>\n      <th>1008</th>\n      <td>Home</td>\n    </tr>\n    <tr>\n      <th>1009</th>\n      <td>Home</td>\n    </tr>\n    <tr>\n      <th>1010</th>\n      <td>Home</td>\n    </tr>\n  </tbody>\n</table>\n<p>1011 rows × 1 columns</p>\n</div>"
     },
     "metadata": {},
     "execution_count": 107
    }
   ],
   "source": [
    "processing_data2 = game_schedule\n",
    "processing_data2"
   ]
  },
  {
   "cell_type": "code",
   "execution_count": 125,
   "metadata": {},
   "outputs": [
    {
     "output_type": "execute_result",
     "data": {
      "text/plain": [
       "     Home/Away Winner  home_away_FG%_ratio  home_away_3P%_ratio  \\\n",
       "0                Home             1.060215             1.037433   \n",
       "1             Visitor             0.983402             0.846154   \n",
       "2                Home             0.991266             0.896552   \n",
       "3                Home             1.030635             0.932817   \n",
       "4                Home             0.928726             0.988571   \n",
       "...               ...                  ...                  ...   \n",
       "1006          Visitor             0.965665             1.042135   \n",
       "1007          Visitor             0.989858             0.979381   \n",
       "1008             Home             1.052036             1.093567   \n",
       "1009             Home             0.969697             1.067416   \n",
       "1010             Home             1.058957             1.167164   \n",
       "\n",
       "      home_away_opponent_BLK_ratio  home_away_MOV_ratio  home_away_SRS_ratio  \\\n",
       "0                         1.022222           -15.785714           -25.312500   \n",
       "1                         1.097561             0.519071             0.475166   \n",
       "2                         1.170213             6.131148             6.296610   \n",
       "3                         0.946429             0.008696            -0.020725   \n",
       "4                         1.292683            18.750000            13.931034   \n",
       "...                            ...                  ...                  ...   \n",
       "1006                      1.075472             0.382979             0.059322   \n",
       "1007                      0.934783             1.212670             1.256790   \n",
       "1008                      0.865385             0.027833             0.016563   \n",
       "1009                      0.941176            -0.962264            -0.369369   \n",
       "1010                      0.735849            -1.225981            -1.204545   \n",
       "\n",
       "      home_away_ORtg_ratio  home_away_TS%_ratio  home_away_eFG%_ratio  \\\n",
       "0                 1.074478             1.051903              1.049451   \n",
       "1                 0.932146             0.951586              0.953901   \n",
       "2                 0.953237             0.957821              0.951673   \n",
       "3                 1.011733             1.026882              1.032505   \n",
       "4                 0.958144             0.918261              0.914498   \n",
       "...                    ...                  ...                   ...   \n",
       "1006              1.007162             1.023256              1.013308   \n",
       "1007              0.993238             0.972039              0.979058   \n",
       "1008              1.063768             1.066421              1.068493   \n",
       "1009              1.049416             1.028777              1.026923   \n",
       "1010              1.105362             1.085610              1.088975   \n",
       "\n",
       "      home_away_NRtg_ratio  \n",
       "0               -14.666667  \n",
       "1                 0.500000  \n",
       "2                 5.846154  \n",
       "3                 0.000000  \n",
       "4                16.800000  \n",
       "...                    ...  \n",
       "1006              0.400000  \n",
       "1007              1.227273  \n",
       "1008              0.030303  \n",
       "1009             -1.000000  \n",
       "1010             -1.260274  \n",
       "\n",
       "[1011 rows x 10 columns]"
      ],
      "text/html": "<div>\n<style scoped>\n    .dataframe tbody tr th:only-of-type {\n        vertical-align: middle;\n    }\n\n    .dataframe tbody tr th {\n        vertical-align: top;\n    }\n\n    .dataframe thead th {\n        text-align: right;\n    }\n</style>\n<table border=\"1\" class=\"dataframe\">\n  <thead>\n    <tr style=\"text-align: right;\">\n      <th></th>\n      <th>Home/Away Winner</th>\n      <th>home_away_FG%_ratio</th>\n      <th>home_away_3P%_ratio</th>\n      <th>home_away_opponent_BLK_ratio</th>\n      <th>home_away_MOV_ratio</th>\n      <th>home_away_SRS_ratio</th>\n      <th>home_away_ORtg_ratio</th>\n      <th>home_away_TS%_ratio</th>\n      <th>home_away_eFG%_ratio</th>\n      <th>home_away_NRtg_ratio</th>\n    </tr>\n  </thead>\n  <tbody>\n    <tr>\n      <th>0</th>\n      <td>Home</td>\n      <td>1.060215</td>\n      <td>1.037433</td>\n      <td>1.022222</td>\n      <td>-15.785714</td>\n      <td>-25.312500</td>\n      <td>1.074478</td>\n      <td>1.051903</td>\n      <td>1.049451</td>\n      <td>-14.666667</td>\n    </tr>\n    <tr>\n      <th>1</th>\n      <td>Visitor</td>\n      <td>0.983402</td>\n      <td>0.846154</td>\n      <td>1.097561</td>\n      <td>0.519071</td>\n      <td>0.475166</td>\n      <td>0.932146</td>\n      <td>0.951586</td>\n      <td>0.953901</td>\n      <td>0.500000</td>\n    </tr>\n    <tr>\n      <th>2</th>\n      <td>Home</td>\n      <td>0.991266</td>\n      <td>0.896552</td>\n      <td>1.170213</td>\n      <td>6.131148</td>\n      <td>6.296610</td>\n      <td>0.953237</td>\n      <td>0.957821</td>\n      <td>0.951673</td>\n      <td>5.846154</td>\n    </tr>\n    <tr>\n      <th>3</th>\n      <td>Home</td>\n      <td>1.030635</td>\n      <td>0.932817</td>\n      <td>0.946429</td>\n      <td>0.008696</td>\n      <td>-0.020725</td>\n      <td>1.011733</td>\n      <td>1.026882</td>\n      <td>1.032505</td>\n      <td>0.000000</td>\n    </tr>\n    <tr>\n      <th>4</th>\n      <td>Home</td>\n      <td>0.928726</td>\n      <td>0.988571</td>\n      <td>1.292683</td>\n      <td>18.750000</td>\n      <td>13.931034</td>\n      <td>0.958144</td>\n      <td>0.918261</td>\n      <td>0.914498</td>\n      <td>16.800000</td>\n    </tr>\n    <tr>\n      <th>...</th>\n      <td>...</td>\n      <td>...</td>\n      <td>...</td>\n      <td>...</td>\n      <td>...</td>\n      <td>...</td>\n      <td>...</td>\n      <td>...</td>\n      <td>...</td>\n      <td>...</td>\n    </tr>\n    <tr>\n      <th>1006</th>\n      <td>Visitor</td>\n      <td>0.965665</td>\n      <td>1.042135</td>\n      <td>1.075472</td>\n      <td>0.382979</td>\n      <td>0.059322</td>\n      <td>1.007162</td>\n      <td>1.023256</td>\n      <td>1.013308</td>\n      <td>0.400000</td>\n    </tr>\n    <tr>\n      <th>1007</th>\n      <td>Visitor</td>\n      <td>0.989858</td>\n      <td>0.979381</td>\n      <td>0.934783</td>\n      <td>1.212670</td>\n      <td>1.256790</td>\n      <td>0.993238</td>\n      <td>0.972039</td>\n      <td>0.979058</td>\n      <td>1.227273</td>\n    </tr>\n    <tr>\n      <th>1008</th>\n      <td>Home</td>\n      <td>1.052036</td>\n      <td>1.093567</td>\n      <td>0.865385</td>\n      <td>0.027833</td>\n      <td>0.016563</td>\n      <td>1.063768</td>\n      <td>1.066421</td>\n      <td>1.068493</td>\n      <td>0.030303</td>\n    </tr>\n    <tr>\n      <th>1009</th>\n      <td>Home</td>\n      <td>0.969697</td>\n      <td>1.067416</td>\n      <td>0.941176</td>\n      <td>-0.962264</td>\n      <td>-0.369369</td>\n      <td>1.049416</td>\n      <td>1.028777</td>\n      <td>1.026923</td>\n      <td>-1.000000</td>\n    </tr>\n    <tr>\n      <th>1010</th>\n      <td>Home</td>\n      <td>1.058957</td>\n      <td>1.167164</td>\n      <td>0.735849</td>\n      <td>-1.225981</td>\n      <td>-1.204545</td>\n      <td>1.105362</td>\n      <td>1.085610</td>\n      <td>1.088975</td>\n      <td>-1.260274</td>\n    </tr>\n  </tbody>\n</table>\n<p>1011 rows × 10 columns</p>\n</div>"
     },
     "metadata": {},
     "execution_count": 125
    }
   ],
   "source": [
    "processing_data2[\"home_away_FG%_ratio\"] = processing_data[\"home_FG%\"]/processing_data[\"away_FG%\"]\n",
    "processing_data2[\"home_away_3P%_ratio\"] = processing_data[\"home_3P%\"]/processing_data[\"away_3P%\"]\n",
    "processing_data2[\"home_away_opponent_BLK_ratio\"] = processing_data[\"home_opponent_BLK\"]/processing_data[\"away_opponent_BLK\"]\n",
    "processing_data2[\"home_away_MOV_ratio\"] = processing_data[\"home_MOV\"]/processing_data[\"away_MOV\"]\n",
    "processing_data2[\"home_away_SRS_ratio\"] = processing_data[\"home_SRS\"]/processing_data[\"away_SRS\"]\n",
    "processing_data2[\"home_away_ORtg_ratio\"] = processing_data[\"home_ORtg\"]/processing_data[\"away_ORtg\"]\n",
    "processing_data2[\"home_away_NRtg_ratio\"] = processing_data[\"home_NRtg\"]/processing_data[\"away_NRtg\"]\n",
    "processing_data2[\"home_away_TS%_ratio\"] = processing_data[\"home_TS%\"]/processing_data[\"away_TS%\"]\n",
    "processing_data2[\"home_away_eFG%_ratio\"] = processing_data[\"home_eFG%\"]/processing_data[\"away_eFG%\"]\n",
    "\n",
    "processing_data2"
   ]
  },
  {
   "cell_type": "code",
   "execution_count": 126,
   "metadata": {},
   "outputs": [
    {
     "output_type": "execute_result",
     "data": {
      "text/plain": [
       "     Home/Away Winner  home_away_FG%_ratio  home_away_3P%_ratio  \\\n",
       "0                Home             1.060215             1.037433   \n",
       "1             Visitor             0.983402             0.846154   \n",
       "2                Home             0.991266             0.896552   \n",
       "3                Home             1.030635             0.932817   \n",
       "4                Home             0.928726             0.988571   \n",
       "...               ...                  ...                  ...   \n",
       "1006          Visitor             0.965665             1.042135   \n",
       "1007          Visitor             0.989858             0.979381   \n",
       "1008             Home             1.052036             1.093567   \n",
       "1009             Home             0.969697             1.067416   \n",
       "1010             Home             1.058957             1.167164   \n",
       "\n",
       "      home_away_opponent_BLK_ratio  home_away_MOV_ratio  home_away_SRS_ratio  \\\n",
       "0                         1.022222           -15.785714           -25.312500   \n",
       "1                         1.097561             0.519071             0.475166   \n",
       "2                         1.170213             6.131148             6.296610   \n",
       "3                         0.946429             0.008696            -0.020725   \n",
       "4                         1.292683            18.750000            13.931034   \n",
       "...                            ...                  ...                  ...   \n",
       "1006                      1.075472             0.382979             0.059322   \n",
       "1007                      0.934783             1.212670             1.256790   \n",
       "1008                      0.865385             0.027833             0.016563   \n",
       "1009                      0.941176            -0.962264            -0.369369   \n",
       "1010                      0.735849            -1.225981            -1.204545   \n",
       "\n",
       "      home_away_ORtg_ratio  home_away_TS%_ratio  home_away_eFG%_ratio  \n",
       "0                 1.074478             1.051903              1.049451  \n",
       "1                 0.932146             0.951586              0.953901  \n",
       "2                 0.953237             0.957821              0.951673  \n",
       "3                 1.011733             1.026882              1.032505  \n",
       "4                 0.958144             0.918261              0.914498  \n",
       "...                    ...                  ...                   ...  \n",
       "1006              1.007162             1.023256              1.013308  \n",
       "1007              0.993238             0.972039              0.979058  \n",
       "1008              1.063768             1.066421              1.068493  \n",
       "1009              1.049416             1.028777              1.026923  \n",
       "1010              1.105362             1.085610              1.088975  \n",
       "\n",
       "[1011 rows x 9 columns]"
      ],
      "text/html": "<div>\n<style scoped>\n    .dataframe tbody tr th:only-of-type {\n        vertical-align: middle;\n    }\n\n    .dataframe tbody tr th {\n        vertical-align: top;\n    }\n\n    .dataframe thead th {\n        text-align: right;\n    }\n</style>\n<table border=\"1\" class=\"dataframe\">\n  <thead>\n    <tr style=\"text-align: right;\">\n      <th></th>\n      <th>Home/Away Winner</th>\n      <th>home_away_FG%_ratio</th>\n      <th>home_away_3P%_ratio</th>\n      <th>home_away_opponent_BLK_ratio</th>\n      <th>home_away_MOV_ratio</th>\n      <th>home_away_SRS_ratio</th>\n      <th>home_away_ORtg_ratio</th>\n      <th>home_away_TS%_ratio</th>\n      <th>home_away_eFG%_ratio</th>\n    </tr>\n  </thead>\n  <tbody>\n    <tr>\n      <th>0</th>\n      <td>Home</td>\n      <td>1.060215</td>\n      <td>1.037433</td>\n      <td>1.022222</td>\n      <td>-15.785714</td>\n      <td>-25.312500</td>\n      <td>1.074478</td>\n      <td>1.051903</td>\n      <td>1.049451</td>\n    </tr>\n    <tr>\n      <th>1</th>\n      <td>Visitor</td>\n      <td>0.983402</td>\n      <td>0.846154</td>\n      <td>1.097561</td>\n      <td>0.519071</td>\n      <td>0.475166</td>\n      <td>0.932146</td>\n      <td>0.951586</td>\n      <td>0.953901</td>\n    </tr>\n    <tr>\n      <th>2</th>\n      <td>Home</td>\n      <td>0.991266</td>\n      <td>0.896552</td>\n      <td>1.170213</td>\n      <td>6.131148</td>\n      <td>6.296610</td>\n      <td>0.953237</td>\n      <td>0.957821</td>\n      <td>0.951673</td>\n    </tr>\n    <tr>\n      <th>3</th>\n      <td>Home</td>\n      <td>1.030635</td>\n      <td>0.932817</td>\n      <td>0.946429</td>\n      <td>0.008696</td>\n      <td>-0.020725</td>\n      <td>1.011733</td>\n      <td>1.026882</td>\n      <td>1.032505</td>\n    </tr>\n    <tr>\n      <th>4</th>\n      <td>Home</td>\n      <td>0.928726</td>\n      <td>0.988571</td>\n      <td>1.292683</td>\n      <td>18.750000</td>\n      <td>13.931034</td>\n      <td>0.958144</td>\n      <td>0.918261</td>\n      <td>0.914498</td>\n    </tr>\n    <tr>\n      <th>...</th>\n      <td>...</td>\n      <td>...</td>\n      <td>...</td>\n      <td>...</td>\n      <td>...</td>\n      <td>...</td>\n      <td>...</td>\n      <td>...</td>\n      <td>...</td>\n    </tr>\n    <tr>\n      <th>1006</th>\n      <td>Visitor</td>\n      <td>0.965665</td>\n      <td>1.042135</td>\n      <td>1.075472</td>\n      <td>0.382979</td>\n      <td>0.059322</td>\n      <td>1.007162</td>\n      <td>1.023256</td>\n      <td>1.013308</td>\n    </tr>\n    <tr>\n      <th>1007</th>\n      <td>Visitor</td>\n      <td>0.989858</td>\n      <td>0.979381</td>\n      <td>0.934783</td>\n      <td>1.212670</td>\n      <td>1.256790</td>\n      <td>0.993238</td>\n      <td>0.972039</td>\n      <td>0.979058</td>\n    </tr>\n    <tr>\n      <th>1008</th>\n      <td>Home</td>\n      <td>1.052036</td>\n      <td>1.093567</td>\n      <td>0.865385</td>\n      <td>0.027833</td>\n      <td>0.016563</td>\n      <td>1.063768</td>\n      <td>1.066421</td>\n      <td>1.068493</td>\n    </tr>\n    <tr>\n      <th>1009</th>\n      <td>Home</td>\n      <td>0.969697</td>\n      <td>1.067416</td>\n      <td>0.941176</td>\n      <td>-0.962264</td>\n      <td>-0.369369</td>\n      <td>1.049416</td>\n      <td>1.028777</td>\n      <td>1.026923</td>\n    </tr>\n    <tr>\n      <th>1010</th>\n      <td>Home</td>\n      <td>1.058957</td>\n      <td>1.167164</td>\n      <td>0.735849</td>\n      <td>-1.225981</td>\n      <td>-1.204545</td>\n      <td>1.105362</td>\n      <td>1.085610</td>\n      <td>1.088975</td>\n    </tr>\n  </tbody>\n</table>\n<p>1011 rows × 9 columns</p>\n</div>"
     },
     "metadata": {},
     "execution_count": 126
    }
   ],
   "source": [
    "processing_data2 = processing_data2.replace([np.inf, -np.inf], np.nan).dropna(axis=1)\n",
    "processing_data2"
   ]
  },
  {
   "cell_type": "code",
   "execution_count": 127,
   "metadata": {},
   "outputs": [
    {
     "output_type": "execute_result",
     "data": {
      "text/plain": [
       "0          Home\n",
       "1       Visitor\n",
       "2          Home\n",
       "3          Home\n",
       "4          Home\n",
       "         ...   \n",
       "1006    Visitor\n",
       "1007    Visitor\n",
       "1008       Home\n",
       "1009       Home\n",
       "1010       Home\n",
       "Name: Home/Away Winner, Length: 1011, dtype: object"
      ]
     },
     "metadata": {},
     "execution_count": 127
    }
   ],
   "source": [
    "y2 = processing_data2[\"Home/Away Winner\"]\n",
    "y2"
   ]
  },
  {
   "cell_type": "code",
   "execution_count": 128,
   "metadata": {},
   "outputs": [
    {
     "output_type": "execute_result",
     "data": {
      "text/plain": [
       "      home_away_FG%_ratio  home_away_3P%_ratio  home_away_opponent_BLK_ratio  \\\n",
       "0                1.060215             1.037433                      1.022222   \n",
       "1                0.983402             0.846154                      1.097561   \n",
       "2                0.991266             0.896552                      1.170213   \n",
       "3                1.030635             0.932817                      0.946429   \n",
       "4                0.928726             0.988571                      1.292683   \n",
       "...                   ...                  ...                           ...   \n",
       "1006             0.965665             1.042135                      1.075472   \n",
       "1007             0.989858             0.979381                      0.934783   \n",
       "1008             1.052036             1.093567                      0.865385   \n",
       "1009             0.969697             1.067416                      0.941176   \n",
       "1010             1.058957             1.167164                      0.735849   \n",
       "\n",
       "      home_away_MOV_ratio  home_away_SRS_ratio  home_away_ORtg_ratio  \\\n",
       "0              -15.785714           -25.312500              1.074478   \n",
       "1                0.519071             0.475166              0.932146   \n",
       "2                6.131148             6.296610              0.953237   \n",
       "3                0.008696            -0.020725              1.011733   \n",
       "4               18.750000            13.931034              0.958144   \n",
       "...                   ...                  ...                   ...   \n",
       "1006             0.382979             0.059322              1.007162   \n",
       "1007             1.212670             1.256790              0.993238   \n",
       "1008             0.027833             0.016563              1.063768   \n",
       "1009            -0.962264            -0.369369              1.049416   \n",
       "1010            -1.225981            -1.204545              1.105362   \n",
       "\n",
       "      home_away_TS%_ratio  home_away_eFG%_ratio  \n",
       "0                1.051903              1.049451  \n",
       "1                0.951586              0.953901  \n",
       "2                0.957821              0.951673  \n",
       "3                1.026882              1.032505  \n",
       "4                0.918261              0.914498  \n",
       "...                   ...                   ...  \n",
       "1006             1.023256              1.013308  \n",
       "1007             0.972039              0.979058  \n",
       "1008             1.066421              1.068493  \n",
       "1009             1.028777              1.026923  \n",
       "1010             1.085610              1.088975  \n",
       "\n",
       "[1011 rows x 8 columns]"
      ],
      "text/html": "<div>\n<style scoped>\n    .dataframe tbody tr th:only-of-type {\n        vertical-align: middle;\n    }\n\n    .dataframe tbody tr th {\n        vertical-align: top;\n    }\n\n    .dataframe thead th {\n        text-align: right;\n    }\n</style>\n<table border=\"1\" class=\"dataframe\">\n  <thead>\n    <tr style=\"text-align: right;\">\n      <th></th>\n      <th>home_away_FG%_ratio</th>\n      <th>home_away_3P%_ratio</th>\n      <th>home_away_opponent_BLK_ratio</th>\n      <th>home_away_MOV_ratio</th>\n      <th>home_away_SRS_ratio</th>\n      <th>home_away_ORtg_ratio</th>\n      <th>home_away_TS%_ratio</th>\n      <th>home_away_eFG%_ratio</th>\n    </tr>\n  </thead>\n  <tbody>\n    <tr>\n      <th>0</th>\n      <td>1.060215</td>\n      <td>1.037433</td>\n      <td>1.022222</td>\n      <td>-15.785714</td>\n      <td>-25.312500</td>\n      <td>1.074478</td>\n      <td>1.051903</td>\n      <td>1.049451</td>\n    </tr>\n    <tr>\n      <th>1</th>\n      <td>0.983402</td>\n      <td>0.846154</td>\n      <td>1.097561</td>\n      <td>0.519071</td>\n      <td>0.475166</td>\n      <td>0.932146</td>\n      <td>0.951586</td>\n      <td>0.953901</td>\n    </tr>\n    <tr>\n      <th>2</th>\n      <td>0.991266</td>\n      <td>0.896552</td>\n      <td>1.170213</td>\n      <td>6.131148</td>\n      <td>6.296610</td>\n      <td>0.953237</td>\n      <td>0.957821</td>\n      <td>0.951673</td>\n    </tr>\n    <tr>\n      <th>3</th>\n      <td>1.030635</td>\n      <td>0.932817</td>\n      <td>0.946429</td>\n      <td>0.008696</td>\n      <td>-0.020725</td>\n      <td>1.011733</td>\n      <td>1.026882</td>\n      <td>1.032505</td>\n    </tr>\n    <tr>\n      <th>4</th>\n      <td>0.928726</td>\n      <td>0.988571</td>\n      <td>1.292683</td>\n      <td>18.750000</td>\n      <td>13.931034</td>\n      <td>0.958144</td>\n      <td>0.918261</td>\n      <td>0.914498</td>\n    </tr>\n    <tr>\n      <th>...</th>\n      <td>...</td>\n      <td>...</td>\n      <td>...</td>\n      <td>...</td>\n      <td>...</td>\n      <td>...</td>\n      <td>...</td>\n      <td>...</td>\n    </tr>\n    <tr>\n      <th>1006</th>\n      <td>0.965665</td>\n      <td>1.042135</td>\n      <td>1.075472</td>\n      <td>0.382979</td>\n      <td>0.059322</td>\n      <td>1.007162</td>\n      <td>1.023256</td>\n      <td>1.013308</td>\n    </tr>\n    <tr>\n      <th>1007</th>\n      <td>0.989858</td>\n      <td>0.979381</td>\n      <td>0.934783</td>\n      <td>1.212670</td>\n      <td>1.256790</td>\n      <td>0.993238</td>\n      <td>0.972039</td>\n      <td>0.979058</td>\n    </tr>\n    <tr>\n      <th>1008</th>\n      <td>1.052036</td>\n      <td>1.093567</td>\n      <td>0.865385</td>\n      <td>0.027833</td>\n      <td>0.016563</td>\n      <td>1.063768</td>\n      <td>1.066421</td>\n      <td>1.068493</td>\n    </tr>\n    <tr>\n      <th>1009</th>\n      <td>0.969697</td>\n      <td>1.067416</td>\n      <td>0.941176</td>\n      <td>-0.962264</td>\n      <td>-0.369369</td>\n      <td>1.049416</td>\n      <td>1.028777</td>\n      <td>1.026923</td>\n    </tr>\n    <tr>\n      <th>1010</th>\n      <td>1.058957</td>\n      <td>1.167164</td>\n      <td>0.735849</td>\n      <td>-1.225981</td>\n      <td>-1.204545</td>\n      <td>1.105362</td>\n      <td>1.085610</td>\n      <td>1.088975</td>\n    </tr>\n  </tbody>\n</table>\n<p>1011 rows × 8 columns</p>\n</div>"
     },
     "metadata": {},
     "execution_count": 128
    }
   ],
   "source": [
    "X2 = processing_data2.iloc[:,1:]\n",
    "X2"
   ]
  },
  {
   "cell_type": "code",
   "execution_count": 129,
   "metadata": {},
   "outputs": [
    {
     "output_type": "execute_result",
     "data": {
      "text/plain": [
       "     home_away_FG%_ratio  home_away_3P%_ratio  home_away_opponent_BLK_ratio  \\\n",
       "193             1.014403             0.989796                      0.938776   \n",
       "444             0.946721             0.973684                      1.186047   \n",
       "384             1.027311             1.005391                      0.782609   \n",
       "387             0.943205             0.963918                      0.978261   \n",
       "953             0.987705             1.094737                      0.953488   \n",
       "..                   ...                  ...                           ...   \n",
       "320             0.899582             0.947945                      1.060000   \n",
       "527             0.965164             0.950000                      1.232558   \n",
       "996             1.065116             1.089595                      0.886792   \n",
       "125             1.025581             0.968208                      1.000000   \n",
       "265             0.972399             1.044321                      0.886792   \n",
       "\n",
       "     home_away_MOV_ratio  home_away_SRS_ratio  home_away_ORtg_ratio  \\\n",
       "193             0.699367             0.655340              1.013710   \n",
       "444             0.218284             0.249509              0.976170   \n",
       "384             1.151402             1.116152              1.031915   \n",
       "387            -0.063348            -0.039506              0.930685   \n",
       "953             1.125000             1.186640              1.003404   \n",
       "..                   ...                  ...                   ...   \n",
       "320             5.124224             4.367568              0.949504   \n",
       "527             0.003731            -0.007859              0.954043   \n",
       "996             0.147879             0.146040              1.056030   \n",
       "125             0.895758             0.925743              1.009497   \n",
       "265           -61.000000            29.500000              0.991971   \n",
       "\n",
       "     home_away_TS%_ratio  home_away_eFG%_ratio  \n",
       "193             1.025295              1.014159  \n",
       "444             0.974619              0.950089  \n",
       "384             1.027682              1.040741  \n",
       "387             0.950658              0.952880  \n",
       "953             1.013536              1.005348  \n",
       "..                   ...                   ...  \n",
       "320             0.916667              0.897810  \n",
       "527             0.969543              0.962567  \n",
       "996             1.077652              1.093496  \n",
       "125             1.039773              1.050813  \n",
       "265             0.993019              0.996296  \n",
       "\n",
       "[808 rows x 8 columns]"
      ],
      "text/html": "<div>\n<style scoped>\n    .dataframe tbody tr th:only-of-type {\n        vertical-align: middle;\n    }\n\n    .dataframe tbody tr th {\n        vertical-align: top;\n    }\n\n    .dataframe thead th {\n        text-align: right;\n    }\n</style>\n<table border=\"1\" class=\"dataframe\">\n  <thead>\n    <tr style=\"text-align: right;\">\n      <th></th>\n      <th>home_away_FG%_ratio</th>\n      <th>home_away_3P%_ratio</th>\n      <th>home_away_opponent_BLK_ratio</th>\n      <th>home_away_MOV_ratio</th>\n      <th>home_away_SRS_ratio</th>\n      <th>home_away_ORtg_ratio</th>\n      <th>home_away_TS%_ratio</th>\n      <th>home_away_eFG%_ratio</th>\n    </tr>\n  </thead>\n  <tbody>\n    <tr>\n      <th>193</th>\n      <td>1.014403</td>\n      <td>0.989796</td>\n      <td>0.938776</td>\n      <td>0.699367</td>\n      <td>0.655340</td>\n      <td>1.013710</td>\n      <td>1.025295</td>\n      <td>1.014159</td>\n    </tr>\n    <tr>\n      <th>444</th>\n      <td>0.946721</td>\n      <td>0.973684</td>\n      <td>1.186047</td>\n      <td>0.218284</td>\n      <td>0.249509</td>\n      <td>0.976170</td>\n      <td>0.974619</td>\n      <td>0.950089</td>\n    </tr>\n    <tr>\n      <th>384</th>\n      <td>1.027311</td>\n      <td>1.005391</td>\n      <td>0.782609</td>\n      <td>1.151402</td>\n      <td>1.116152</td>\n      <td>1.031915</td>\n      <td>1.027682</td>\n      <td>1.040741</td>\n    </tr>\n    <tr>\n      <th>387</th>\n      <td>0.943205</td>\n      <td>0.963918</td>\n      <td>0.978261</td>\n      <td>-0.063348</td>\n      <td>-0.039506</td>\n      <td>0.930685</td>\n      <td>0.950658</td>\n      <td>0.952880</td>\n    </tr>\n    <tr>\n      <th>953</th>\n      <td>0.987705</td>\n      <td>1.094737</td>\n      <td>0.953488</td>\n      <td>1.125000</td>\n      <td>1.186640</td>\n      <td>1.003404</td>\n      <td>1.013536</td>\n      <td>1.005348</td>\n    </tr>\n    <tr>\n      <th>...</th>\n      <td>...</td>\n      <td>...</td>\n      <td>...</td>\n      <td>...</td>\n      <td>...</td>\n      <td>...</td>\n      <td>...</td>\n      <td>...</td>\n    </tr>\n    <tr>\n      <th>320</th>\n      <td>0.899582</td>\n      <td>0.947945</td>\n      <td>1.060000</td>\n      <td>5.124224</td>\n      <td>4.367568</td>\n      <td>0.949504</td>\n      <td>0.916667</td>\n      <td>0.897810</td>\n    </tr>\n    <tr>\n      <th>527</th>\n      <td>0.965164</td>\n      <td>0.950000</td>\n      <td>1.232558</td>\n      <td>0.003731</td>\n      <td>-0.007859</td>\n      <td>0.954043</td>\n      <td>0.969543</td>\n      <td>0.962567</td>\n    </tr>\n    <tr>\n      <th>996</th>\n      <td>1.065116</td>\n      <td>1.089595</td>\n      <td>0.886792</td>\n      <td>0.147879</td>\n      <td>0.146040</td>\n      <td>1.056030</td>\n      <td>1.077652</td>\n      <td>1.093496</td>\n    </tr>\n    <tr>\n      <th>125</th>\n      <td>1.025581</td>\n      <td>0.968208</td>\n      <td>1.000000</td>\n      <td>0.895758</td>\n      <td>0.925743</td>\n      <td>1.009497</td>\n      <td>1.039773</td>\n      <td>1.050813</td>\n    </tr>\n    <tr>\n      <th>265</th>\n      <td>0.972399</td>\n      <td>1.044321</td>\n      <td>0.886792</td>\n      <td>-61.000000</td>\n      <td>29.500000</td>\n      <td>0.991971</td>\n      <td>0.993019</td>\n      <td>0.996296</td>\n    </tr>\n  </tbody>\n</table>\n<p>808 rows × 8 columns</p>\n</div>"
     },
     "metadata": {},
     "execution_count": 129
    }
   ],
   "source": [
    "X2_train, X2_test, y2_train, y2_test = train_test_split(X2, y2, test_size=0.2, random_state=10)\n",
    "X2_train"
   ]
  },
  {
   "cell_type": "code",
   "execution_count": 130,
   "metadata": {},
   "outputs": [
    {
     "output_type": "execute_result",
     "data": {
      "text/plain": [
       "array([[ 0.25812826, -0.20367314, -0.384607  , ...,  0.22181022,\n",
       "         0.51401976,  0.2306877 ],\n",
       "       [-1.14107073, -0.42976444,  0.96382074, ..., -0.52743975,\n",
       "        -0.61885487, -1.05930916],\n",
       "       [ 0.52496953,  0.01516618, -1.23622188, ...,  0.58514755,\n",
       "         0.5673719 ,  0.76588197],\n",
       "       ...,\n",
       "       [ 1.30652487,  1.19678603, -0.66808301, ...,  1.06645975,\n",
       "         1.68446443,  1.82806176],\n",
       "       [ 0.48921473, -0.50660934, -0.05073526, ...,  0.13771071,\n",
       "         0.83767167,  0.96867828],\n",
       "       [-0.61022919,  0.56146742, -0.66808301, ..., -0.21206867,\n",
       "        -0.20751888, -0.12896813]])"
      ]
     },
     "metadata": {},
     "execution_count": 130
    }
   ],
   "source": [
    "scaled_X2_train = scaler.fit_transform(X2_train)\n",
    "scaled_X2_train"
   ]
  },
  {
   "cell_type": "code",
   "execution_count": 132,
   "metadata": {},
   "outputs": [
    {
     "output_type": "execute_result",
     "data": {
      "text/plain": [
       "array([[-0.61022919,  0.56146742, -0.66808301, ..., -0.21206867,\n",
       "        -0.20751888, -0.12896813],\n",
       "       [-0.38275564, -0.56027797, -0.16928392, ..., -0.80333689,\n",
       "        -0.47471137, -0.52943114],\n",
       "       [-0.1699259 , -0.85478764,  0.18636207, ..., -0.47648155,\n",
       "        -0.43823113, -0.42725149],\n",
       "       ...,\n",
       "       [-0.90461789,  0.40086815, -0.37792957, ...,  0.00216097,\n",
       "        -0.32314008, -0.42180837],\n",
       "       [ 2.02768088,  0.10174615, -0.56519172, ...,  0.91482725,\n",
       "         1.64212479,  1.50067758],\n",
       "       [-0.63271486, -1.09447286,  0.20290374, ..., -1.34277091,\n",
       "        -0.84581252, -0.87986061]])"
      ]
     },
     "metadata": {},
     "execution_count": 132
    }
   ],
   "source": [
    "scaled_X2_test = scaler.transform(X2_test)\n",
    "scaled_X2_test"
   ]
  },
  {
   "cell_type": "code",
   "execution_count": 133,
   "metadata": {},
   "outputs": [
    {
     "output_type": "execute_result",
     "data": {
      "text/plain": [
       "SVC()"
      ]
     },
     "metadata": {},
     "execution_count": 133
    }
   ],
   "source": [
    "svc_clf2 = SVC()\n",
    "svc_clf2.fit(scaled_X2_train, y2_train)"
   ]
  },
  {
   "cell_type": "code",
   "execution_count": 135,
   "metadata": {},
   "outputs": [
    {
     "output_type": "execute_result",
     "data": {
      "text/plain": [
       "array(['Home', 'Visitor', 'Visitor', 'Home', 'Home', 'Visitor', 'Home',\n",
       "       'Home', 'Home', 'Home', 'Home', 'Home', 'Visitor', 'Visitor',\n",
       "       'Home', 'Visitor', 'Home', 'Visitor', 'Visitor', 'Home', 'Home',\n",
       "       'Home', 'Visitor', 'Home', 'Visitor', 'Visitor', 'Visitor', 'Home',\n",
       "       'Home', 'Visitor', 'Visitor', 'Home', 'Home', 'Visitor', 'Home',\n",
       "       'Visitor', 'Home', 'Visitor', 'Home', 'Visitor', 'Home', 'Visitor',\n",
       "       'Home', 'Visitor', 'Visitor', 'Visitor', 'Home', 'Visitor',\n",
       "       'Visitor', 'Home', 'Home', 'Home', 'Home', 'Visitor', 'Visitor',\n",
       "       'Visitor', 'Home', 'Visitor', 'Home', 'Visitor', 'Visitor',\n",
       "       'Visitor', 'Visitor', 'Visitor', 'Home', 'Visitor', 'Home', 'Home',\n",
       "       'Visitor', 'Home', 'Home', 'Visitor', 'Home', 'Home', 'Visitor',\n",
       "       'Visitor', 'Visitor', 'Home', 'Visitor', 'Visitor', 'Visitor',\n",
       "       'Visitor', 'Visitor', 'Home', 'Home', 'Visitor', 'Home', 'Home',\n",
       "       'Visitor', 'Visitor', 'Visitor', 'Visitor', 'Home', 'Visitor',\n",
       "       'Visitor', 'Home', 'Visitor', 'Home', 'Home', 'Home', 'Visitor',\n",
       "       'Visitor', 'Home', 'Visitor', 'Visitor', 'Home', 'Visitor',\n",
       "       'Visitor', 'Home', 'Home', 'Home', 'Visitor', 'Home', 'Visitor',\n",
       "       'Home', 'Visitor', 'Visitor', 'Home', 'Home', 'Home', 'Home',\n",
       "       'Visitor', 'Visitor', 'Visitor', 'Home', 'Visitor', 'Home', 'Home',\n",
       "       'Home', 'Visitor', 'Visitor', 'Home', 'Visitor', 'Home', 'Visitor',\n",
       "       'Visitor', 'Visitor', 'Visitor', 'Home', 'Home', 'Home', 'Visitor',\n",
       "       'Home', 'Visitor', 'Visitor', 'Home', 'Visitor', 'Visitor',\n",
       "       'Visitor', 'Visitor', 'Home', 'Home', 'Home', 'Home', 'Home',\n",
       "       'Home', 'Visitor', 'Visitor', 'Home', 'Home', 'Home', 'Visitor',\n",
       "       'Home', 'Visitor', 'Home', 'Visitor', 'Home', 'Home', 'Home',\n",
       "       'Home', 'Visitor', 'Home', 'Home', 'Home', 'Home', 'Visitor',\n",
       "       'Visitor', 'Visitor', 'Visitor', 'Home', 'Home', 'Visitor', 'Home',\n",
       "       'Home', 'Home', 'Visitor', 'Visitor', 'Visitor', 'Visitor', 'Home',\n",
       "       'Home', 'Visitor', 'Home', 'Visitor', 'Visitor', 'Home', 'Home',\n",
       "       'Home', 'Visitor', 'Home', 'Home', 'Home', 'Visitor'], dtype=object)"
      ]
     },
     "metadata": {},
     "execution_count": 135
    }
   ],
   "source": [
    "svc_clf2_predictions = svc_clf2.predict(scaled_X2_test)\n",
    "svc_clf2_predictions"
   ]
  },
  {
   "cell_type": "code",
   "execution_count": 136,
   "metadata": {},
   "outputs": [
    {
     "output_type": "execute_result",
     "data": {
      "text/plain": [
       "array([[69, 31],\n",
       "       [34, 69]])"
      ]
     },
     "metadata": {},
     "execution_count": 136
    }
   ],
   "source": [
    "confusion_matrix(y2_test, svc_clf2_predictions)"
   ]
  },
  {
   "cell_type": "code",
   "execution_count": 137,
   "metadata": {},
   "outputs": [
    {
     "output_type": "execute_result",
     "data": {
      "text/plain": [
       "0.6798029556650246"
      ]
     },
     "metadata": {},
     "execution_count": 137
    }
   ],
   "source": [
    "accuracy_score(y2_test, svc_clf2_predictions)"
   ]
  },
  {
   "cell_type": "code",
   "execution_count": 139,
   "metadata": {},
   "outputs": [
    {
     "output_type": "execute_result",
     "data": {
      "text/plain": [
       "0.6699029126213593"
      ]
     },
     "metadata": {},
     "execution_count": 139
    }
   ],
   "source": [
    "precision_score(y2_test, svc_clf2_predictions, pos_label=\"Home\")"
   ]
  },
  {
   "cell_type": "code",
   "execution_count": 140,
   "metadata": {},
   "outputs": [
    {
     "output_type": "execute_result",
     "data": {
      "text/plain": [
       "0.69"
      ]
     },
     "metadata": {},
     "execution_count": 140
    }
   ],
   "source": [
    "recall_score(y2_test, svc_clf2_predictions, pos_label=\"Home\")"
   ]
  },
  {
   "cell_type": "code",
   "execution_count": 145,
   "metadata": {},
   "outputs": [
    {
     "output_type": "execute_result",
     "data": {
      "text/plain": [
       "GridSearchCV(cv=5, estimator=RandomForestClassifier(),\n",
       "             param_grid=[{'max_features': [2, 4, 6, 8],\n",
       "                          'n_estimators': [3, 10, 30]},\n",
       "                         {'bootstrap': [False], 'max_features': [2, 3, 4],\n",
       "                          'n_estimators': [3, 10]}],\n",
       "             return_train_score=True, scoring='accuracy')"
      ]
     },
     "metadata": {},
     "execution_count": 145
    }
   ],
   "source": [
    "from sklearn.model_selection import GridSearchCV\n",
    "from sklearn.ensemble import RandomForestClassifier\n",
    "\n",
    "param_grid = [\n",
    "    {'n_estimators': [3, 10, 30], 'max_features': [2, 4, 6, 8]},\n",
    "    {'bootstrap': [False], 'n_estimators': [3, 10], 'max_features': [2, 3, 4]},\n",
    "]\n",
    "rfc = RandomForestClassifier()\n",
    "\n",
    "grid_search = GridSearchCV(rfc, param_grid, cv=5, scoring='accuracy', return_train_score=True)\n",
    "grid_search.fit(scaled_X2_train, y2_train)"
   ]
  },
  {
   "cell_type": "code",
   "execution_count": 147,
   "metadata": {},
   "outputs": [
    {
     "output_type": "execute_result",
     "data": {
      "text/plain": [
       "RandomForestClassifier(max_features=2, n_estimators=30)"
      ]
     },
     "metadata": {},
     "execution_count": 147
    }
   ],
   "source": [
    "rfc_clf = grid_search.best_estimator_\n",
    "rfc_clf"
   ]
  },
  {
   "cell_type": "code",
   "execution_count": 148,
   "metadata": {},
   "outputs": [
    {
     "output_type": "execute_result",
     "data": {
      "text/plain": [
       "array(['Home', 'Visitor', 'Visitor', 'Home', 'Visitor', 'Home', 'Visitor',\n",
       "       'Home', 'Home', 'Visitor', 'Visitor', 'Home', 'Visitor', 'Home',\n",
       "       'Visitor', 'Home', 'Home', 'Home', 'Visitor', 'Home', 'Visitor',\n",
       "       'Home', 'Visitor', 'Home', 'Visitor', 'Home', 'Visitor', 'Home',\n",
       "       'Home', 'Visitor', 'Visitor', 'Home', 'Home', 'Home', 'Home',\n",
       "       'Visitor', 'Home', 'Visitor', 'Home', 'Home', 'Home', 'Visitor',\n",
       "       'Home', 'Visitor', 'Visitor', 'Visitor', 'Home', 'Home', 'Visitor',\n",
       "       'Visitor', 'Visitor', 'Home', 'Home', 'Home', 'Home', 'Visitor',\n",
       "       'Home', 'Home', 'Home', 'Home', 'Visitor', 'Home', 'Visitor',\n",
       "       'Visitor', 'Visitor', 'Visitor', 'Home', 'Home', 'Visitor', 'Home',\n",
       "       'Home', 'Home', 'Visitor', 'Visitor', 'Home', 'Home', 'Home',\n",
       "       'Home', 'Visitor', 'Home', 'Visitor', 'Visitor', 'Home', 'Home',\n",
       "       'Home', 'Visitor', 'Home', 'Home', 'Visitor', 'Visitor', 'Visitor',\n",
       "       'Visitor', 'Visitor', 'Visitor', 'Visitor', 'Home', 'Home', 'Home',\n",
       "       'Home', 'Home', 'Visitor', 'Home', 'Home', 'Visitor', 'Visitor',\n",
       "       'Home', 'Visitor', 'Home', 'Visitor', 'Home', 'Home', 'Visitor',\n",
       "       'Home', 'Visitor', 'Home', 'Visitor', 'Visitor', 'Visitor', 'Home',\n",
       "       'Visitor', 'Home', 'Home', 'Home', 'Visitor', 'Home', 'Visitor',\n",
       "       'Visitor', 'Home', 'Home', 'Visitor', 'Visitor', 'Home', 'Visitor',\n",
       "       'Home', 'Home', 'Home', 'Visitor', 'Visitor', 'Home', 'Home',\n",
       "       'Home', 'Visitor', 'Home', 'Visitor', 'Visitor', 'Home', 'Home',\n",
       "       'Visitor', 'Home', 'Visitor', 'Visitor', 'Visitor', 'Home', 'Home',\n",
       "       'Home', 'Visitor', 'Home', 'Home', 'Home', 'Home', 'Home',\n",
       "       'Visitor', 'Home', 'Visitor', 'Home', 'Visitor', 'Home', 'Home',\n",
       "       'Home', 'Home', 'Visitor', 'Home', 'Home', 'Visitor', 'Home',\n",
       "       'Visitor', 'Home', 'Visitor', 'Visitor', 'Visitor', 'Visitor',\n",
       "       'Visitor', 'Home', 'Visitor', 'Home', 'Visitor', 'Visitor',\n",
       "       'Visitor', 'Visitor', 'Home', 'Home', 'Visitor', 'Home', 'Visitor',\n",
       "       'Visitor', 'Visitor', 'Home', 'Home', 'Visitor', 'Home', 'Visitor',\n",
       "       'Visitor', 'Home'], dtype=object)"
      ]
     },
     "metadata": {},
     "execution_count": 148
    }
   ],
   "source": [
    "rfc_predictions = rfc_clf.predict(scaled_X2_test)\n",
    "rfc_predictions"
   ]
  },
  {
   "cell_type": "code",
   "execution_count": 152,
   "metadata": {},
   "outputs": [
    {
     "output_type": "execute_result",
     "data": {
      "text/plain": [
       "(array([[64, 36],\n",
       "        [45, 58]]),\n",
       " 0.6009852216748769,\n",
       " 0.5871559633027523,\n",
       " 0.64)"
      ]
     },
     "metadata": {},
     "execution_count": 152
    }
   ],
   "source": [
    "algo_accuracy(y2_test, rfc_predictions)"
   ]
  },
  {
   "cell_type": "code",
   "execution_count": 153,
   "metadata": {},
   "outputs": [
    {
     "output_type": "execute_result",
     "data": {
      "text/plain": [
       "     Home/Away Winner  home_away_FG%_ratio  home_away_3P%_ratio  \\\n",
       "0                Home             1.060215             1.037433   \n",
       "1             Visitor             0.983402             0.846154   \n",
       "2                Home             0.991266             0.896552   \n",
       "3                Home             1.030635             0.932817   \n",
       "4                Home             0.928726             0.988571   \n",
       "...               ...                  ...                  ...   \n",
       "1006          Visitor             0.965665             1.042135   \n",
       "1007          Visitor             0.989858             0.979381   \n",
       "1008             Home             1.052036             1.093567   \n",
       "1009             Home             0.969697             1.067416   \n",
       "1010             Home             1.058957             1.167164   \n",
       "\n",
       "      home_away_opponent_BLK_ratio  home_away_MOV_ratio  home_away_SRS_ratio  \\\n",
       "0                         1.022222           -15.785714           -25.312500   \n",
       "1                         1.097561             0.519071             0.475166   \n",
       "2                         1.170213             6.131148             6.296610   \n",
       "3                         0.946429             0.008696            -0.020725   \n",
       "4                         1.292683            18.750000            13.931034   \n",
       "...                            ...                  ...                  ...   \n",
       "1006                      1.075472             0.382979             0.059322   \n",
       "1007                      0.934783             1.212670             1.256790   \n",
       "1008                      0.865385             0.027833             0.016563   \n",
       "1009                      0.941176            -0.962264            -0.369369   \n",
       "1010                      0.735849            -1.225981            -1.204545   \n",
       "\n",
       "      home_away_ORtg_ratio  home_away_NRtg_ratio  home_away_TS%_ratio  \\\n",
       "0                 1.074478            -14.666667             1.051903   \n",
       "1                 0.932146              0.500000             0.951586   \n",
       "2                 0.953237              5.846154             0.957821   \n",
       "3                 1.011733              0.000000             1.026882   \n",
       "4                 0.958144             16.800000             0.918261   \n",
       "...                    ...                   ...                  ...   \n",
       "1006              1.007162              0.400000             1.023256   \n",
       "1007              0.993238              1.227273             0.972039   \n",
       "1008              1.063768              0.030303             1.066421   \n",
       "1009              1.049416             -1.000000             1.028777   \n",
       "1010              1.105362             -1.260274             1.085610   \n",
       "\n",
       "      home_away_eFG%_ratio  home_away_FG%_plus_minus  \\\n",
       "0                 1.049451                     0.028   \n",
       "1                 0.953901                    -0.008   \n",
       "2                 0.951673                    -0.004   \n",
       "3                 1.032505                     0.014   \n",
       "4                 0.914498                    -0.033   \n",
       "...                    ...                       ...   \n",
       "1006              1.013308                    -0.016   \n",
       "1007              0.979058                    -0.005   \n",
       "1008              1.068493                     0.023   \n",
       "1009              1.026923                    -0.014   \n",
       "1010              1.088975                     0.026   \n",
       "\n",
       "      home_away_3P%_plus_minus  home_away_opponent_BLK_plus_minus  \\\n",
       "0                        0.014                                0.1   \n",
       "1                       -0.064                                0.4   \n",
       "2                       -0.039                                0.8   \n",
       "3                       -0.026                               -0.3   \n",
       "4                       -0.004                                1.2   \n",
       "...                        ...                                ...   \n",
       "1006                     0.015                                0.4   \n",
       "1007                    -0.008                               -0.3   \n",
       "1008                     0.032                               -0.7   \n",
       "1009                     0.024                               -0.3   \n",
       "1010                     0.056                               -1.4   \n",
       "\n",
       "      home_away_MOV_plus_minus  home_away_SRS_plus_minus  \\\n",
       "0                         4.70                      4.21   \n",
       "1                        -2.90                     -3.17   \n",
       "2                        -6.26                     -6.25   \n",
       "3                        -2.28                     -1.97   \n",
       "4                        -7.81                     -7.50   \n",
       "...                        ...                       ...   \n",
       "1006                     -0.58                     -1.11   \n",
       "1007                      0.94                      1.04   \n",
       "1008                      9.78                      9.50   \n",
       "1009                      1.04                      1.52   \n",
       "1010                     16.45                     16.49   \n",
       "\n",
       "      home_away_ORtg_plus_minus  home_away_NRtg_plus_minus  \\\n",
       "0                           8.2                        4.7   \n",
       "1                          -8.0                       -3.1   \n",
       "2                          -5.2                       -6.3   \n",
       "3                           1.3                       -2.4   \n",
       "4                          -4.6                       -7.9   \n",
       "...                         ...                        ...   \n",
       "1006                        0.8                       -0.6   \n",
       "1007                       -0.8                        1.0   \n",
       "1008                        6.6                        9.6   \n",
       "1009                        5.5                        1.0   \n",
       "1010                       11.2                       16.5   \n",
       "\n",
       "      home_away_TS%_plus_minus  home_away_eFG%_plus_minus  \n",
       "0                        0.030                      0.027  \n",
       "1                       -0.029                     -0.026  \n",
       "2                       -0.024                     -0.026  \n",
       "3                        0.015                      0.017  \n",
       "4                       -0.047                     -0.046  \n",
       "...                        ...                        ...  \n",
       "1006                     0.013                      0.007  \n",
       "1007                    -0.017                     -0.012  \n",
       "1008                     0.036                      0.035  \n",
       "1009                     0.016                      0.014  \n",
       "1010                     0.047                      0.046  \n",
       "\n",
       "[1011 rows x 19 columns]"
      ],
      "text/html": "<div>\n<style scoped>\n    .dataframe tbody tr th:only-of-type {\n        vertical-align: middle;\n    }\n\n    .dataframe tbody tr th {\n        vertical-align: top;\n    }\n\n    .dataframe thead th {\n        text-align: right;\n    }\n</style>\n<table border=\"1\" class=\"dataframe\">\n  <thead>\n    <tr style=\"text-align: right;\">\n      <th></th>\n      <th>Home/Away Winner</th>\n      <th>home_away_FG%_ratio</th>\n      <th>home_away_3P%_ratio</th>\n      <th>home_away_opponent_BLK_ratio</th>\n      <th>home_away_MOV_ratio</th>\n      <th>home_away_SRS_ratio</th>\n      <th>home_away_ORtg_ratio</th>\n      <th>home_away_NRtg_ratio</th>\n      <th>home_away_TS%_ratio</th>\n      <th>home_away_eFG%_ratio</th>\n      <th>home_away_FG%_plus_minus</th>\n      <th>home_away_3P%_plus_minus</th>\n      <th>home_away_opponent_BLK_plus_minus</th>\n      <th>home_away_MOV_plus_minus</th>\n      <th>home_away_SRS_plus_minus</th>\n      <th>home_away_ORtg_plus_minus</th>\n      <th>home_away_NRtg_plus_minus</th>\n      <th>home_away_TS%_plus_minus</th>\n      <th>home_away_eFG%_plus_minus</th>\n    </tr>\n  </thead>\n  <tbody>\n    <tr>\n      <th>0</th>\n      <td>Home</td>\n      <td>1.060215</td>\n      <td>1.037433</td>\n      <td>1.022222</td>\n      <td>-15.785714</td>\n      <td>-25.312500</td>\n      <td>1.074478</td>\n      <td>-14.666667</td>\n      <td>1.051903</td>\n      <td>1.049451</td>\n      <td>0.028</td>\n      <td>0.014</td>\n      <td>0.1</td>\n      <td>4.70</td>\n      <td>4.21</td>\n      <td>8.2</td>\n      <td>4.7</td>\n      <td>0.030</td>\n      <td>0.027</td>\n    </tr>\n    <tr>\n      <th>1</th>\n      <td>Visitor</td>\n      <td>0.983402</td>\n      <td>0.846154</td>\n      <td>1.097561</td>\n      <td>0.519071</td>\n      <td>0.475166</td>\n      <td>0.932146</td>\n      <td>0.500000</td>\n      <td>0.951586</td>\n      <td>0.953901</td>\n      <td>-0.008</td>\n      <td>-0.064</td>\n      <td>0.4</td>\n      <td>-2.90</td>\n      <td>-3.17</td>\n      <td>-8.0</td>\n      <td>-3.1</td>\n      <td>-0.029</td>\n      <td>-0.026</td>\n    </tr>\n    <tr>\n      <th>2</th>\n      <td>Home</td>\n      <td>0.991266</td>\n      <td>0.896552</td>\n      <td>1.170213</td>\n      <td>6.131148</td>\n      <td>6.296610</td>\n      <td>0.953237</td>\n      <td>5.846154</td>\n      <td>0.957821</td>\n      <td>0.951673</td>\n      <td>-0.004</td>\n      <td>-0.039</td>\n      <td>0.8</td>\n      <td>-6.26</td>\n      <td>-6.25</td>\n      <td>-5.2</td>\n      <td>-6.3</td>\n      <td>-0.024</td>\n      <td>-0.026</td>\n    </tr>\n    <tr>\n      <th>3</th>\n      <td>Home</td>\n      <td>1.030635</td>\n      <td>0.932817</td>\n      <td>0.946429</td>\n      <td>0.008696</td>\n      <td>-0.020725</td>\n      <td>1.011733</td>\n      <td>0.000000</td>\n      <td>1.026882</td>\n      <td>1.032505</td>\n      <td>0.014</td>\n      <td>-0.026</td>\n      <td>-0.3</td>\n      <td>-2.28</td>\n      <td>-1.97</td>\n      <td>1.3</td>\n      <td>-2.4</td>\n      <td>0.015</td>\n      <td>0.017</td>\n    </tr>\n    <tr>\n      <th>4</th>\n      <td>Home</td>\n      <td>0.928726</td>\n      <td>0.988571</td>\n      <td>1.292683</td>\n      <td>18.750000</td>\n      <td>13.931034</td>\n      <td>0.958144</td>\n      <td>16.800000</td>\n      <td>0.918261</td>\n      <td>0.914498</td>\n      <td>-0.033</td>\n      <td>-0.004</td>\n      <td>1.2</td>\n      <td>-7.81</td>\n      <td>-7.50</td>\n      <td>-4.6</td>\n      <td>-7.9</td>\n      <td>-0.047</td>\n      <td>-0.046</td>\n    </tr>\n    <tr>\n      <th>...</th>\n      <td>...</td>\n      <td>...</td>\n      <td>...</td>\n      <td>...</td>\n      <td>...</td>\n      <td>...</td>\n      <td>...</td>\n      <td>...</td>\n      <td>...</td>\n      <td>...</td>\n      <td>...</td>\n      <td>...</td>\n      <td>...</td>\n      <td>...</td>\n      <td>...</td>\n      <td>...</td>\n      <td>...</td>\n      <td>...</td>\n      <td>...</td>\n    </tr>\n    <tr>\n      <th>1006</th>\n      <td>Visitor</td>\n      <td>0.965665</td>\n      <td>1.042135</td>\n      <td>1.075472</td>\n      <td>0.382979</td>\n      <td>0.059322</td>\n      <td>1.007162</td>\n      <td>0.400000</td>\n      <td>1.023256</td>\n      <td>1.013308</td>\n      <td>-0.016</td>\n      <td>0.015</td>\n      <td>0.4</td>\n      <td>-0.58</td>\n      <td>-1.11</td>\n      <td>0.8</td>\n      <td>-0.6</td>\n      <td>0.013</td>\n      <td>0.007</td>\n    </tr>\n    <tr>\n      <th>1007</th>\n      <td>Visitor</td>\n      <td>0.989858</td>\n      <td>0.979381</td>\n      <td>0.934783</td>\n      <td>1.212670</td>\n      <td>1.256790</td>\n      <td>0.993238</td>\n      <td>1.227273</td>\n      <td>0.972039</td>\n      <td>0.979058</td>\n      <td>-0.005</td>\n      <td>-0.008</td>\n      <td>-0.3</td>\n      <td>0.94</td>\n      <td>1.04</td>\n      <td>-0.8</td>\n      <td>1.0</td>\n      <td>-0.017</td>\n      <td>-0.012</td>\n    </tr>\n    <tr>\n      <th>1008</th>\n      <td>Home</td>\n      <td>1.052036</td>\n      <td>1.093567</td>\n      <td>0.865385</td>\n      <td>0.027833</td>\n      <td>0.016563</td>\n      <td>1.063768</td>\n      <td>0.030303</td>\n      <td>1.066421</td>\n      <td>1.068493</td>\n      <td>0.023</td>\n      <td>0.032</td>\n      <td>-0.7</td>\n      <td>9.78</td>\n      <td>9.50</td>\n      <td>6.6</td>\n      <td>9.6</td>\n      <td>0.036</td>\n      <td>0.035</td>\n    </tr>\n    <tr>\n      <th>1009</th>\n      <td>Home</td>\n      <td>0.969697</td>\n      <td>1.067416</td>\n      <td>0.941176</td>\n      <td>-0.962264</td>\n      <td>-0.369369</td>\n      <td>1.049416</td>\n      <td>-1.000000</td>\n      <td>1.028777</td>\n      <td>1.026923</td>\n      <td>-0.014</td>\n      <td>0.024</td>\n      <td>-0.3</td>\n      <td>1.04</td>\n      <td>1.52</td>\n      <td>5.5</td>\n      <td>1.0</td>\n      <td>0.016</td>\n      <td>0.014</td>\n    </tr>\n    <tr>\n      <th>1010</th>\n      <td>Home</td>\n      <td>1.058957</td>\n      <td>1.167164</td>\n      <td>0.735849</td>\n      <td>-1.225981</td>\n      <td>-1.204545</td>\n      <td>1.105362</td>\n      <td>-1.260274</td>\n      <td>1.085610</td>\n      <td>1.088975</td>\n      <td>0.026</td>\n      <td>0.056</td>\n      <td>-1.4</td>\n      <td>16.45</td>\n      <td>16.49</td>\n      <td>11.2</td>\n      <td>16.5</td>\n      <td>0.047</td>\n      <td>0.046</td>\n    </tr>\n  </tbody>\n</table>\n<p>1011 rows × 19 columns</p>\n</div>"
     },
     "metadata": {},
     "execution_count": 153
    }
   ],
   "source": [
    "processing_data3 = game_schedule\n",
    "\n",
    "processing_data3[\"home_away_FG%_plus_minus\"] = processing_data[\"home_FG%\"] - processing_data[\"away_FG%\"]\n",
    "processing_data3[\"home_away_3P%_plus_minus\"] = processing_data[\"home_3P%\"] - processing_data[\"away_3P%\"]\n",
    "processing_data3[\"home_away_opponent_BLK_plus_minus\"] = processing_data[\"home_opponent_BLK\"] - processing_data[\"away_opponent_BLK\"]\n",
    "processing_data3[\"home_away_MOV_plus_minus\"] = processing_data[\"home_MOV\"] - processing_data[\"away_MOV\"]\n",
    "processing_data3[\"home_away_SRS_plus_minus\"] = processing_data[\"home_SRS\"] - processing_data[\"away_SRS\"]\n",
    "processing_data3[\"home_away_ORtg_plus_minus\"] = processing_data[\"home_ORtg\"] - processing_data[\"away_ORtg\"]\n",
    "processing_data3[\"home_away_NRtg_plus_minus\"] = processing_data[\"home_NRtg\"] - processing_data[\"away_NRtg\"]\n",
    "processing_data3[\"home_away_TS%_plus_minus\"] = processing_data[\"home_TS%\"] - processing_data[\"away_TS%\"]\n",
    "processing_data3[\"home_away_eFG%_plus_minus\"] = processing_data[\"home_eFG%\"] - processing_data[\"away_eFG%\"]\n",
    "\n",
    "processing_data3"
   ]
  },
  {
   "cell_type": "code",
   "execution_count": 156,
   "metadata": {},
   "outputs": [
    {
     "output_type": "execute_result",
     "data": {
      "text/plain": [
       "     Home/Away Winner  home_away_FG%_plus_minus  home_away_3P%_plus_minus  \\\n",
       "0                Home                     0.028                     0.014   \n",
       "1             Visitor                    -0.008                    -0.064   \n",
       "2                Home                    -0.004                    -0.039   \n",
       "3                Home                     0.014                    -0.026   \n",
       "4                Home                    -0.033                    -0.004   \n",
       "...               ...                       ...                       ...   \n",
       "1006          Visitor                    -0.016                     0.015   \n",
       "1007          Visitor                    -0.005                    -0.008   \n",
       "1008             Home                     0.023                     0.032   \n",
       "1009             Home                    -0.014                     0.024   \n",
       "1010             Home                     0.026                     0.056   \n",
       "\n",
       "      home_away_opponent_BLK_plus_minus  home_away_MOV_plus_minus  \\\n",
       "0                                   0.1                      4.70   \n",
       "1                                   0.4                     -2.90   \n",
       "2                                   0.8                     -6.26   \n",
       "3                                  -0.3                     -2.28   \n",
       "4                                   1.2                     -7.81   \n",
       "...                                 ...                       ...   \n",
       "1006                                0.4                     -0.58   \n",
       "1007                               -0.3                      0.94   \n",
       "1008                               -0.7                      9.78   \n",
       "1009                               -0.3                      1.04   \n",
       "1010                               -1.4                     16.45   \n",
       "\n",
       "      home_away_SRS_plus_minus  home_away_ORtg_plus_minus  \\\n",
       "0                         4.21                        8.2   \n",
       "1                        -3.17                       -8.0   \n",
       "2                        -6.25                       -5.2   \n",
       "3                        -1.97                        1.3   \n",
       "4                        -7.50                       -4.6   \n",
       "...                        ...                        ...   \n",
       "1006                     -1.11                        0.8   \n",
       "1007                      1.04                       -0.8   \n",
       "1008                      9.50                        6.6   \n",
       "1009                      1.52                        5.5   \n",
       "1010                     16.49                       11.2   \n",
       "\n",
       "      home_away_NRtg_plus_minus  home_away_TS%_plus_minus  \\\n",
       "0                           4.7                     0.030   \n",
       "1                          -3.1                    -0.029   \n",
       "2                          -6.3                    -0.024   \n",
       "3                          -2.4                     0.015   \n",
       "4                          -7.9                    -0.047   \n",
       "...                         ...                       ...   \n",
       "1006                       -0.6                     0.013   \n",
       "1007                        1.0                    -0.017   \n",
       "1008                        9.6                     0.036   \n",
       "1009                        1.0                     0.016   \n",
       "1010                       16.5                     0.047   \n",
       "\n",
       "      home_away_eFG%_plus_minus  \n",
       "0                         0.027  \n",
       "1                        -0.026  \n",
       "2                        -0.026  \n",
       "3                         0.017  \n",
       "4                        -0.046  \n",
       "...                         ...  \n",
       "1006                      0.007  \n",
       "1007                     -0.012  \n",
       "1008                      0.035  \n",
       "1009                      0.014  \n",
       "1010                      0.046  \n",
       "\n",
       "[1011 rows x 10 columns]"
      ],
      "text/html": "<div>\n<style scoped>\n    .dataframe tbody tr th:only-of-type {\n        vertical-align: middle;\n    }\n\n    .dataframe tbody tr th {\n        vertical-align: top;\n    }\n\n    .dataframe thead th {\n        text-align: right;\n    }\n</style>\n<table border=\"1\" class=\"dataframe\">\n  <thead>\n    <tr style=\"text-align: right;\">\n      <th></th>\n      <th>Home/Away Winner</th>\n      <th>home_away_FG%_plus_minus</th>\n      <th>home_away_3P%_plus_minus</th>\n      <th>home_away_opponent_BLK_plus_minus</th>\n      <th>home_away_MOV_plus_minus</th>\n      <th>home_away_SRS_plus_minus</th>\n      <th>home_away_ORtg_plus_minus</th>\n      <th>home_away_NRtg_plus_minus</th>\n      <th>home_away_TS%_plus_minus</th>\n      <th>home_away_eFG%_plus_minus</th>\n    </tr>\n  </thead>\n  <tbody>\n    <tr>\n      <th>0</th>\n      <td>Home</td>\n      <td>0.028</td>\n      <td>0.014</td>\n      <td>0.1</td>\n      <td>4.70</td>\n      <td>4.21</td>\n      <td>8.2</td>\n      <td>4.7</td>\n      <td>0.030</td>\n      <td>0.027</td>\n    </tr>\n    <tr>\n      <th>1</th>\n      <td>Visitor</td>\n      <td>-0.008</td>\n      <td>-0.064</td>\n      <td>0.4</td>\n      <td>-2.90</td>\n      <td>-3.17</td>\n      <td>-8.0</td>\n      <td>-3.1</td>\n      <td>-0.029</td>\n      <td>-0.026</td>\n    </tr>\n    <tr>\n      <th>2</th>\n      <td>Home</td>\n      <td>-0.004</td>\n      <td>-0.039</td>\n      <td>0.8</td>\n      <td>-6.26</td>\n      <td>-6.25</td>\n      <td>-5.2</td>\n      <td>-6.3</td>\n      <td>-0.024</td>\n      <td>-0.026</td>\n    </tr>\n    <tr>\n      <th>3</th>\n      <td>Home</td>\n      <td>0.014</td>\n      <td>-0.026</td>\n      <td>-0.3</td>\n      <td>-2.28</td>\n      <td>-1.97</td>\n      <td>1.3</td>\n      <td>-2.4</td>\n      <td>0.015</td>\n      <td>0.017</td>\n    </tr>\n    <tr>\n      <th>4</th>\n      <td>Home</td>\n      <td>-0.033</td>\n      <td>-0.004</td>\n      <td>1.2</td>\n      <td>-7.81</td>\n      <td>-7.50</td>\n      <td>-4.6</td>\n      <td>-7.9</td>\n      <td>-0.047</td>\n      <td>-0.046</td>\n    </tr>\n    <tr>\n      <th>...</th>\n      <td>...</td>\n      <td>...</td>\n      <td>...</td>\n      <td>...</td>\n      <td>...</td>\n      <td>...</td>\n      <td>...</td>\n      <td>...</td>\n      <td>...</td>\n      <td>...</td>\n    </tr>\n    <tr>\n      <th>1006</th>\n      <td>Visitor</td>\n      <td>-0.016</td>\n      <td>0.015</td>\n      <td>0.4</td>\n      <td>-0.58</td>\n      <td>-1.11</td>\n      <td>0.8</td>\n      <td>-0.6</td>\n      <td>0.013</td>\n      <td>0.007</td>\n    </tr>\n    <tr>\n      <th>1007</th>\n      <td>Visitor</td>\n      <td>-0.005</td>\n      <td>-0.008</td>\n      <td>-0.3</td>\n      <td>0.94</td>\n      <td>1.04</td>\n      <td>-0.8</td>\n      <td>1.0</td>\n      <td>-0.017</td>\n      <td>-0.012</td>\n    </tr>\n    <tr>\n      <th>1008</th>\n      <td>Home</td>\n      <td>0.023</td>\n      <td>0.032</td>\n      <td>-0.7</td>\n      <td>9.78</td>\n      <td>9.50</td>\n      <td>6.6</td>\n      <td>9.6</td>\n      <td>0.036</td>\n      <td>0.035</td>\n    </tr>\n    <tr>\n      <th>1009</th>\n      <td>Home</td>\n      <td>-0.014</td>\n      <td>0.024</td>\n      <td>-0.3</td>\n      <td>1.04</td>\n      <td>1.52</td>\n      <td>5.5</td>\n      <td>1.0</td>\n      <td>0.016</td>\n      <td>0.014</td>\n    </tr>\n    <tr>\n      <th>1010</th>\n      <td>Home</td>\n      <td>0.026</td>\n      <td>0.056</td>\n      <td>-1.4</td>\n      <td>16.45</td>\n      <td>16.49</td>\n      <td>11.2</td>\n      <td>16.5</td>\n      <td>0.047</td>\n      <td>0.046</td>\n    </tr>\n  </tbody>\n</table>\n<p>1011 rows × 10 columns</p>\n</div>"
     },
     "metadata": {},
     "execution_count": 156
    }
   ],
   "source": [
    "processing_data3.drop(columns=[\"home_away_FG%_ratio\", \"home_away_3P%_ratio\", \"home_away_opponent_BLK_ratio\", \"home_away_MOV_ratio\", \"home_away_SRS_ratio\", \"home_away_ORtg_ratio\", \"home_away_NRtg_ratio\", \"home_away_TS%_ratio\", \"home_away_eFG%_ratio\"], inplace=True)\n",
    "processing_data3"
   ]
  },
  {
   "cell_type": "code",
   "execution_count": 157,
   "metadata": {},
   "outputs": [
    {
     "output_type": "execute_result",
     "data": {
      "text/plain": [
       "0          Home\n",
       "1       Visitor\n",
       "2          Home\n",
       "3          Home\n",
       "4          Home\n",
       "         ...   \n",
       "1006    Visitor\n",
       "1007    Visitor\n",
       "1008       Home\n",
       "1009       Home\n",
       "1010       Home\n",
       "Name: Home/Away Winner, Length: 1011, dtype: object"
      ]
     },
     "metadata": {},
     "execution_count": 157
    }
   ],
   "source": [
    "y3 = processing_data2[\"Home/Away Winner\"]\n",
    "y3"
   ]
  },
  {
   "cell_type": "code",
   "execution_count": 159,
   "metadata": {},
   "outputs": [
    {
     "output_type": "execute_result",
     "data": {
      "text/plain": [
       "      home_away_FG%_plus_minus  home_away_3P%_plus_minus  \\\n",
       "0                        0.028                     0.014   \n",
       "1                       -0.008                    -0.064   \n",
       "2                       -0.004                    -0.039   \n",
       "3                        0.014                    -0.026   \n",
       "4                       -0.033                    -0.004   \n",
       "...                        ...                       ...   \n",
       "1006                    -0.016                     0.015   \n",
       "1007                    -0.005                    -0.008   \n",
       "1008                     0.023                     0.032   \n",
       "1009                    -0.014                     0.024   \n",
       "1010                     0.026                     0.056   \n",
       "\n",
       "      home_away_opponent_BLK_plus_minus  home_away_MOV_plus_minus  \\\n",
       "0                                   0.1                      4.70   \n",
       "1                                   0.4                     -2.90   \n",
       "2                                   0.8                     -6.26   \n",
       "3                                  -0.3                     -2.28   \n",
       "4                                   1.2                     -7.81   \n",
       "...                                 ...                       ...   \n",
       "1006                                0.4                     -0.58   \n",
       "1007                               -0.3                      0.94   \n",
       "1008                               -0.7                      9.78   \n",
       "1009                               -0.3                      1.04   \n",
       "1010                               -1.4                     16.45   \n",
       "\n",
       "      home_away_SRS_plus_minus  home_away_ORtg_plus_minus  \\\n",
       "0                         4.21                        8.2   \n",
       "1                        -3.17                       -8.0   \n",
       "2                        -6.25                       -5.2   \n",
       "3                        -1.97                        1.3   \n",
       "4                        -7.50                       -4.6   \n",
       "...                        ...                        ...   \n",
       "1006                     -1.11                        0.8   \n",
       "1007                      1.04                       -0.8   \n",
       "1008                      9.50                        6.6   \n",
       "1009                      1.52                        5.5   \n",
       "1010                     16.49                       11.2   \n",
       "\n",
       "      home_away_NRtg_plus_minus  home_away_TS%_plus_minus  \\\n",
       "0                           4.7                     0.030   \n",
       "1                          -3.1                    -0.029   \n",
       "2                          -6.3                    -0.024   \n",
       "3                          -2.4                     0.015   \n",
       "4                          -7.9                    -0.047   \n",
       "...                         ...                       ...   \n",
       "1006                       -0.6                     0.013   \n",
       "1007                        1.0                    -0.017   \n",
       "1008                        9.6                     0.036   \n",
       "1009                        1.0                     0.016   \n",
       "1010                       16.5                     0.047   \n",
       "\n",
       "      home_away_eFG%_plus_minus  \n",
       "0                         0.027  \n",
       "1                        -0.026  \n",
       "2                        -0.026  \n",
       "3                         0.017  \n",
       "4                        -0.046  \n",
       "...                         ...  \n",
       "1006                      0.007  \n",
       "1007                     -0.012  \n",
       "1008                      0.035  \n",
       "1009                      0.014  \n",
       "1010                      0.046  \n",
       "\n",
       "[1011 rows x 9 columns]"
      ],
      "text/html": "<div>\n<style scoped>\n    .dataframe tbody tr th:only-of-type {\n        vertical-align: middle;\n    }\n\n    .dataframe tbody tr th {\n        vertical-align: top;\n    }\n\n    .dataframe thead th {\n        text-align: right;\n    }\n</style>\n<table border=\"1\" class=\"dataframe\">\n  <thead>\n    <tr style=\"text-align: right;\">\n      <th></th>\n      <th>home_away_FG%_plus_minus</th>\n      <th>home_away_3P%_plus_minus</th>\n      <th>home_away_opponent_BLK_plus_minus</th>\n      <th>home_away_MOV_plus_minus</th>\n      <th>home_away_SRS_plus_minus</th>\n      <th>home_away_ORtg_plus_minus</th>\n      <th>home_away_NRtg_plus_minus</th>\n      <th>home_away_TS%_plus_minus</th>\n      <th>home_away_eFG%_plus_minus</th>\n    </tr>\n  </thead>\n  <tbody>\n    <tr>\n      <th>0</th>\n      <td>0.028</td>\n      <td>0.014</td>\n      <td>0.1</td>\n      <td>4.70</td>\n      <td>4.21</td>\n      <td>8.2</td>\n      <td>4.7</td>\n      <td>0.030</td>\n      <td>0.027</td>\n    </tr>\n    <tr>\n      <th>1</th>\n      <td>-0.008</td>\n      <td>-0.064</td>\n      <td>0.4</td>\n      <td>-2.90</td>\n      <td>-3.17</td>\n      <td>-8.0</td>\n      <td>-3.1</td>\n      <td>-0.029</td>\n      <td>-0.026</td>\n    </tr>\n    <tr>\n      <th>2</th>\n      <td>-0.004</td>\n      <td>-0.039</td>\n      <td>0.8</td>\n      <td>-6.26</td>\n      <td>-6.25</td>\n      <td>-5.2</td>\n      <td>-6.3</td>\n      <td>-0.024</td>\n      <td>-0.026</td>\n    </tr>\n    <tr>\n      <th>3</th>\n      <td>0.014</td>\n      <td>-0.026</td>\n      <td>-0.3</td>\n      <td>-2.28</td>\n      <td>-1.97</td>\n      <td>1.3</td>\n      <td>-2.4</td>\n      <td>0.015</td>\n      <td>0.017</td>\n    </tr>\n    <tr>\n      <th>4</th>\n      <td>-0.033</td>\n      <td>-0.004</td>\n      <td>1.2</td>\n      <td>-7.81</td>\n      <td>-7.50</td>\n      <td>-4.6</td>\n      <td>-7.9</td>\n      <td>-0.047</td>\n      <td>-0.046</td>\n    </tr>\n    <tr>\n      <th>...</th>\n      <td>...</td>\n      <td>...</td>\n      <td>...</td>\n      <td>...</td>\n      <td>...</td>\n      <td>...</td>\n      <td>...</td>\n      <td>...</td>\n      <td>...</td>\n    </tr>\n    <tr>\n      <th>1006</th>\n      <td>-0.016</td>\n      <td>0.015</td>\n      <td>0.4</td>\n      <td>-0.58</td>\n      <td>-1.11</td>\n      <td>0.8</td>\n      <td>-0.6</td>\n      <td>0.013</td>\n      <td>0.007</td>\n    </tr>\n    <tr>\n      <th>1007</th>\n      <td>-0.005</td>\n      <td>-0.008</td>\n      <td>-0.3</td>\n      <td>0.94</td>\n      <td>1.04</td>\n      <td>-0.8</td>\n      <td>1.0</td>\n      <td>-0.017</td>\n      <td>-0.012</td>\n    </tr>\n    <tr>\n      <th>1008</th>\n      <td>0.023</td>\n      <td>0.032</td>\n      <td>-0.7</td>\n      <td>9.78</td>\n      <td>9.50</td>\n      <td>6.6</td>\n      <td>9.6</td>\n      <td>0.036</td>\n      <td>0.035</td>\n    </tr>\n    <tr>\n      <th>1009</th>\n      <td>-0.014</td>\n      <td>0.024</td>\n      <td>-0.3</td>\n      <td>1.04</td>\n      <td>1.52</td>\n      <td>5.5</td>\n      <td>1.0</td>\n      <td>0.016</td>\n      <td>0.014</td>\n    </tr>\n    <tr>\n      <th>1010</th>\n      <td>0.026</td>\n      <td>0.056</td>\n      <td>-1.4</td>\n      <td>16.45</td>\n      <td>16.49</td>\n      <td>11.2</td>\n      <td>16.5</td>\n      <td>0.047</td>\n      <td>0.046</td>\n    </tr>\n  </tbody>\n</table>\n<p>1011 rows × 9 columns</p>\n</div>"
     },
     "metadata": {},
     "execution_count": 159
    }
   ],
   "source": [
    "X3 = processing_data3.iloc[:,1:]\n",
    "X3"
   ]
  },
  {
   "cell_type": "code",
   "execution_count": 160,
   "metadata": {},
   "outputs": [
    {
     "output_type": "execute_result",
     "data": {
      "text/plain": [
       "     home_away_FG%_plus_minus  home_away_3P%_plus_minus  \\\n",
       "193                     0.007                    -0.004   \n",
       "444                    -0.026                    -0.010   \n",
       "384                     0.013                     0.002   \n",
       "387                    -0.028                    -0.014   \n",
       "953                    -0.006                     0.036   \n",
       "..                        ...                       ...   \n",
       "320                    -0.048                    -0.019   \n",
       "527                    -0.017                    -0.019   \n",
       "996                     0.028                     0.031   \n",
       "125                     0.011                    -0.011   \n",
       "265                    -0.013                     0.016   \n",
       "\n",
       "     home_away_opponent_BLK_plus_minus  home_away_MOV_plus_minus  \\\n",
       "193                               -0.3                     -1.90   \n",
       "444                                0.8                     -4.19   \n",
       "384                               -1.0                      0.81   \n",
       "387                               -0.1                     -4.70   \n",
       "953                               -0.2                      0.67   \n",
       "..                                 ...                       ...   \n",
       "320                                0.3                     -6.64   \n",
       "527                                1.0                     -5.34   \n",
       "996                               -0.6                      7.03   \n",
       "125                                0.0                      0.86   \n",
       "265                               -0.6                     -1.24   \n",
       "\n",
       "     home_away_SRS_plus_minus  home_away_ORtg_plus_minus  \\\n",
       "193                     -2.13                        1.6   \n",
       "444                     -3.82                       -2.8   \n",
       "384                      0.64                        3.6   \n",
       "387                     -4.21                       -8.2   \n",
       "953                      0.95                        0.4   \n",
       "..                        ...                        ...   \n",
       "320                     -6.23                       -5.6   \n",
       "527                     -5.13                       -5.4   \n",
       "996                      6.90                        5.9   \n",
       "125                      0.60                        1.0   \n",
       "265                     -1.14                       -0.9   \n",
       "\n",
       "     home_away_NRtg_plus_minus  home_away_TS%_plus_minus  \\\n",
       "193                       -1.7                     0.015   \n",
       "444                       -4.3                    -0.015   \n",
       "384                        1.0                     0.016   \n",
       "387                       -4.7                    -0.030   \n",
       "953                        0.8                     0.008   \n",
       "..                         ...                       ...   \n",
       "320                       -6.8                    -0.048   \n",
       "527                       -5.4                    -0.018   \n",
       "996                        7.1                     0.041   \n",
       "125                        1.1                     0.021   \n",
       "265                       -1.3                    -0.004   \n",
       "\n",
       "     home_away_eFG%_plus_minus  \n",
       "193                      0.008  \n",
       "444                     -0.028  \n",
       "384                      0.022  \n",
       "387                     -0.027  \n",
       "953                      0.003  \n",
       "..                         ...  \n",
       "320                     -0.056  \n",
       "527                     -0.021  \n",
       "996                      0.046  \n",
       "125                      0.025  \n",
       "265                     -0.002  \n",
       "\n",
       "[808 rows x 9 columns]"
      ],
      "text/html": "<div>\n<style scoped>\n    .dataframe tbody tr th:only-of-type {\n        vertical-align: middle;\n    }\n\n    .dataframe tbody tr th {\n        vertical-align: top;\n    }\n\n    .dataframe thead th {\n        text-align: right;\n    }\n</style>\n<table border=\"1\" class=\"dataframe\">\n  <thead>\n    <tr style=\"text-align: right;\">\n      <th></th>\n      <th>home_away_FG%_plus_minus</th>\n      <th>home_away_3P%_plus_minus</th>\n      <th>home_away_opponent_BLK_plus_minus</th>\n      <th>home_away_MOV_plus_minus</th>\n      <th>home_away_SRS_plus_minus</th>\n      <th>home_away_ORtg_plus_minus</th>\n      <th>home_away_NRtg_plus_minus</th>\n      <th>home_away_TS%_plus_minus</th>\n      <th>home_away_eFG%_plus_minus</th>\n    </tr>\n  </thead>\n  <tbody>\n    <tr>\n      <th>193</th>\n      <td>0.007</td>\n      <td>-0.004</td>\n      <td>-0.3</td>\n      <td>-1.90</td>\n      <td>-2.13</td>\n      <td>1.6</td>\n      <td>-1.7</td>\n      <td>0.015</td>\n      <td>0.008</td>\n    </tr>\n    <tr>\n      <th>444</th>\n      <td>-0.026</td>\n      <td>-0.010</td>\n      <td>0.8</td>\n      <td>-4.19</td>\n      <td>-3.82</td>\n      <td>-2.8</td>\n      <td>-4.3</td>\n      <td>-0.015</td>\n      <td>-0.028</td>\n    </tr>\n    <tr>\n      <th>384</th>\n      <td>0.013</td>\n      <td>0.002</td>\n      <td>-1.0</td>\n      <td>0.81</td>\n      <td>0.64</td>\n      <td>3.6</td>\n      <td>1.0</td>\n      <td>0.016</td>\n      <td>0.022</td>\n    </tr>\n    <tr>\n      <th>387</th>\n      <td>-0.028</td>\n      <td>-0.014</td>\n      <td>-0.1</td>\n      <td>-4.70</td>\n      <td>-4.21</td>\n      <td>-8.2</td>\n      <td>-4.7</td>\n      <td>-0.030</td>\n      <td>-0.027</td>\n    </tr>\n    <tr>\n      <th>953</th>\n      <td>-0.006</td>\n      <td>0.036</td>\n      <td>-0.2</td>\n      <td>0.67</td>\n      <td>0.95</td>\n      <td>0.4</td>\n      <td>0.8</td>\n      <td>0.008</td>\n      <td>0.003</td>\n    </tr>\n    <tr>\n      <th>...</th>\n      <td>...</td>\n      <td>...</td>\n      <td>...</td>\n      <td>...</td>\n      <td>...</td>\n      <td>...</td>\n      <td>...</td>\n      <td>...</td>\n      <td>...</td>\n    </tr>\n    <tr>\n      <th>320</th>\n      <td>-0.048</td>\n      <td>-0.019</td>\n      <td>0.3</td>\n      <td>-6.64</td>\n      <td>-6.23</td>\n      <td>-5.6</td>\n      <td>-6.8</td>\n      <td>-0.048</td>\n      <td>-0.056</td>\n    </tr>\n    <tr>\n      <th>527</th>\n      <td>-0.017</td>\n      <td>-0.019</td>\n      <td>1.0</td>\n      <td>-5.34</td>\n      <td>-5.13</td>\n      <td>-5.4</td>\n      <td>-5.4</td>\n      <td>-0.018</td>\n      <td>-0.021</td>\n    </tr>\n    <tr>\n      <th>996</th>\n      <td>0.028</td>\n      <td>0.031</td>\n      <td>-0.6</td>\n      <td>7.03</td>\n      <td>6.90</td>\n      <td>5.9</td>\n      <td>7.1</td>\n      <td>0.041</td>\n      <td>0.046</td>\n    </tr>\n    <tr>\n      <th>125</th>\n      <td>0.011</td>\n      <td>-0.011</td>\n      <td>0.0</td>\n      <td>0.86</td>\n      <td>0.60</td>\n      <td>1.0</td>\n      <td>1.1</td>\n      <td>0.021</td>\n      <td>0.025</td>\n    </tr>\n    <tr>\n      <th>265</th>\n      <td>-0.013</td>\n      <td>0.016</td>\n      <td>-0.6</td>\n      <td>-1.24</td>\n      <td>-1.14</td>\n      <td>-0.9</td>\n      <td>-1.3</td>\n      <td>-0.004</td>\n      <td>-0.002</td>\n    </tr>\n  </tbody>\n</table>\n<p>808 rows × 9 columns</p>\n</div>"
     },
     "metadata": {},
     "execution_count": 160
    }
   ],
   "source": [
    "X3_train, X3_test, y3_train, y3_test = train_test_split(X3, y3, test_size=0.2, random_state=10)\n",
    "X3_train"
   ]
  },
  {
   "cell_type": "code",
   "execution_count": 161,
   "metadata": {},
   "outputs": [
    {
     "output_type": "execute_result",
     "data": {
      "text/plain": [
       "array([[ 0.29683183, -0.17799534, -0.31312123, ..., -0.27775123,\n",
       "         0.56113546,  0.27138258],\n",
       "       [-1.17869462, -0.40676561,  0.97293306, ..., -0.66264554,\n",
       "        -0.62030496, -1.08567028],\n",
       "       [ 0.56510936,  0.05077492, -1.13151941, ...,  0.12194671,\n",
       "         0.60051681,  0.79912536],\n",
       "       ...,\n",
       "       [ 1.23580321,  1.15649785, -0.66386331, ...,  1.02496799,\n",
       "         1.58505049,  1.70382726],\n",
       "       [ 0.47568352, -0.44489398,  0.03762085, ...,  0.13675034,\n",
       "         0.79742354,  0.9122131 ],\n",
       "       [-0.59742663,  0.5845722 , -0.66386331, ..., -0.21853672,\n",
       "        -0.18711014, -0.10557655]])"
      ]
     },
     "metadata": {},
     "execution_count": 161
    }
   ],
   "source": [
    "scaled_X3_train = scaler.fit_transform(X3_train)\n",
    "scaled_X3_train"
   ]
  },
  {
   "cell_type": "code",
   "execution_count": 162,
   "metadata": {},
   "outputs": [
    {
     "output_type": "execute_result",
     "data": {
      "text/plain": [
       "array([[-0.59742663,  0.5845722 , -0.66386331, ..., -0.21853672,\n",
       "        -0.18711014, -0.10557655],\n",
       "       [-0.37386201, -0.52115074, -0.07929318, ...,  1.14339701,\n",
       "        -0.46277957, -0.52023159],\n",
       "       [-0.1502974 , -0.82617775,  0.2714489 , ..., -1.16596888,\n",
       "        -0.42339822, -0.40714385],\n",
       "       ...,\n",
       "       [-0.91041708,  0.43205869, -0.31312123, ...,  0.01832132,\n",
       "        -0.30525418, -0.40714385],\n",
       "       [ 1.90649705,  0.12703167, -0.54694928, ...,  0.86212809,\n",
       "         1.54566914,  1.40225996],\n",
       "       [-0.64213955, -1.09307639,  0.2714489 , ..., -0.36657299,\n",
       "        -0.85659304, -0.89719072]])"
      ]
     },
     "metadata": {},
     "execution_count": 162
    }
   ],
   "source": [
    "scaled_X3_test = scaler.transform(X3_test)\n",
    "scaled_X3_test"
   ]
  },
  {
   "cell_type": "code",
   "execution_count": 163,
   "metadata": {},
   "outputs": [
    {
     "output_type": "execute_result",
     "data": {
      "text/plain": [
       "SVC()"
      ]
     },
     "metadata": {},
     "execution_count": 163
    }
   ],
   "source": [
    "svc_clf3 = SVC()\n",
    "svc_clf3.fit(scaled_X3_train, y3_train)"
   ]
  },
  {
   "cell_type": "code",
   "execution_count": 164,
   "metadata": {},
   "outputs": [
    {
     "output_type": "execute_result",
     "data": {
      "text/plain": [
       "array(['Home', 'Home', 'Visitor', 'Home', 'Home', 'Visitor', 'Visitor',\n",
       "       'Home', 'Home', 'Visitor', 'Home', 'Home', 'Visitor', 'Visitor',\n",
       "       'Home', 'Visitor', 'Home', 'Visitor', 'Visitor', 'Home', 'Home',\n",
       "       'Home', 'Visitor', 'Home', 'Visitor', 'Visitor', 'Home', 'Home',\n",
       "       'Home', 'Visitor', 'Visitor', 'Home', 'Home', 'Visitor', 'Home',\n",
       "       'Visitor', 'Home', 'Visitor', 'Home', 'Visitor', 'Home', 'Visitor',\n",
       "       'Home', 'Visitor', 'Visitor', 'Visitor', 'Home', 'Visitor',\n",
       "       'Visitor', 'Home', 'Visitor', 'Home', 'Home', 'Visitor', 'Visitor',\n",
       "       'Visitor', 'Home', 'Visitor', 'Home', 'Visitor', 'Visitor', 'Home',\n",
       "       'Visitor', 'Visitor', 'Home', 'Visitor', 'Home', 'Home', 'Visitor',\n",
       "       'Home', 'Home', 'Home', 'Visitor', 'Home', 'Visitor', 'Visitor',\n",
       "       'Visitor', 'Home', 'Visitor', 'Visitor', 'Visitor', 'Visitor',\n",
       "       'Visitor', 'Home', 'Visitor', 'Home', 'Home', 'Home', 'Visitor',\n",
       "       'Visitor', 'Visitor', 'Visitor', 'Visitor', 'Visitor', 'Visitor',\n",
       "       'Home', 'Visitor', 'Visitor', 'Home', 'Home', 'Visitor', 'Visitor',\n",
       "       'Home', 'Visitor', 'Visitor', 'Visitor', 'Visitor', 'Visitor',\n",
       "       'Home', 'Home', 'Home', 'Visitor', 'Visitor', 'Visitor', 'Home',\n",
       "       'Visitor', 'Visitor', 'Home', 'Home', 'Home', 'Home', 'Visitor',\n",
       "       'Visitor', 'Home', 'Home', 'Home', 'Visitor', 'Home', 'Home',\n",
       "       'Visitor', 'Visitor', 'Home', 'Visitor', 'Home', 'Visitor',\n",
       "       'Visitor', 'Visitor', 'Visitor', 'Home', 'Home', 'Home', 'Visitor',\n",
       "       'Home', 'Visitor', 'Visitor', 'Home', 'Visitor', 'Visitor',\n",
       "       'Visitor', 'Visitor', 'Home', 'Visitor', 'Home', 'Home', 'Visitor',\n",
       "       'Visitor', 'Visitor', 'Visitor', 'Home', 'Home', 'Home', 'Home',\n",
       "       'Home', 'Visitor', 'Home', 'Visitor', 'Home', 'Home', 'Home',\n",
       "       'Home', 'Visitor', 'Home', 'Home', 'Home', 'Home', 'Visitor',\n",
       "       'Visitor', 'Visitor', 'Visitor', 'Home', 'Home', 'Visitor',\n",
       "       'Visitor', 'Home', 'Home', 'Visitor', 'Visitor', 'Visitor',\n",
       "       'Visitor', 'Home', 'Home', 'Visitor', 'Home', 'Visitor', 'Visitor',\n",
       "       'Visitor', 'Home', 'Home', 'Visitor', 'Visitor', 'Home', 'Home',\n",
       "       'Visitor'], dtype=object)"
      ]
     },
     "metadata": {},
     "execution_count": 164
    }
   ],
   "source": [
    "svc_clf3_predictions = svc_clf3.predict(scaled_X3_test)\n",
    "svc_clf3_predictions"
   ]
  },
  {
   "cell_type": "code",
   "execution_count": 165,
   "metadata": {},
   "outputs": [
    {
     "output_type": "execute_result",
     "data": {
      "text/plain": [
       "array([[67, 33],\n",
       "       [28, 75]])"
      ]
     },
     "metadata": {},
     "execution_count": 165
    }
   ],
   "source": [
    "confusion_matrix(y3_test, svc_clf3_predictions)"
   ]
  },
  {
   "cell_type": "code",
   "execution_count": 166,
   "metadata": {},
   "outputs": [
    {
     "output_type": "execute_result",
     "data": {
      "text/plain": [
       "0.6995073891625616"
      ]
     },
     "metadata": {},
     "execution_count": 166
    }
   ],
   "source": [
    "accuracy_score(y3_test, svc_clf3_predictions)"
   ]
  },
  {
   "cell_type": "code",
   "execution_count": 167,
   "metadata": {},
   "outputs": [
    {
     "output_type": "execute_result",
     "data": {
      "text/plain": [
       "0.7052631578947368"
      ]
     },
     "metadata": {},
     "execution_count": 167
    }
   ],
   "source": [
    "precision_score(y3_test, svc_clf3_predictions, pos_label=\"Home\")"
   ]
  },
  {
   "cell_type": "code",
   "execution_count": 168,
   "metadata": {},
   "outputs": [
    {
     "output_type": "execute_result",
     "data": {
      "text/plain": [
       "0.67"
      ]
     },
     "metadata": {},
     "execution_count": 168
    }
   ],
   "source": [
    "recall_score(y3_test, svc_clf3_predictions, pos_label=\"Home\")"
   ]
  },
  {
   "cell_type": "code",
   "execution_count": 170,
   "metadata": {},
   "outputs": [
    {
     "output_type": "execute_result",
     "data": {
      "text/plain": [
       "GridSearchCV(cv=5, estimator=RandomForestClassifier(),\n",
       "             param_grid=[{'max_features': [2, 4, 6, 8],\n",
       "                          'n_estimators': [3, 10, 30]},\n",
       "                         {'bootstrap': [False], 'max_features': [2, 3, 4],\n",
       "                          'n_estimators': [3, 10]}],\n",
       "             return_train_score=True, scoring='accuracy')"
      ]
     },
     "metadata": {},
     "execution_count": 170
    }
   ],
   "source": [
    "rfc = RandomForestClassifier()\n",
    "\n",
    "grid_search2 = GridSearchCV(rfc, param_grid, cv=5, scoring='accuracy', return_train_score=True)\n",
    "grid_search2.fit(scaled_X3_train, y3_train)"
   ]
  },
  {
   "cell_type": "code",
   "execution_count": 171,
   "metadata": {},
   "outputs": [
    {
     "output_type": "execute_result",
     "data": {
      "text/plain": [
       "RandomForestClassifier(max_features=8, n_estimators=3)"
      ]
     },
     "metadata": {},
     "execution_count": 171
    }
   ],
   "source": [
    "rfc_clf2 = grid_search2.best_estimator_\n",
    "rfc_clf2"
   ]
  },
  {
   "cell_type": "code",
   "execution_count": 172,
   "metadata": {},
   "outputs": [
    {
     "output_type": "execute_result",
     "data": {
      "text/plain": [
       "array(['Visitor', 'Visitor', 'Visitor', 'Home', 'Visitor', 'Home', 'Home',\n",
       "       'Home', 'Home', 'Visitor', 'Home', 'Home', 'Visitor', 'Visitor',\n",
       "       'Home', 'Home', 'Home', 'Home', 'Visitor', 'Home', 'Home', 'Home',\n",
       "       'Visitor', 'Home', 'Visitor', 'Visitor', 'Visitor', 'Home', 'Home',\n",
       "       'Home', 'Visitor', 'Home', 'Home', 'Visitor', 'Home', 'Visitor',\n",
       "       'Home', 'Home', 'Home', 'Home', 'Visitor', 'Visitor', 'Home',\n",
       "       'Visitor', 'Visitor', 'Visitor', 'Home', 'Visitor', 'Visitor',\n",
       "       'Visitor', 'Visitor', 'Home', 'Home', 'Visitor', 'Home', 'Visitor',\n",
       "       'Home', 'Visitor', 'Home', 'Visitor', 'Visitor', 'Home', 'Home',\n",
       "       'Visitor', 'Visitor', 'Visitor', 'Visitor', 'Home', 'Visitor',\n",
       "       'Home', 'Home', 'Home', 'Home', 'Home', 'Home', 'Home', 'Home',\n",
       "       'Home', 'Visitor', 'Visitor', 'Home', 'Visitor', 'Home', 'Home',\n",
       "       'Home', 'Visitor', 'Home', 'Home', 'Home', 'Visitor', 'Visitor',\n",
       "       'Home', 'Home', 'Visitor', 'Visitor', 'Home', 'Home', 'Home',\n",
       "       'Home', 'Home', 'Visitor', 'Home', 'Home', 'Visitor', 'Home',\n",
       "       'Home', 'Visitor', 'Home', 'Home', 'Home', 'Home', 'Visitor',\n",
       "       'Home', 'Visitor', 'Home', 'Visitor', 'Visitor', 'Home', 'Home',\n",
       "       'Visitor', 'Home', 'Home', 'Home', 'Home', 'Home', 'Visitor',\n",
       "       'Visitor', 'Home', 'Visitor', 'Home', 'Visitor', 'Home', 'Visitor',\n",
       "       'Home', 'Visitor', 'Home', 'Visitor', 'Visitor', 'Home', 'Home',\n",
       "       'Home', 'Visitor', 'Home', 'Visitor', 'Visitor', 'Home', 'Home',\n",
       "       'Visitor', 'Visitor', 'Visitor', 'Home', 'Visitor', 'Home', 'Home',\n",
       "       'Visitor', 'Home', 'Visitor', 'Visitor', 'Home', 'Home', 'Home',\n",
       "       'Visitor', 'Home', 'Home', 'Home', 'Home', 'Home', 'Visitor',\n",
       "       'Home', 'Home', 'Visitor', 'Home', 'Visitor', 'Home', 'Home',\n",
       "       'Visitor', 'Visitor', 'Visitor', 'Home', 'Home', 'Visitor',\n",
       "       'Visitor', 'Home', 'Home', 'Visitor', 'Visitor', 'Visitor',\n",
       "       'Visitor', 'Visitor', 'Home', 'Home', 'Home', 'Visitor', 'Home',\n",
       "       'Home', 'Home', 'Visitor', 'Home', 'Visitor', 'Home', 'Home',\n",
       "       'Home', 'Home'], dtype=object)"
      ]
     },
     "metadata": {},
     "execution_count": 172
    }
   ],
   "source": [
    "rfc_predictions2 = rfc_clf2.predict(scaled_X3_test)\n",
    "rfc_predictions2"
   ]
  },
  {
   "cell_type": "code",
   "execution_count": 173,
   "metadata": {},
   "outputs": [
    {
     "output_type": "execute_result",
     "data": {
      "text/plain": [
       "(array([[65, 35],\n",
       "        [53, 50]]),\n",
       " 0.5665024630541872,\n",
       " 0.5508474576271186,\n",
       " 0.65)"
      ]
     },
     "metadata": {},
     "execution_count": 173
    }
   ],
   "source": [
    "algo_accuracy(y3_test, rfc_predictions2)"
   ]
  },
  {
   "cell_type": "code",
   "execution_count": 174,
   "metadata": {},
   "outputs": [
    {
     "output_type": "execute_result",
     "data": {
      "text/plain": [
       "GridSearchCV(estimator=SVC(),\n",
       "             param_grid=[{'C': [0.1, 1, 10, 100, 1000],\n",
       "                          'gamma': [1, 0.1, 0.01, 0.001, 0.0001],\n",
       "                          'kernel': ['rbf']},\n",
       "                         {'C': [0.1, 1, 10, 100, 1000],\n",
       "                          'gamma': [1, 0.1, 0.01, 0.001, 0.0001],\n",
       "                          'kernel': ['linear']}],\n",
       "             return_train_score=True, scoring='accuracy')"
      ]
     },
     "metadata": {},
     "execution_count": 174
    }
   ],
   "source": [
    "tuned_parameters = [\n",
    "    {'kernel': ['rbf'], 'C': [0.1, 1, 10, 100, 1000], 'gamma': [1, 0.1, 0.01, 0.001, 0.0001]},\n",
    "    {'kernel': ['linear'], 'C': [0.1, 1, 10, 100, 1000], 'gamma': [1, 0.1, 0.01, 0.001, 0.0001]}\n",
    "]\n",
    "\n",
    "grid_search3 = GridSearchCV(SVC(), tuned_parameters, scoring='accuracy', return_train_score=True)\n",
    "grid_search3.fit(X3_train, y3_train)"
   ]
  },
  {
   "cell_type": "code",
   "execution_count": 175,
   "metadata": {},
   "outputs": [
    {
     "output_type": "execute_result",
     "data": {
      "text/plain": [
       "(array([[69, 31],\n",
       "        [31, 72]]),\n",
       " 0.6945812807881774,\n",
       " 0.69,\n",
       " 0.69)"
      ]
     },
     "metadata": {},
     "execution_count": 175
    }
   ],
   "source": [
    "best_params3 = grid_search3.best_params_\n",
    "best_estimator3 = grid_search3.best_estimator_\n",
    "\n",
    "grid_search3_predictions = grid_search3.predict(X3_test)\n",
    "algo_accuracy(y3_test, grid_search3_predictions)"
   ]
  },
  {
   "cell_type": "code",
   "execution_count": 176,
   "metadata": {},
   "outputs": [
    {
     "output_type": "execute_result",
     "data": {
      "text/plain": [
       "GridSearchCV(estimator=SVC(),\n",
       "             param_grid=[{'C': [0.1, 1, 10, 100, 1000],\n",
       "                          'gamma': [1, 0.1, 0.01, 0.001, 0.0001],\n",
       "                          'kernel': ['rbf']},\n",
       "                         {'C': [0.1, 1, 10, 100, 1000],\n",
       "                          'gamma': [1, 0.1, 0.01, 0.001, 0.0001],\n",
       "                          'kernel': ['linear']}],\n",
       "             return_train_score=True, scoring='accuracy')"
      ]
     },
     "metadata": {},
     "execution_count": 176
    }
   ],
   "source": [
    "grid_search4 = GridSearchCV(SVC(), tuned_parameters, scoring='accuracy', return_train_score=True)\n",
    "grid_search4.fit(scaled_X3_train, y3_train)"
   ]
  },
  {
   "cell_type": "code",
   "execution_count": 177,
   "metadata": {},
   "outputs": [
    {
     "output_type": "execute_result",
     "data": {
      "text/plain": [
       "(array([[67, 33],\n",
       "        [28, 75]]),\n",
       " 0.6995073891625616,\n",
       " 0.7052631578947368,\n",
       " 0.67)"
      ]
     },
     "metadata": {},
     "execution_count": 177
    }
   ],
   "source": [
    "best_params4 = grid_search4.best_params_\n",
    "best_estimator4 = grid_search4.best_estimator_\n",
    "\n",
    "grid_search4_predictions = grid_search4.predict(scaled_X3_test)\n",
    "algo_accuracy(y3_test, grid_search4_predictions)"
   ]
  },
  {
   "cell_type": "code",
   "execution_count": null,
   "metadata": {},
   "outputs": [],
   "source": []
  }
 ]
}