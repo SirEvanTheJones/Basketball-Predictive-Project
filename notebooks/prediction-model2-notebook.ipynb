{
 "metadata": {
  "language_info": {
   "codemirror_mode": {
    "name": "ipython",
    "version": 3
   },
   "file_extension": ".py",
   "mimetype": "text/x-python",
   "name": "python",
   "nbconvert_exporter": "python",
   "pygments_lexer": "ipython3",
   "version": "3.9.2"
  },
  "orig_nbformat": 2,
  "kernelspec": {
   "name": "python3",
   "display_name": "Python 3.9.2 64-bit ('3.9')",
   "metadata": {
    "interpreter": {
     "hash": "7812ea015bdcee6f23a998adcdd2ef97c151c0c241b7b7070987d9313e41299d"
    }
   }
  }
 },
 "nbformat": 4,
 "nbformat_minor": 2,
 "cells": [
  {
   "cell_type": "code",
   "execution_count": 3,
   "metadata": {},
   "outputs": [],
   "source": [
    "import pandas as pd\n",
    "import numpy as np\n",
    "import matplotlib.pyplot as plt\n",
    "import seaborn as sns\n",
    "import os"
   ]
  },
  {
   "cell_type": "code",
   "execution_count": 4,
   "metadata": {},
   "outputs": [
    {
     "output_type": "execute_result",
     "data": {
      "text/plain": [
       "                   Date        Visitor/Neutral  Away_PTS  \\\n",
       "0     Tue, Dec 22, 2020  Golden State Warriors      99.0   \n",
       "1     Tue, Dec 22, 2020   Los Angeles Clippers     116.0   \n",
       "2     Wed, Dec 23, 2020      Charlotte Hornets     114.0   \n",
       "3     Wed, Dec 23, 2020        New York Knicks     107.0   \n",
       "4     Wed, Dec 23, 2020             Miami Heat     107.0   \n",
       "...                 ...                    ...       ...   \n",
       "1006   Sat, May 8, 2021      Memphis Grizzlies     109.0   \n",
       "1007   Sat, May 8, 2021          Brooklyn Nets     125.0   \n",
       "1008   Sat, May 8, 2021  Oklahoma City Thunder      97.0   \n",
       "1009   Sat, May 8, 2021      San Antonio Spurs     102.0   \n",
       "1010   Sat, May 8, 2021        Houston Rockets     116.0   \n",
       "\n",
       "                Home/Neutral  Home_PTS Home/Away Winner  \\\n",
       "0              Brooklyn Nets     125.0             Home   \n",
       "1         Los Angeles Lakers     109.0          Visitor   \n",
       "2        Cleveland Cavaliers     121.0             Home   \n",
       "3             Indiana Pacers     121.0             Home   \n",
       "4              Orlando Magic     113.0             Home   \n",
       "...                      ...       ...              ...   \n",
       "1006         Toronto Raptors      99.0          Visitor   \n",
       "1007          Denver Nuggets     119.0          Visitor   \n",
       "1008   Golden State Warriors     136.0             Home   \n",
       "1009  Portland Trail Blazers     124.0             Home   \n",
       "1010               Utah Jazz     124.0             Home   \n",
       "\n",
       "                Winning Team  Margin of Victory  \n",
       "0              Brooklyn Nets               26.0  \n",
       "1       Los Angeles Clippers                7.0  \n",
       "2        Cleveland Cavaliers                7.0  \n",
       "3             Indiana Pacers               14.0  \n",
       "4              Orlando Magic                6.0  \n",
       "...                      ...                ...  \n",
       "1006       Memphis Grizzlies               10.0  \n",
       "1007           Brooklyn Nets                6.0  \n",
       "1008   Golden State Warriors               39.0  \n",
       "1009  Portland Trail Blazers               22.0  \n",
       "1010               Utah Jazz                8.0  \n",
       "\n",
       "[1011 rows x 8 columns]"
      ],
      "text/html": "<div>\n<style scoped>\n    .dataframe tbody tr th:only-of-type {\n        vertical-align: middle;\n    }\n\n    .dataframe tbody tr th {\n        vertical-align: top;\n    }\n\n    .dataframe thead th {\n        text-align: right;\n    }\n</style>\n<table border=\"1\" class=\"dataframe\">\n  <thead>\n    <tr style=\"text-align: right;\">\n      <th></th>\n      <th>Date</th>\n      <th>Visitor/Neutral</th>\n      <th>Away_PTS</th>\n      <th>Home/Neutral</th>\n      <th>Home_PTS</th>\n      <th>Home/Away Winner</th>\n      <th>Winning Team</th>\n      <th>Margin of Victory</th>\n    </tr>\n  </thead>\n  <tbody>\n    <tr>\n      <th>0</th>\n      <td>Tue, Dec 22, 2020</td>\n      <td>Golden State Warriors</td>\n      <td>99.0</td>\n      <td>Brooklyn Nets</td>\n      <td>125.0</td>\n      <td>Home</td>\n      <td>Brooklyn Nets</td>\n      <td>26.0</td>\n    </tr>\n    <tr>\n      <th>1</th>\n      <td>Tue, Dec 22, 2020</td>\n      <td>Los Angeles Clippers</td>\n      <td>116.0</td>\n      <td>Los Angeles Lakers</td>\n      <td>109.0</td>\n      <td>Visitor</td>\n      <td>Los Angeles Clippers</td>\n      <td>7.0</td>\n    </tr>\n    <tr>\n      <th>2</th>\n      <td>Wed, Dec 23, 2020</td>\n      <td>Charlotte Hornets</td>\n      <td>114.0</td>\n      <td>Cleveland Cavaliers</td>\n      <td>121.0</td>\n      <td>Home</td>\n      <td>Cleveland Cavaliers</td>\n      <td>7.0</td>\n    </tr>\n    <tr>\n      <th>3</th>\n      <td>Wed, Dec 23, 2020</td>\n      <td>New York Knicks</td>\n      <td>107.0</td>\n      <td>Indiana Pacers</td>\n      <td>121.0</td>\n      <td>Home</td>\n      <td>Indiana Pacers</td>\n      <td>14.0</td>\n    </tr>\n    <tr>\n      <th>4</th>\n      <td>Wed, Dec 23, 2020</td>\n      <td>Miami Heat</td>\n      <td>107.0</td>\n      <td>Orlando Magic</td>\n      <td>113.0</td>\n      <td>Home</td>\n      <td>Orlando Magic</td>\n      <td>6.0</td>\n    </tr>\n    <tr>\n      <th>...</th>\n      <td>...</td>\n      <td>...</td>\n      <td>...</td>\n      <td>...</td>\n      <td>...</td>\n      <td>...</td>\n      <td>...</td>\n      <td>...</td>\n    </tr>\n    <tr>\n      <th>1006</th>\n      <td>Sat, May 8, 2021</td>\n      <td>Memphis Grizzlies</td>\n      <td>109.0</td>\n      <td>Toronto Raptors</td>\n      <td>99.0</td>\n      <td>Visitor</td>\n      <td>Memphis Grizzlies</td>\n      <td>10.0</td>\n    </tr>\n    <tr>\n      <th>1007</th>\n      <td>Sat, May 8, 2021</td>\n      <td>Brooklyn Nets</td>\n      <td>125.0</td>\n      <td>Denver Nuggets</td>\n      <td>119.0</td>\n      <td>Visitor</td>\n      <td>Brooklyn Nets</td>\n      <td>6.0</td>\n    </tr>\n    <tr>\n      <th>1008</th>\n      <td>Sat, May 8, 2021</td>\n      <td>Oklahoma City Thunder</td>\n      <td>97.0</td>\n      <td>Golden State Warriors</td>\n      <td>136.0</td>\n      <td>Home</td>\n      <td>Golden State Warriors</td>\n      <td>39.0</td>\n    </tr>\n    <tr>\n      <th>1009</th>\n      <td>Sat, May 8, 2021</td>\n      <td>San Antonio Spurs</td>\n      <td>102.0</td>\n      <td>Portland Trail Blazers</td>\n      <td>124.0</td>\n      <td>Home</td>\n      <td>Portland Trail Blazers</td>\n      <td>22.0</td>\n    </tr>\n    <tr>\n      <th>1010</th>\n      <td>Sat, May 8, 2021</td>\n      <td>Houston Rockets</td>\n      <td>116.0</td>\n      <td>Utah Jazz</td>\n      <td>124.0</td>\n      <td>Home</td>\n      <td>Utah Jazz</td>\n      <td>8.0</td>\n    </tr>\n  </tbody>\n</table>\n<p>1011 rows × 8 columns</p>\n</div>"
     },
     "metadata": {},
     "execution_count": 4
    }
   ],
   "source": [
    "pwd = os.getcwd()\n",
    "game_schedule = pd.read_csv(pwd + \"/../datasets/full_schedule.csv\")\n",
    "game_schedule"
   ]
  },
  {
   "cell_type": "code",
   "execution_count": 5,
   "metadata": {},
   "outputs": [
    {
     "output_type": "execute_result",
     "data": {
      "text/plain": [
       "                      Team    FG   FGA    FG%    3P   3PA    3P%    2P   2PA  \\\n",
       "0            Brooklyn Nets  43.2  87.7  0.493  14.1  36.3  0.388  29.1  51.4   \n",
       "1          Milwaukee Bucks  44.5  91.5  0.486  14.5  37.1  0.392  30.0  54.4   \n",
       "2                Utah Jazz  41.1  88.1  0.467  16.9  43.4  0.391  24.2  44.8   \n",
       "3     Los Angeles Clippers  41.9  87.0  0.482  14.4  34.5  0.416  27.5  52.4   \n",
       "4           Denver Nuggets  43.5  89.1  0.488  13.0  34.1  0.380  30.5  55.0   \n",
       "5     New Orleans Pelicans  42.7  88.5  0.482  10.7  30.6  0.351  32.0  57.9   \n",
       "6       Washington Wizards  42.6  90.0  0.473  10.2  29.2  0.350  32.4  60.8   \n",
       "7            Atlanta Hawks  40.2  87.0  0.462  12.4  33.5  0.370  27.8  53.5   \n",
       "8   Portland Trail Blazers  40.9  91.3  0.448  15.7  41.4  0.380  25.1  49.9   \n",
       "9   Minnesota Timberwolves  40.4  90.9  0.445  13.0  37.2  0.350  27.4  53.7   \n",
       "10   Golden State Warriors  41.0  88.2  0.465  14.2  38.0  0.374  26.9  50.2   \n",
       "11          Indiana Pacers  42.8  90.8  0.471  12.4  34.3  0.361  30.4  56.5   \n",
       "12            Phoenix Suns  43.1  88.2  0.489  13.0  34.8  0.373  30.1  53.4   \n",
       "13          Boston Celtics  41.4  88.7  0.466  13.3  35.9  0.372  28.0  52.8   \n",
       "14        Sacramento Kings  42.7  88.5  0.482  12.0  33.0  0.365  30.6  55.5   \n",
       "15      Philadelphia 76ers  41.4  86.9  0.476  11.1  29.9  0.371  30.3  56.9   \n",
       "16         Toronto Raptors  39.7  88.2  0.450  14.7  39.7  0.371  24.9  48.5   \n",
       "17       Memphis Grizzlies  42.9  92.1  0.466  11.0  31.0  0.356  31.9  61.1   \n",
       "18           Chicago Bulls  42.3  88.4  0.478  12.3  33.6  0.365  30.0  54.8   \n",
       "19        Dallas Mavericks  41.0  87.1  0.470  13.7  38.0  0.362  27.2  49.1   \n",
       "20       Charlotte Hornets  40.0  87.4  0.458  13.9  37.0  0.377  26.1  50.4   \n",
       "21      Los Angeles Lakers  40.8  86.0  0.474  11.1  31.4  0.352  29.7  54.6   \n",
       "22         Houston Rockets  39.0  88.4  0.441  13.4  40.0  0.335  25.6  48.4   \n",
       "23       San Antonio Spurs  41.7  90.1  0.462  10.3  28.9  0.356  31.4  61.2   \n",
       "24         Detroit Pistons  38.6  85.8  0.450  11.8  33.1  0.355  26.8  52.7   \n",
       "25              Miami Heat  38.6  83.5  0.463  12.7  36.1  0.350  26.0  47.4   \n",
       "26         New York Knicks  39.5  86.5  0.457  11.5  29.7  0.387  28.0  56.8   \n",
       "27   Oklahoma City Thunder  38.8  87.8  0.442  12.2  35.7  0.342  26.6  52.1   \n",
       "28           Orlando Magic  38.4  89.3  0.430  11.1  32.0  0.346  27.3  57.3   \n",
       "29     Cleveland Cavaliers  38.9  85.7  0.454   9.9  29.3  0.338  29.0  56.3   \n",
       "\n",
       "      2P%  ...   3PAr    TS%   eFG%  TOV%  ORB%  FT/FGA  opponent_eFG%  \\\n",
       "0   0.567  ...  0.414  0.608  0.573  12.3  21.8   0.209          0.535   \n",
       "1   0.550  ...  0.405  0.593  0.565  12.2  23.3   0.173          0.532   \n",
       "2   0.541  ...  0.492  0.596  0.563  12.7  24.2   0.195          0.506   \n",
       "3   0.525  ...  0.397  0.599  0.564  12.0  22.9   0.186          0.532   \n",
       "4   0.554  ...  0.382  0.591  0.561  12.2  24.8   0.175          0.544   \n",
       "5   0.552  ...  0.346  0.576  0.543  12.8  26.4   0.216          0.550   \n",
       "6   0.533  ...  0.325  0.568  0.530  12.6  21.1   0.219          0.538   \n",
       "7   0.520  ...  0.385  0.576  0.533  12.1  24.5   0.228          0.531   \n",
       "8   0.504  ...  0.454  0.572  0.534  10.1  23.4   0.193          0.549   \n",
       "9   0.511  ...  0.410  0.552  0.517  12.5  22.3   0.191          0.556   \n",
       "10  0.535  ...  0.431  0.578  0.546  13.3  17.8   0.189          0.525   \n",
       "11  0.539  ...  0.378  0.573  0.540  11.9  20.1   0.182          0.531   \n",
       "12  0.564  ...  0.394  0.594  0.562  11.8  20.9   0.172          0.529   \n",
       "13  0.531  ...  0.404  0.574  0.542  12.7  24.9   0.186          0.538   \n",
       "14  0.552  ...  0.373  0.581  0.551  11.9  21.5   0.191          0.565   \n",
       "15  0.531  ...  0.345  0.578  0.540  13.0  23.5   0.229          0.522   \n",
       "16  0.514  ...  0.450  0.572  0.533  12.0  20.7   0.199          0.540   \n",
       "17  0.522  ...  0.337  0.559  0.526  11.5  23.9   0.177          0.536   \n",
       "18  0.548  ...  0.380  0.576  0.548  13.8  22.0   0.160          0.540   \n",
       "19  0.554  ...  0.436  0.581  0.549  11.1  20.5   0.188          0.533   \n",
       "20  0.518  ...  0.423  0.569  0.538  13.5  23.3   0.181          0.549   \n",
       "21  0.544  ...  0.365  0.570  0.538  13.8  22.5   0.198          0.524   \n",
       "22  0.530  ...  0.452  0.549  0.517  13.1  19.7   0.186          0.549   \n",
       "23  0.513  ...  0.321  0.556  0.520  10.3  20.0   0.195          0.535   \n",
       "24  0.509  ...  0.386  0.556  0.518  13.4  22.3   0.212          0.541   \n",
       "25  0.548  ...  0.432  0.575  0.538  13.2  19.2   0.201          0.537   \n",
       "26  0.493  ...  0.344  0.558  0.523  12.1  22.9   0.191          0.514   \n",
       "27  0.510  ...  0.406  0.542  0.511  14.5  20.8   0.176          0.544   \n",
       "28  0.477  ...  0.359  0.528  0.492  11.5  21.5   0.181          0.547   \n",
       "29  0.514  ...  0.342  0.545  0.512  14.0  23.7   0.189          0.554   \n",
       "\n",
       "    opponent_TOV%  DRB%  opponent_FT/FGA  \n",
       "0            11.3  77.6            0.188  \n",
       "1            11.6  79.7            0.157  \n",
       "2            10.3  79.0            0.160  \n",
       "3            11.9  79.1            0.190  \n",
       "4            12.8  78.9            0.195  \n",
       "5            11.9  79.8            0.190  \n",
       "6            12.5  77.7            0.215  \n",
       "7            11.2  77.5            0.193  \n",
       "8            11.3  77.2            0.203  \n",
       "9            13.2  76.8            0.210  \n",
       "10           13.3  76.6            0.226  \n",
       "11           13.0  74.8            0.201  \n",
       "12           12.5  78.7            0.191  \n",
       "13           12.9  77.9            0.212  \n",
       "14           11.9  74.8            0.197  \n",
       "15           13.9  78.7            0.202  \n",
       "16           14.5  76.1            0.235  \n",
       "17           13.4  78.8            0.200  \n",
       "18           11.5  80.4            0.200  \n",
       "19           11.4  77.8            0.197  \n",
       "20           13.4  75.8            0.162  \n",
       "21           13.8  79.4            0.179  \n",
       "22           13.1  77.0            0.200  \n",
       "23           11.9  77.1            0.176  \n",
       "24           12.8  76.8            0.198  \n",
       "25           14.0  77.5            0.182  \n",
       "26           11.8  79.0            0.194  \n",
       "27           11.5  77.8            0.166  \n",
       "28           11.8  78.5            0.167  \n",
       "29           13.5  76.4            0.185  \n",
       "\n",
       "[30 rows x 65 columns]"
      ],
      "text/html": "<div>\n<style scoped>\n    .dataframe tbody tr th:only-of-type {\n        vertical-align: middle;\n    }\n\n    .dataframe tbody tr th {\n        vertical-align: top;\n    }\n\n    .dataframe thead th {\n        text-align: right;\n    }\n</style>\n<table border=\"1\" class=\"dataframe\">\n  <thead>\n    <tr style=\"text-align: right;\">\n      <th></th>\n      <th>Team</th>\n      <th>FG</th>\n      <th>FGA</th>\n      <th>FG%</th>\n      <th>3P</th>\n      <th>3PA</th>\n      <th>3P%</th>\n      <th>2P</th>\n      <th>2PA</th>\n      <th>2P%</th>\n      <th>...</th>\n      <th>3PAr</th>\n      <th>TS%</th>\n      <th>eFG%</th>\n      <th>TOV%</th>\n      <th>ORB%</th>\n      <th>FT/FGA</th>\n      <th>opponent_eFG%</th>\n      <th>opponent_TOV%</th>\n      <th>DRB%</th>\n      <th>opponent_FT/FGA</th>\n    </tr>\n  </thead>\n  <tbody>\n    <tr>\n      <th>0</th>\n      <td>Brooklyn Nets</td>\n      <td>43.2</td>\n      <td>87.7</td>\n      <td>0.493</td>\n      <td>14.1</td>\n      <td>36.3</td>\n      <td>0.388</td>\n      <td>29.1</td>\n      <td>51.4</td>\n      <td>0.567</td>\n      <td>...</td>\n      <td>0.414</td>\n      <td>0.608</td>\n      <td>0.573</td>\n      <td>12.3</td>\n      <td>21.8</td>\n      <td>0.209</td>\n      <td>0.535</td>\n      <td>11.3</td>\n      <td>77.6</td>\n      <td>0.188</td>\n    </tr>\n    <tr>\n      <th>1</th>\n      <td>Milwaukee Bucks</td>\n      <td>44.5</td>\n      <td>91.5</td>\n      <td>0.486</td>\n      <td>14.5</td>\n      <td>37.1</td>\n      <td>0.392</td>\n      <td>30.0</td>\n      <td>54.4</td>\n      <td>0.550</td>\n      <td>...</td>\n      <td>0.405</td>\n      <td>0.593</td>\n      <td>0.565</td>\n      <td>12.2</td>\n      <td>23.3</td>\n      <td>0.173</td>\n      <td>0.532</td>\n      <td>11.6</td>\n      <td>79.7</td>\n      <td>0.157</td>\n    </tr>\n    <tr>\n      <th>2</th>\n      <td>Utah Jazz</td>\n      <td>41.1</td>\n      <td>88.1</td>\n      <td>0.467</td>\n      <td>16.9</td>\n      <td>43.4</td>\n      <td>0.391</td>\n      <td>24.2</td>\n      <td>44.8</td>\n      <td>0.541</td>\n      <td>...</td>\n      <td>0.492</td>\n      <td>0.596</td>\n      <td>0.563</td>\n      <td>12.7</td>\n      <td>24.2</td>\n      <td>0.195</td>\n      <td>0.506</td>\n      <td>10.3</td>\n      <td>79.0</td>\n      <td>0.160</td>\n    </tr>\n    <tr>\n      <th>3</th>\n      <td>Los Angeles Clippers</td>\n      <td>41.9</td>\n      <td>87.0</td>\n      <td>0.482</td>\n      <td>14.4</td>\n      <td>34.5</td>\n      <td>0.416</td>\n      <td>27.5</td>\n      <td>52.4</td>\n      <td>0.525</td>\n      <td>...</td>\n      <td>0.397</td>\n      <td>0.599</td>\n      <td>0.564</td>\n      <td>12.0</td>\n      <td>22.9</td>\n      <td>0.186</td>\n      <td>0.532</td>\n      <td>11.9</td>\n      <td>79.1</td>\n      <td>0.190</td>\n    </tr>\n    <tr>\n      <th>4</th>\n      <td>Denver Nuggets</td>\n      <td>43.5</td>\n      <td>89.1</td>\n      <td>0.488</td>\n      <td>13.0</td>\n      <td>34.1</td>\n      <td>0.380</td>\n      <td>30.5</td>\n      <td>55.0</td>\n      <td>0.554</td>\n      <td>...</td>\n      <td>0.382</td>\n      <td>0.591</td>\n      <td>0.561</td>\n      <td>12.2</td>\n      <td>24.8</td>\n      <td>0.175</td>\n      <td>0.544</td>\n      <td>12.8</td>\n      <td>78.9</td>\n      <td>0.195</td>\n    </tr>\n    <tr>\n      <th>5</th>\n      <td>New Orleans Pelicans</td>\n      <td>42.7</td>\n      <td>88.5</td>\n      <td>0.482</td>\n      <td>10.7</td>\n      <td>30.6</td>\n      <td>0.351</td>\n      <td>32.0</td>\n      <td>57.9</td>\n      <td>0.552</td>\n      <td>...</td>\n      <td>0.346</td>\n      <td>0.576</td>\n      <td>0.543</td>\n      <td>12.8</td>\n      <td>26.4</td>\n      <td>0.216</td>\n      <td>0.550</td>\n      <td>11.9</td>\n      <td>79.8</td>\n      <td>0.190</td>\n    </tr>\n    <tr>\n      <th>6</th>\n      <td>Washington Wizards</td>\n      <td>42.6</td>\n      <td>90.0</td>\n      <td>0.473</td>\n      <td>10.2</td>\n      <td>29.2</td>\n      <td>0.350</td>\n      <td>32.4</td>\n      <td>60.8</td>\n      <td>0.533</td>\n      <td>...</td>\n      <td>0.325</td>\n      <td>0.568</td>\n      <td>0.530</td>\n      <td>12.6</td>\n      <td>21.1</td>\n      <td>0.219</td>\n      <td>0.538</td>\n      <td>12.5</td>\n      <td>77.7</td>\n      <td>0.215</td>\n    </tr>\n    <tr>\n      <th>7</th>\n      <td>Atlanta Hawks</td>\n      <td>40.2</td>\n      <td>87.0</td>\n      <td>0.462</td>\n      <td>12.4</td>\n      <td>33.5</td>\n      <td>0.370</td>\n      <td>27.8</td>\n      <td>53.5</td>\n      <td>0.520</td>\n      <td>...</td>\n      <td>0.385</td>\n      <td>0.576</td>\n      <td>0.533</td>\n      <td>12.1</td>\n      <td>24.5</td>\n      <td>0.228</td>\n      <td>0.531</td>\n      <td>11.2</td>\n      <td>77.5</td>\n      <td>0.193</td>\n    </tr>\n    <tr>\n      <th>8</th>\n      <td>Portland Trail Blazers</td>\n      <td>40.9</td>\n      <td>91.3</td>\n      <td>0.448</td>\n      <td>15.7</td>\n      <td>41.4</td>\n      <td>0.380</td>\n      <td>25.1</td>\n      <td>49.9</td>\n      <td>0.504</td>\n      <td>...</td>\n      <td>0.454</td>\n      <td>0.572</td>\n      <td>0.534</td>\n      <td>10.1</td>\n      <td>23.4</td>\n      <td>0.193</td>\n      <td>0.549</td>\n      <td>11.3</td>\n      <td>77.2</td>\n      <td>0.203</td>\n    </tr>\n    <tr>\n      <th>9</th>\n      <td>Minnesota Timberwolves</td>\n      <td>40.4</td>\n      <td>90.9</td>\n      <td>0.445</td>\n      <td>13.0</td>\n      <td>37.2</td>\n      <td>0.350</td>\n      <td>27.4</td>\n      <td>53.7</td>\n      <td>0.511</td>\n      <td>...</td>\n      <td>0.410</td>\n      <td>0.552</td>\n      <td>0.517</td>\n      <td>12.5</td>\n      <td>22.3</td>\n      <td>0.191</td>\n      <td>0.556</td>\n      <td>13.2</td>\n      <td>76.8</td>\n      <td>0.210</td>\n    </tr>\n    <tr>\n      <th>10</th>\n      <td>Golden State Warriors</td>\n      <td>41.0</td>\n      <td>88.2</td>\n      <td>0.465</td>\n      <td>14.2</td>\n      <td>38.0</td>\n      <td>0.374</td>\n      <td>26.9</td>\n      <td>50.2</td>\n      <td>0.535</td>\n      <td>...</td>\n      <td>0.431</td>\n      <td>0.578</td>\n      <td>0.546</td>\n      <td>13.3</td>\n      <td>17.8</td>\n      <td>0.189</td>\n      <td>0.525</td>\n      <td>13.3</td>\n      <td>76.6</td>\n      <td>0.226</td>\n    </tr>\n    <tr>\n      <th>11</th>\n      <td>Indiana Pacers</td>\n      <td>42.8</td>\n      <td>90.8</td>\n      <td>0.471</td>\n      <td>12.4</td>\n      <td>34.3</td>\n      <td>0.361</td>\n      <td>30.4</td>\n      <td>56.5</td>\n      <td>0.539</td>\n      <td>...</td>\n      <td>0.378</td>\n      <td>0.573</td>\n      <td>0.540</td>\n      <td>11.9</td>\n      <td>20.1</td>\n      <td>0.182</td>\n      <td>0.531</td>\n      <td>13.0</td>\n      <td>74.8</td>\n      <td>0.201</td>\n    </tr>\n    <tr>\n      <th>12</th>\n      <td>Phoenix Suns</td>\n      <td>43.1</td>\n      <td>88.2</td>\n      <td>0.489</td>\n      <td>13.0</td>\n      <td>34.8</td>\n      <td>0.373</td>\n      <td>30.1</td>\n      <td>53.4</td>\n      <td>0.564</td>\n      <td>...</td>\n      <td>0.394</td>\n      <td>0.594</td>\n      <td>0.562</td>\n      <td>11.8</td>\n      <td>20.9</td>\n      <td>0.172</td>\n      <td>0.529</td>\n      <td>12.5</td>\n      <td>78.7</td>\n      <td>0.191</td>\n    </tr>\n    <tr>\n      <th>13</th>\n      <td>Boston Celtics</td>\n      <td>41.4</td>\n      <td>88.7</td>\n      <td>0.466</td>\n      <td>13.3</td>\n      <td>35.9</td>\n      <td>0.372</td>\n      <td>28.0</td>\n      <td>52.8</td>\n      <td>0.531</td>\n      <td>...</td>\n      <td>0.404</td>\n      <td>0.574</td>\n      <td>0.542</td>\n      <td>12.7</td>\n      <td>24.9</td>\n      <td>0.186</td>\n      <td>0.538</td>\n      <td>12.9</td>\n      <td>77.9</td>\n      <td>0.212</td>\n    </tr>\n    <tr>\n      <th>14</th>\n      <td>Sacramento Kings</td>\n      <td>42.7</td>\n      <td>88.5</td>\n      <td>0.482</td>\n      <td>12.0</td>\n      <td>33.0</td>\n      <td>0.365</td>\n      <td>30.6</td>\n      <td>55.5</td>\n      <td>0.552</td>\n      <td>...</td>\n      <td>0.373</td>\n      <td>0.581</td>\n      <td>0.551</td>\n      <td>11.9</td>\n      <td>21.5</td>\n      <td>0.191</td>\n      <td>0.565</td>\n      <td>11.9</td>\n      <td>74.8</td>\n      <td>0.197</td>\n    </tr>\n    <tr>\n      <th>15</th>\n      <td>Philadelphia 76ers</td>\n      <td>41.4</td>\n      <td>86.9</td>\n      <td>0.476</td>\n      <td>11.1</td>\n      <td>29.9</td>\n      <td>0.371</td>\n      <td>30.3</td>\n      <td>56.9</td>\n      <td>0.531</td>\n      <td>...</td>\n      <td>0.345</td>\n      <td>0.578</td>\n      <td>0.540</td>\n      <td>13.0</td>\n      <td>23.5</td>\n      <td>0.229</td>\n      <td>0.522</td>\n      <td>13.9</td>\n      <td>78.7</td>\n      <td>0.202</td>\n    </tr>\n    <tr>\n      <th>16</th>\n      <td>Toronto Raptors</td>\n      <td>39.7</td>\n      <td>88.2</td>\n      <td>0.450</td>\n      <td>14.7</td>\n      <td>39.7</td>\n      <td>0.371</td>\n      <td>24.9</td>\n      <td>48.5</td>\n      <td>0.514</td>\n      <td>...</td>\n      <td>0.450</td>\n      <td>0.572</td>\n      <td>0.533</td>\n      <td>12.0</td>\n      <td>20.7</td>\n      <td>0.199</td>\n      <td>0.540</td>\n      <td>14.5</td>\n      <td>76.1</td>\n      <td>0.235</td>\n    </tr>\n    <tr>\n      <th>17</th>\n      <td>Memphis Grizzlies</td>\n      <td>42.9</td>\n      <td>92.1</td>\n      <td>0.466</td>\n      <td>11.0</td>\n      <td>31.0</td>\n      <td>0.356</td>\n      <td>31.9</td>\n      <td>61.1</td>\n      <td>0.522</td>\n      <td>...</td>\n      <td>0.337</td>\n      <td>0.559</td>\n      <td>0.526</td>\n      <td>11.5</td>\n      <td>23.9</td>\n      <td>0.177</td>\n      <td>0.536</td>\n      <td>13.4</td>\n      <td>78.8</td>\n      <td>0.200</td>\n    </tr>\n    <tr>\n      <th>18</th>\n      <td>Chicago Bulls</td>\n      <td>42.3</td>\n      <td>88.4</td>\n      <td>0.478</td>\n      <td>12.3</td>\n      <td>33.6</td>\n      <td>0.365</td>\n      <td>30.0</td>\n      <td>54.8</td>\n      <td>0.548</td>\n      <td>...</td>\n      <td>0.380</td>\n      <td>0.576</td>\n      <td>0.548</td>\n      <td>13.8</td>\n      <td>22.0</td>\n      <td>0.160</td>\n      <td>0.540</td>\n      <td>11.5</td>\n      <td>80.4</td>\n      <td>0.200</td>\n    </tr>\n    <tr>\n      <th>19</th>\n      <td>Dallas Mavericks</td>\n      <td>41.0</td>\n      <td>87.1</td>\n      <td>0.470</td>\n      <td>13.7</td>\n      <td>38.0</td>\n      <td>0.362</td>\n      <td>27.2</td>\n      <td>49.1</td>\n      <td>0.554</td>\n      <td>...</td>\n      <td>0.436</td>\n      <td>0.581</td>\n      <td>0.549</td>\n      <td>11.1</td>\n      <td>20.5</td>\n      <td>0.188</td>\n      <td>0.533</td>\n      <td>11.4</td>\n      <td>77.8</td>\n      <td>0.197</td>\n    </tr>\n    <tr>\n      <th>20</th>\n      <td>Charlotte Hornets</td>\n      <td>40.0</td>\n      <td>87.4</td>\n      <td>0.458</td>\n      <td>13.9</td>\n      <td>37.0</td>\n      <td>0.377</td>\n      <td>26.1</td>\n      <td>50.4</td>\n      <td>0.518</td>\n      <td>...</td>\n      <td>0.423</td>\n      <td>0.569</td>\n      <td>0.538</td>\n      <td>13.5</td>\n      <td>23.3</td>\n      <td>0.181</td>\n      <td>0.549</td>\n      <td>13.4</td>\n      <td>75.8</td>\n      <td>0.162</td>\n    </tr>\n    <tr>\n      <th>21</th>\n      <td>Los Angeles Lakers</td>\n      <td>40.8</td>\n      <td>86.0</td>\n      <td>0.474</td>\n      <td>11.1</td>\n      <td>31.4</td>\n      <td>0.352</td>\n      <td>29.7</td>\n      <td>54.6</td>\n      <td>0.544</td>\n      <td>...</td>\n      <td>0.365</td>\n      <td>0.570</td>\n      <td>0.538</td>\n      <td>13.8</td>\n      <td>22.5</td>\n      <td>0.198</td>\n      <td>0.524</td>\n      <td>13.8</td>\n      <td>79.4</td>\n      <td>0.179</td>\n    </tr>\n    <tr>\n      <th>22</th>\n      <td>Houston Rockets</td>\n      <td>39.0</td>\n      <td>88.4</td>\n      <td>0.441</td>\n      <td>13.4</td>\n      <td>40.0</td>\n      <td>0.335</td>\n      <td>25.6</td>\n      <td>48.4</td>\n      <td>0.530</td>\n      <td>...</td>\n      <td>0.452</td>\n      <td>0.549</td>\n      <td>0.517</td>\n      <td>13.1</td>\n      <td>19.7</td>\n      <td>0.186</td>\n      <td>0.549</td>\n      <td>13.1</td>\n      <td>77.0</td>\n      <td>0.200</td>\n    </tr>\n    <tr>\n      <th>23</th>\n      <td>San Antonio Spurs</td>\n      <td>41.7</td>\n      <td>90.1</td>\n      <td>0.462</td>\n      <td>10.3</td>\n      <td>28.9</td>\n      <td>0.356</td>\n      <td>31.4</td>\n      <td>61.2</td>\n      <td>0.513</td>\n      <td>...</td>\n      <td>0.321</td>\n      <td>0.556</td>\n      <td>0.520</td>\n      <td>10.3</td>\n      <td>20.0</td>\n      <td>0.195</td>\n      <td>0.535</td>\n      <td>11.9</td>\n      <td>77.1</td>\n      <td>0.176</td>\n    </tr>\n    <tr>\n      <th>24</th>\n      <td>Detroit Pistons</td>\n      <td>38.6</td>\n      <td>85.8</td>\n      <td>0.450</td>\n      <td>11.8</td>\n      <td>33.1</td>\n      <td>0.355</td>\n      <td>26.8</td>\n      <td>52.7</td>\n      <td>0.509</td>\n      <td>...</td>\n      <td>0.386</td>\n      <td>0.556</td>\n      <td>0.518</td>\n      <td>13.4</td>\n      <td>22.3</td>\n      <td>0.212</td>\n      <td>0.541</td>\n      <td>12.8</td>\n      <td>76.8</td>\n      <td>0.198</td>\n    </tr>\n    <tr>\n      <th>25</th>\n      <td>Miami Heat</td>\n      <td>38.6</td>\n      <td>83.5</td>\n      <td>0.463</td>\n      <td>12.7</td>\n      <td>36.1</td>\n      <td>0.350</td>\n      <td>26.0</td>\n      <td>47.4</td>\n      <td>0.548</td>\n      <td>...</td>\n      <td>0.432</td>\n      <td>0.575</td>\n      <td>0.538</td>\n      <td>13.2</td>\n      <td>19.2</td>\n      <td>0.201</td>\n      <td>0.537</td>\n      <td>14.0</td>\n      <td>77.5</td>\n      <td>0.182</td>\n    </tr>\n    <tr>\n      <th>26</th>\n      <td>New York Knicks</td>\n      <td>39.5</td>\n      <td>86.5</td>\n      <td>0.457</td>\n      <td>11.5</td>\n      <td>29.7</td>\n      <td>0.387</td>\n      <td>28.0</td>\n      <td>56.8</td>\n      <td>0.493</td>\n      <td>...</td>\n      <td>0.344</td>\n      <td>0.558</td>\n      <td>0.523</td>\n      <td>12.1</td>\n      <td>22.9</td>\n      <td>0.191</td>\n      <td>0.514</td>\n      <td>11.8</td>\n      <td>79.0</td>\n      <td>0.194</td>\n    </tr>\n    <tr>\n      <th>27</th>\n      <td>Oklahoma City Thunder</td>\n      <td>38.8</td>\n      <td>87.8</td>\n      <td>0.442</td>\n      <td>12.2</td>\n      <td>35.7</td>\n      <td>0.342</td>\n      <td>26.6</td>\n      <td>52.1</td>\n      <td>0.510</td>\n      <td>...</td>\n      <td>0.406</td>\n      <td>0.542</td>\n      <td>0.511</td>\n      <td>14.5</td>\n      <td>20.8</td>\n      <td>0.176</td>\n      <td>0.544</td>\n      <td>11.5</td>\n      <td>77.8</td>\n      <td>0.166</td>\n    </tr>\n    <tr>\n      <th>28</th>\n      <td>Orlando Magic</td>\n      <td>38.4</td>\n      <td>89.3</td>\n      <td>0.430</td>\n      <td>11.1</td>\n      <td>32.0</td>\n      <td>0.346</td>\n      <td>27.3</td>\n      <td>57.3</td>\n      <td>0.477</td>\n      <td>...</td>\n      <td>0.359</td>\n      <td>0.528</td>\n      <td>0.492</td>\n      <td>11.5</td>\n      <td>21.5</td>\n      <td>0.181</td>\n      <td>0.547</td>\n      <td>11.8</td>\n      <td>78.5</td>\n      <td>0.167</td>\n    </tr>\n    <tr>\n      <th>29</th>\n      <td>Cleveland Cavaliers</td>\n      <td>38.9</td>\n      <td>85.7</td>\n      <td>0.454</td>\n      <td>9.9</td>\n      <td>29.3</td>\n      <td>0.338</td>\n      <td>29.0</td>\n      <td>56.3</td>\n      <td>0.514</td>\n      <td>...</td>\n      <td>0.342</td>\n      <td>0.545</td>\n      <td>0.512</td>\n      <td>14.0</td>\n      <td>23.7</td>\n      <td>0.189</td>\n      <td>0.554</td>\n      <td>13.5</td>\n      <td>76.4</td>\n      <td>0.185</td>\n    </tr>\n  </tbody>\n</table>\n<p>30 rows × 65 columns</p>\n</div>"
     },
     "metadata": {},
     "execution_count": 5
    }
   ],
   "source": [
    "pwd = os.getcwd()\n",
    "team_stats = pd.read_csv(pwd + \"/../datasets/team_year_stats.csv\")\n",
    "team_stats"
   ]
  },
  {
   "cell_type": "code",
   "execution_count": 130,
   "metadata": {},
   "outputs": [
    {
     "output_type": "execute_result",
     "data": {
      "text/plain": [
       "Index(['Team', 'FG', 'FGA', 'FG%', '3P', '3PA', '3P%', '2P', '2PA', '2P%',\n",
       "       'FT', 'FTA', 'FT%', 'ORB', 'DRB', 'TRB', 'AST', 'STL', 'BLK', 'TOV',\n",
       "       'PF', 'PTS', 'FG_opponent', 'FGA_opponent', 'FG%_opponent',\n",
       "       '3P_opponent', '3PA_opponent', '3P%_opponent', '2P_opponent',\n",
       "       '2PA_opponent', '2P%_opponent', 'FT_opponent', 'FTA_opponent',\n",
       "       'FT%_opponent', 'ORB_opponent', 'DRB_opponent', 'TRB_opponent',\n",
       "       'AST_opponent', 'STL_opponent', 'BLK_opponent', 'TOV_opponent',\n",
       "       'PF_opponent', 'PTS_opponent', 'W', 'L', 'PW', 'PL', 'MOV', 'SOS',\n",
       "       'SRS', 'ORtg', 'DRtg', 'NRtg', 'Pace', 'FTr', '3PAr', 'TS%', 'eFG%',\n",
       "       'TOV%', 'ORB%', 'FT/FGA', 'opponent_eFG%', 'opponent_TOV%', 'DRB%',\n",
       "       'opponent_FT/FGA'],\n",
       "      dtype='object')"
      ]
     },
     "metadata": {},
     "execution_count": 130
    }
   ],
   "source": [
    "team_stats.columns"
   ]
  },
  {
   "cell_type": "code",
   "execution_count": 131,
   "metadata": {},
   "outputs": [
    {
     "output_type": "execute_result",
     "data": {
      "text/plain": [
       "                   Date        Visitor/Neutral  Away_PTS  \\\n",
       "0     Tue, Dec 22, 2020  Golden State Warriors      99.0   \n",
       "1     Tue, Dec 22, 2020   Los Angeles Clippers     116.0   \n",
       "2     Wed, Dec 23, 2020      Charlotte Hornets     114.0   \n",
       "3     Wed, Dec 23, 2020        New York Knicks     107.0   \n",
       "4     Wed, Dec 23, 2020             Miami Heat     107.0   \n",
       "...                 ...                    ...       ...   \n",
       "1006   Sat, May 8, 2021      Memphis Grizzlies     109.0   \n",
       "1007   Sat, May 8, 2021          Brooklyn Nets     125.0   \n",
       "1008   Sat, May 8, 2021  Oklahoma City Thunder      97.0   \n",
       "1009   Sat, May 8, 2021      San Antonio Spurs     102.0   \n",
       "1010   Sat, May 8, 2021        Houston Rockets     116.0   \n",
       "\n",
       "                Home/Neutral  Home_PTS Home/Away Winner  \\\n",
       "0              Brooklyn Nets     125.0             Home   \n",
       "1         Los Angeles Lakers     109.0          Visitor   \n",
       "2        Cleveland Cavaliers     121.0             Home   \n",
       "3             Indiana Pacers     121.0             Home   \n",
       "4              Orlando Magic     113.0             Home   \n",
       "...                      ...       ...              ...   \n",
       "1006         Toronto Raptors      99.0          Visitor   \n",
       "1007          Denver Nuggets     119.0          Visitor   \n",
       "1008   Golden State Warriors     136.0             Home   \n",
       "1009  Portland Trail Blazers     124.0             Home   \n",
       "1010               Utah Jazz     124.0             Home   \n",
       "\n",
       "                Winning Team  Margin of Victory  \n",
       "0              Brooklyn Nets               26.0  \n",
       "1       Los Angeles Clippers                7.0  \n",
       "2        Cleveland Cavaliers                7.0  \n",
       "3             Indiana Pacers               14.0  \n",
       "4              Orlando Magic                6.0  \n",
       "...                      ...                ...  \n",
       "1006       Memphis Grizzlies               10.0  \n",
       "1007           Brooklyn Nets                6.0  \n",
       "1008   Golden State Warriors               39.0  \n",
       "1009  Portland Trail Blazers               22.0  \n",
       "1010               Utah Jazz                8.0  \n",
       "\n",
       "[1011 rows x 8 columns]"
      ],
      "text/html": "<div>\n<style scoped>\n    .dataframe tbody tr th:only-of-type {\n        vertical-align: middle;\n    }\n\n    .dataframe tbody tr th {\n        vertical-align: top;\n    }\n\n    .dataframe thead th {\n        text-align: right;\n    }\n</style>\n<table border=\"1\" class=\"dataframe\">\n  <thead>\n    <tr style=\"text-align: right;\">\n      <th></th>\n      <th>Date</th>\n      <th>Visitor/Neutral</th>\n      <th>Away_PTS</th>\n      <th>Home/Neutral</th>\n      <th>Home_PTS</th>\n      <th>Home/Away Winner</th>\n      <th>Winning Team</th>\n      <th>Margin of Victory</th>\n    </tr>\n  </thead>\n  <tbody>\n    <tr>\n      <th>0</th>\n      <td>Tue, Dec 22, 2020</td>\n      <td>Golden State Warriors</td>\n      <td>99.0</td>\n      <td>Brooklyn Nets</td>\n      <td>125.0</td>\n      <td>Home</td>\n      <td>Brooklyn Nets</td>\n      <td>26.0</td>\n    </tr>\n    <tr>\n      <th>1</th>\n      <td>Tue, Dec 22, 2020</td>\n      <td>Los Angeles Clippers</td>\n      <td>116.0</td>\n      <td>Los Angeles Lakers</td>\n      <td>109.0</td>\n      <td>Visitor</td>\n      <td>Los Angeles Clippers</td>\n      <td>7.0</td>\n    </tr>\n    <tr>\n      <th>2</th>\n      <td>Wed, Dec 23, 2020</td>\n      <td>Charlotte Hornets</td>\n      <td>114.0</td>\n      <td>Cleveland Cavaliers</td>\n      <td>121.0</td>\n      <td>Home</td>\n      <td>Cleveland Cavaliers</td>\n      <td>7.0</td>\n    </tr>\n    <tr>\n      <th>3</th>\n      <td>Wed, Dec 23, 2020</td>\n      <td>New York Knicks</td>\n      <td>107.0</td>\n      <td>Indiana Pacers</td>\n      <td>121.0</td>\n      <td>Home</td>\n      <td>Indiana Pacers</td>\n      <td>14.0</td>\n    </tr>\n    <tr>\n      <th>4</th>\n      <td>Wed, Dec 23, 2020</td>\n      <td>Miami Heat</td>\n      <td>107.0</td>\n      <td>Orlando Magic</td>\n      <td>113.0</td>\n      <td>Home</td>\n      <td>Orlando Magic</td>\n      <td>6.0</td>\n    </tr>\n    <tr>\n      <th>...</th>\n      <td>...</td>\n      <td>...</td>\n      <td>...</td>\n      <td>...</td>\n      <td>...</td>\n      <td>...</td>\n      <td>...</td>\n      <td>...</td>\n    </tr>\n    <tr>\n      <th>1006</th>\n      <td>Sat, May 8, 2021</td>\n      <td>Memphis Grizzlies</td>\n      <td>109.0</td>\n      <td>Toronto Raptors</td>\n      <td>99.0</td>\n      <td>Visitor</td>\n      <td>Memphis Grizzlies</td>\n      <td>10.0</td>\n    </tr>\n    <tr>\n      <th>1007</th>\n      <td>Sat, May 8, 2021</td>\n      <td>Brooklyn Nets</td>\n      <td>125.0</td>\n      <td>Denver Nuggets</td>\n      <td>119.0</td>\n      <td>Visitor</td>\n      <td>Brooklyn Nets</td>\n      <td>6.0</td>\n    </tr>\n    <tr>\n      <th>1008</th>\n      <td>Sat, May 8, 2021</td>\n      <td>Oklahoma City Thunder</td>\n      <td>97.0</td>\n      <td>Golden State Warriors</td>\n      <td>136.0</td>\n      <td>Home</td>\n      <td>Golden State Warriors</td>\n      <td>39.0</td>\n    </tr>\n    <tr>\n      <th>1009</th>\n      <td>Sat, May 8, 2021</td>\n      <td>San Antonio Spurs</td>\n      <td>102.0</td>\n      <td>Portland Trail Blazers</td>\n      <td>124.0</td>\n      <td>Home</td>\n      <td>Portland Trail Blazers</td>\n      <td>22.0</td>\n    </tr>\n    <tr>\n      <th>1010</th>\n      <td>Sat, May 8, 2021</td>\n      <td>Houston Rockets</td>\n      <td>116.0</td>\n      <td>Utah Jazz</td>\n      <td>124.0</td>\n      <td>Home</td>\n      <td>Utah Jazz</td>\n      <td>8.0</td>\n    </tr>\n  </tbody>\n</table>\n<p>1011 rows × 8 columns</p>\n</div>"
     },
     "metadata": {},
     "execution_count": 131
    }
   ],
   "source": [
    "model_data = game_schedule\n",
    "model_data"
   ]
  },
  {
   "cell_type": "code",
   "execution_count": 132,
   "metadata": {},
   "outputs": [
    {
     "output_type": "execute_result",
     "data": {
      "text/plain": [
       "1011"
      ]
     },
     "metadata": {},
     "execution_count": 132
    }
   ],
   "source": [
    "home_efg = []\n",
    "home_to = []\n",
    "home_orb = []\n",
    "home_ftr = []\n",
    "home_opponent_efg = []\n",
    "home_opponent_to = []\n",
    "home_opponent_orb = []\n",
    "home_opponent_ftr = []\n",
    "\n",
    "for index, row in model_data.iterrows():\n",
    "    home_team = row[\"Home/Neutral\"]\n",
    "    for index1, row1 in team_stats.iterrows():\n",
    "        if row1[\"Team\"] == home_team:\n",
    "            home_efg.append(row1[\"eFG%\"])\n",
    "            home_to.append(row1[\"TOV%\"])\n",
    "            home_orb.append(row1[\"ORB%\"])\n",
    "            home_ftr.append(row1[\"FT/FGA\"])\n",
    "            home_opponent_efg.append(row1[\"opponent_eFG%\"])\n",
    "            home_opponent_to.append(row1[\"opponent_TOV%\"])\n",
    "            home_opponent_orb.append(row1[\"DRB%\"])\n",
    "            home_opponent_ftr.append(row1[\"opponent_FT/FGA\"])\n",
    "        \n",
    "len(home_efg)"
   ]
  },
  {
   "cell_type": "code",
   "execution_count": 133,
   "metadata": {},
   "outputs": [
    {
     "output_type": "execute_result",
     "data": {
      "text/plain": [
       "1011"
      ]
     },
     "metadata": {},
     "execution_count": 133
    }
   ],
   "source": [
    "home_efg = []\n",
    "home_to = []\n",
    "home_orb = []\n",
    "home_ftr = []\n",
    "home_opponent_efg = []\n",
    "home_opponent_to = []\n",
    "home_opponent_orb = []\n",
    "home_opponent_ftr = []\n",
    "\n",
    "for index, row in model_data.iterrows():\n",
    "    home_team = row[\"Home/Neutral\"]\n",
    "    for index1, row1 in team_stats.iterrows():\n",
    "        if row1[\"Team\"] == home_team:\n",
    "            home_efg.append(row1[\"eFG%\"])\n",
    "            home_to.append(row1[\"TOV%\"])\n",
    "            home_orb.append(row1[\"ORB%\"])\n",
    "            home_ftr.append(row1[\"FT/FGA\"])\n",
    "            home_opponent_efg.append(row1[\"opponent_eFG%\"])\n",
    "            home_opponent_to.append(row1[\"opponent_TOV%\"])\n",
    "            home_opponent_orb.append(row1[\"DRB%\"])\n",
    "            home_opponent_ftr.append(row1[\"opponent_FT/FGA\"])\n",
    "        \n",
    "len(home_efg)"
   ]
  },
  {
   "cell_type": "code",
   "execution_count": 134,
   "metadata": {},
   "outputs": [
    {
     "output_type": "execute_result",
     "data": {
      "text/plain": [
       "1011"
      ]
     },
     "metadata": {},
     "execution_count": 134
    }
   ],
   "source": [
    "away_efg = []\n",
    "away_to = []\n",
    "away_orb = []\n",
    "away_ftr = []\n",
    "away_opponent_efg = []\n",
    "away_opponent_to = []\n",
    "away_opponent_orb = []\n",
    "away_opponent_ftr = []\n",
    "\n",
    "for index, row in model_data.iterrows():\n",
    "    away_team = row[\"Visitor/Neutral\"]\n",
    "    for index1, row1 in team_stats.iterrows():\n",
    "        if row1[\"Team\"] == away_team:\n",
    "            away_efg.append(row1[\"eFG%\"])\n",
    "            away_to.append(row1[\"TOV%\"])\n",
    "            away_orb.append(row1[\"ORB%\"])\n",
    "            away_ftr.append(row1[\"FT/FGA\"])\n",
    "            away_opponent_efg.append(row1[\"opponent_eFG%\"])\n",
    "            away_opponent_to.append(row1[\"opponent_TOV%\"])\n",
    "            away_opponent_orb.append(row1[\"DRB%\"])\n",
    "            away_opponent_ftr.append(row1[\"opponent_FT/FGA\"])\n",
    "        \n",
    "len(away_efg)"
   ]
  },
  {
   "cell_type": "code",
   "execution_count": 135,
   "metadata": {},
   "outputs": [
    {
     "output_type": "execute_result",
     "data": {
      "text/plain": [
       "     Home/Away Winner\n",
       "0                Home\n",
       "1             Visitor\n",
       "2                Home\n",
       "3                Home\n",
       "4                Home\n",
       "...               ...\n",
       "1006          Visitor\n",
       "1007          Visitor\n",
       "1008             Home\n",
       "1009             Home\n",
       "1010             Home\n",
       "\n",
       "[1011 rows x 1 columns]"
      ],
      "text/html": "<div>\n<style scoped>\n    .dataframe tbody tr th:only-of-type {\n        vertical-align: middle;\n    }\n\n    .dataframe tbody tr th {\n        vertical-align: top;\n    }\n\n    .dataframe thead th {\n        text-align: right;\n    }\n</style>\n<table border=\"1\" class=\"dataframe\">\n  <thead>\n    <tr style=\"text-align: right;\">\n      <th></th>\n      <th>Home/Away Winner</th>\n    </tr>\n  </thead>\n  <tbody>\n    <tr>\n      <th>0</th>\n      <td>Home</td>\n    </tr>\n    <tr>\n      <th>1</th>\n      <td>Visitor</td>\n    </tr>\n    <tr>\n      <th>2</th>\n      <td>Home</td>\n    </tr>\n    <tr>\n      <th>3</th>\n      <td>Home</td>\n    </tr>\n    <tr>\n      <th>4</th>\n      <td>Home</td>\n    </tr>\n    <tr>\n      <th>...</th>\n      <td>...</td>\n    </tr>\n    <tr>\n      <th>1006</th>\n      <td>Visitor</td>\n    </tr>\n    <tr>\n      <th>1007</th>\n      <td>Visitor</td>\n    </tr>\n    <tr>\n      <th>1008</th>\n      <td>Home</td>\n    </tr>\n    <tr>\n      <th>1009</th>\n      <td>Home</td>\n    </tr>\n    <tr>\n      <th>1010</th>\n      <td>Home</td>\n    </tr>\n  </tbody>\n</table>\n<p>1011 rows × 1 columns</p>\n</div>"
     },
     "metadata": {},
     "execution_count": 135
    }
   ],
   "source": [
    "model_data.drop(columns=[\"Date\", \"Visitor/Neutral\", \"Away_PTS\", \"Home/Neutral\", \"Home_PTS\", \"Winning Team\", \"Margin of Victory\"], inplace=True)\n",
    "model_data"
   ]
  },
  {
   "cell_type": "code",
   "execution_count": 136,
   "metadata": {},
   "outputs": [
    {
     "output_type": "execute_result",
     "data": {
      "text/plain": [
       "     Home/Away Winner  Home_eFG%  Home_TOV%  Home_ORB%  Home_FTR  \\\n",
       "0                Home      0.573       12.3       21.8     0.209   \n",
       "1             Visitor      0.538       13.8       22.5     0.198   \n",
       "2                Home      0.512       14.0       23.7     0.189   \n",
       "3                Home      0.540       11.9       20.1     0.182   \n",
       "4                Home      0.492       11.5       21.5     0.181   \n",
       "...               ...        ...        ...        ...       ...   \n",
       "1006          Visitor      0.533       12.0       20.7     0.199   \n",
       "1007          Visitor      0.561       12.2       24.8     0.175   \n",
       "1008             Home      0.546       13.3       17.8     0.189   \n",
       "1009             Home      0.534       10.1       23.4     0.193   \n",
       "1010             Home      0.563       12.7       24.2     0.195   \n",
       "\n",
       "      Home_opponent_eFG%  Home_opponent_TOV%  Home_opponent_ORB%  \\\n",
       "0                  0.535                11.3                77.6   \n",
       "1                  0.524                13.8                79.4   \n",
       "2                  0.554                13.5                76.4   \n",
       "3                  0.531                13.0                74.8   \n",
       "4                  0.547                11.8                78.5   \n",
       "...                  ...                 ...                 ...   \n",
       "1006               0.540                14.5                76.1   \n",
       "1007               0.544                12.8                78.9   \n",
       "1008               0.525                13.3                76.6   \n",
       "1009               0.549                11.3                77.2   \n",
       "1010               0.506                10.3                79.0   \n",
       "\n",
       "      Home_opponent_FTR  Visitor_eFG%  Visitor_TOV%  Visitor_ORB%  \\\n",
       "0                 0.188         0.546          13.3          17.8   \n",
       "1                 0.179         0.564          12.0          22.9   \n",
       "2                 0.185         0.538          13.5          23.3   \n",
       "3                 0.201         0.523          12.1          22.9   \n",
       "4                 0.167         0.538          13.2          19.2   \n",
       "...                 ...           ...           ...           ...   \n",
       "1006              0.235         0.526          11.5          23.9   \n",
       "1007              0.195         0.573          12.3          21.8   \n",
       "1008              0.226         0.511          14.5          20.8   \n",
       "1009              0.203         0.520          10.3          20.0   \n",
       "1010              0.160         0.517          13.1          19.7   \n",
       "\n",
       "      Visitor_FTR  Visitor_opponent_eFG%  Visitor_opponent_TOV%  \\\n",
       "0           0.189                  0.525                   13.3   \n",
       "1           0.186                  0.532                   11.9   \n",
       "2           0.181                  0.549                   13.4   \n",
       "3           0.191                  0.514                   11.8   \n",
       "4           0.201                  0.537                   14.0   \n",
       "...           ...                    ...                    ...   \n",
       "1006        0.177                  0.536                   13.4   \n",
       "1007        0.209                  0.535                   11.3   \n",
       "1008        0.176                  0.544                   11.5   \n",
       "1009        0.195                  0.535                   11.9   \n",
       "1010        0.186                  0.549                   13.1   \n",
       "\n",
       "      Visitor_opponent_ORB%  Visitor_opponent_FTR  \n",
       "0                      76.6                 0.226  \n",
       "1                      79.1                 0.190  \n",
       "2                      75.8                 0.162  \n",
       "3                      79.0                 0.194  \n",
       "4                      77.5                 0.182  \n",
       "...                     ...                   ...  \n",
       "1006                   78.8                 0.200  \n",
       "1007                   77.6                 0.188  \n",
       "1008                   77.8                 0.166  \n",
       "1009                   77.1                 0.176  \n",
       "1010                   77.0                 0.200  \n",
       "\n",
       "[1011 rows x 17 columns]"
      ],
      "text/html": "<div>\n<style scoped>\n    .dataframe tbody tr th:only-of-type {\n        vertical-align: middle;\n    }\n\n    .dataframe tbody tr th {\n        vertical-align: top;\n    }\n\n    .dataframe thead th {\n        text-align: right;\n    }\n</style>\n<table border=\"1\" class=\"dataframe\">\n  <thead>\n    <tr style=\"text-align: right;\">\n      <th></th>\n      <th>Home/Away Winner</th>\n      <th>Home_eFG%</th>\n      <th>Home_TOV%</th>\n      <th>Home_ORB%</th>\n      <th>Home_FTR</th>\n      <th>Home_opponent_eFG%</th>\n      <th>Home_opponent_TOV%</th>\n      <th>Home_opponent_ORB%</th>\n      <th>Home_opponent_FTR</th>\n      <th>Visitor_eFG%</th>\n      <th>Visitor_TOV%</th>\n      <th>Visitor_ORB%</th>\n      <th>Visitor_FTR</th>\n      <th>Visitor_opponent_eFG%</th>\n      <th>Visitor_opponent_TOV%</th>\n      <th>Visitor_opponent_ORB%</th>\n      <th>Visitor_opponent_FTR</th>\n    </tr>\n  </thead>\n  <tbody>\n    <tr>\n      <th>0</th>\n      <td>Home</td>\n      <td>0.573</td>\n      <td>12.3</td>\n      <td>21.8</td>\n      <td>0.209</td>\n      <td>0.535</td>\n      <td>11.3</td>\n      <td>77.6</td>\n      <td>0.188</td>\n      <td>0.546</td>\n      <td>13.3</td>\n      <td>17.8</td>\n      <td>0.189</td>\n      <td>0.525</td>\n      <td>13.3</td>\n      <td>76.6</td>\n      <td>0.226</td>\n    </tr>\n    <tr>\n      <th>1</th>\n      <td>Visitor</td>\n      <td>0.538</td>\n      <td>13.8</td>\n      <td>22.5</td>\n      <td>0.198</td>\n      <td>0.524</td>\n      <td>13.8</td>\n      <td>79.4</td>\n      <td>0.179</td>\n      <td>0.564</td>\n      <td>12.0</td>\n      <td>22.9</td>\n      <td>0.186</td>\n      <td>0.532</td>\n      <td>11.9</td>\n      <td>79.1</td>\n      <td>0.190</td>\n    </tr>\n    <tr>\n      <th>2</th>\n      <td>Home</td>\n      <td>0.512</td>\n      <td>14.0</td>\n      <td>23.7</td>\n      <td>0.189</td>\n      <td>0.554</td>\n      <td>13.5</td>\n      <td>76.4</td>\n      <td>0.185</td>\n      <td>0.538</td>\n      <td>13.5</td>\n      <td>23.3</td>\n      <td>0.181</td>\n      <td>0.549</td>\n      <td>13.4</td>\n      <td>75.8</td>\n      <td>0.162</td>\n    </tr>\n    <tr>\n      <th>3</th>\n      <td>Home</td>\n      <td>0.540</td>\n      <td>11.9</td>\n      <td>20.1</td>\n      <td>0.182</td>\n      <td>0.531</td>\n      <td>13.0</td>\n      <td>74.8</td>\n      <td>0.201</td>\n      <td>0.523</td>\n      <td>12.1</td>\n      <td>22.9</td>\n      <td>0.191</td>\n      <td>0.514</td>\n      <td>11.8</td>\n      <td>79.0</td>\n      <td>0.194</td>\n    </tr>\n    <tr>\n      <th>4</th>\n      <td>Home</td>\n      <td>0.492</td>\n      <td>11.5</td>\n      <td>21.5</td>\n      <td>0.181</td>\n      <td>0.547</td>\n      <td>11.8</td>\n      <td>78.5</td>\n      <td>0.167</td>\n      <td>0.538</td>\n      <td>13.2</td>\n      <td>19.2</td>\n      <td>0.201</td>\n      <td>0.537</td>\n      <td>14.0</td>\n      <td>77.5</td>\n      <td>0.182</td>\n    </tr>\n    <tr>\n      <th>...</th>\n      <td>...</td>\n      <td>...</td>\n      <td>...</td>\n      <td>...</td>\n      <td>...</td>\n      <td>...</td>\n      <td>...</td>\n      <td>...</td>\n      <td>...</td>\n      <td>...</td>\n      <td>...</td>\n      <td>...</td>\n      <td>...</td>\n      <td>...</td>\n      <td>...</td>\n      <td>...</td>\n      <td>...</td>\n    </tr>\n    <tr>\n      <th>1006</th>\n      <td>Visitor</td>\n      <td>0.533</td>\n      <td>12.0</td>\n      <td>20.7</td>\n      <td>0.199</td>\n      <td>0.540</td>\n      <td>14.5</td>\n      <td>76.1</td>\n      <td>0.235</td>\n      <td>0.526</td>\n      <td>11.5</td>\n      <td>23.9</td>\n      <td>0.177</td>\n      <td>0.536</td>\n      <td>13.4</td>\n      <td>78.8</td>\n      <td>0.200</td>\n    </tr>\n    <tr>\n      <th>1007</th>\n      <td>Visitor</td>\n      <td>0.561</td>\n      <td>12.2</td>\n      <td>24.8</td>\n      <td>0.175</td>\n      <td>0.544</td>\n      <td>12.8</td>\n      <td>78.9</td>\n      <td>0.195</td>\n      <td>0.573</td>\n      <td>12.3</td>\n      <td>21.8</td>\n      <td>0.209</td>\n      <td>0.535</td>\n      <td>11.3</td>\n      <td>77.6</td>\n      <td>0.188</td>\n    </tr>\n    <tr>\n      <th>1008</th>\n      <td>Home</td>\n      <td>0.546</td>\n      <td>13.3</td>\n      <td>17.8</td>\n      <td>0.189</td>\n      <td>0.525</td>\n      <td>13.3</td>\n      <td>76.6</td>\n      <td>0.226</td>\n      <td>0.511</td>\n      <td>14.5</td>\n      <td>20.8</td>\n      <td>0.176</td>\n      <td>0.544</td>\n      <td>11.5</td>\n      <td>77.8</td>\n      <td>0.166</td>\n    </tr>\n    <tr>\n      <th>1009</th>\n      <td>Home</td>\n      <td>0.534</td>\n      <td>10.1</td>\n      <td>23.4</td>\n      <td>0.193</td>\n      <td>0.549</td>\n      <td>11.3</td>\n      <td>77.2</td>\n      <td>0.203</td>\n      <td>0.520</td>\n      <td>10.3</td>\n      <td>20.0</td>\n      <td>0.195</td>\n      <td>0.535</td>\n      <td>11.9</td>\n      <td>77.1</td>\n      <td>0.176</td>\n    </tr>\n    <tr>\n      <th>1010</th>\n      <td>Home</td>\n      <td>0.563</td>\n      <td>12.7</td>\n      <td>24.2</td>\n      <td>0.195</td>\n      <td>0.506</td>\n      <td>10.3</td>\n      <td>79.0</td>\n      <td>0.160</td>\n      <td>0.517</td>\n      <td>13.1</td>\n      <td>19.7</td>\n      <td>0.186</td>\n      <td>0.549</td>\n      <td>13.1</td>\n      <td>77.0</td>\n      <td>0.200</td>\n    </tr>\n  </tbody>\n</table>\n<p>1011 rows × 17 columns</p>\n</div>"
     },
     "metadata": {},
     "execution_count": 136
    }
   ],
   "source": [
    "model_data[\"Home_eFG%\"] = home_efg\n",
    "model_data[\"Home_TOV%\"] = home_to\n",
    "model_data[\"Home_ORB%\"] = home_orb\n",
    "model_data[\"Home_FTR\"] = home_ftr\n",
    "model_data[\"Home_opponent_eFG%\"] = home_opponent_efg\n",
    "model_data[\"Home_opponent_TOV%\"] = home_opponent_to\n",
    "model_data[\"Home_opponent_ORB%\"] = home_opponent_orb\n",
    "model_data[\"Home_opponent_FTR\"] = home_opponent_ftr\n",
    "\n",
    "model_data[\"Visitor_eFG%\"] = away_efg\n",
    "model_data[\"Visitor_TOV%\"] = away_to\n",
    "model_data[\"Visitor_ORB%\"] = away_orb\n",
    "model_data[\"Visitor_FTR\"] = away_ftr\n",
    "model_data[\"Visitor_opponent_eFG%\"] = away_opponent_efg\n",
    "model_data[\"Visitor_opponent_TOV%\"] = away_opponent_to\n",
    "model_data[\"Visitor_opponent_ORB%\"] = away_opponent_orb\n",
    "model_data[\"Visitor_opponent_FTR\"] = away_opponent_ftr\n",
    "\n",
    "model_data"
   ]
  },
  {
   "cell_type": "code",
   "execution_count": 137,
   "metadata": {},
   "outputs": [
    {
     "output_type": "execute_result",
     "data": {
      "text/plain": [
       "0          Home\n",
       "1       Visitor\n",
       "2          Home\n",
       "3          Home\n",
       "4          Home\n",
       "         ...   \n",
       "1006    Visitor\n",
       "1007    Visitor\n",
       "1008       Home\n",
       "1009       Home\n",
       "1010       Home\n",
       "Name: Home/Away Winner, Length: 1011, dtype: object"
      ]
     },
     "metadata": {},
     "execution_count": 137
    }
   ],
   "source": [
    "y = model_data[\"Home/Away Winner\"]\n",
    "y"
   ]
  },
  {
   "cell_type": "code",
   "execution_count": 138,
   "metadata": {},
   "outputs": [
    {
     "output_type": "execute_result",
     "data": {
      "text/plain": [
       "      Home_eFG%  Home_TOV%  Home_ORB%  Home_FTR  Home_opponent_eFG%  \\\n",
       "0         0.573       12.3       21.8     0.209               0.535   \n",
       "1         0.538       13.8       22.5     0.198               0.524   \n",
       "2         0.512       14.0       23.7     0.189               0.554   \n",
       "3         0.540       11.9       20.1     0.182               0.531   \n",
       "4         0.492       11.5       21.5     0.181               0.547   \n",
       "...         ...        ...        ...       ...                 ...   \n",
       "1006      0.533       12.0       20.7     0.199               0.540   \n",
       "1007      0.561       12.2       24.8     0.175               0.544   \n",
       "1008      0.546       13.3       17.8     0.189               0.525   \n",
       "1009      0.534       10.1       23.4     0.193               0.549   \n",
       "1010      0.563       12.7       24.2     0.195               0.506   \n",
       "\n",
       "      Home_opponent_TOV%  Home_opponent_ORB%  Home_opponent_FTR  Visitor_eFG%  \\\n",
       "0                   11.3                77.6              0.188         0.546   \n",
       "1                   13.8                79.4              0.179         0.564   \n",
       "2                   13.5                76.4              0.185         0.538   \n",
       "3                   13.0                74.8              0.201         0.523   \n",
       "4                   11.8                78.5              0.167         0.538   \n",
       "...                  ...                 ...                ...           ...   \n",
       "1006                14.5                76.1              0.235         0.526   \n",
       "1007                12.8                78.9              0.195         0.573   \n",
       "1008                13.3                76.6              0.226         0.511   \n",
       "1009                11.3                77.2              0.203         0.520   \n",
       "1010                10.3                79.0              0.160         0.517   \n",
       "\n",
       "      Visitor_TOV%  Visitor_ORB%  Visitor_FTR  Visitor_opponent_eFG%  \\\n",
       "0             13.3          17.8        0.189                  0.525   \n",
       "1             12.0          22.9        0.186                  0.532   \n",
       "2             13.5          23.3        0.181                  0.549   \n",
       "3             12.1          22.9        0.191                  0.514   \n",
       "4             13.2          19.2        0.201                  0.537   \n",
       "...            ...           ...          ...                    ...   \n",
       "1006          11.5          23.9        0.177                  0.536   \n",
       "1007          12.3          21.8        0.209                  0.535   \n",
       "1008          14.5          20.8        0.176                  0.544   \n",
       "1009          10.3          20.0        0.195                  0.535   \n",
       "1010          13.1          19.7        0.186                  0.549   \n",
       "\n",
       "      Visitor_opponent_TOV%  Visitor_opponent_ORB%  Visitor_opponent_FTR  \n",
       "0                      13.3                   76.6                 0.226  \n",
       "1                      11.9                   79.1                 0.190  \n",
       "2                      13.4                   75.8                 0.162  \n",
       "3                      11.8                   79.0                 0.194  \n",
       "4                      14.0                   77.5                 0.182  \n",
       "...                     ...                    ...                   ...  \n",
       "1006                   13.4                   78.8                 0.200  \n",
       "1007                   11.3                   77.6                 0.188  \n",
       "1008                   11.5                   77.8                 0.166  \n",
       "1009                   11.9                   77.1                 0.176  \n",
       "1010                   13.1                   77.0                 0.200  \n",
       "\n",
       "[1011 rows x 16 columns]"
      ],
      "text/html": "<div>\n<style scoped>\n    .dataframe tbody tr th:only-of-type {\n        vertical-align: middle;\n    }\n\n    .dataframe tbody tr th {\n        vertical-align: top;\n    }\n\n    .dataframe thead th {\n        text-align: right;\n    }\n</style>\n<table border=\"1\" class=\"dataframe\">\n  <thead>\n    <tr style=\"text-align: right;\">\n      <th></th>\n      <th>Home_eFG%</th>\n      <th>Home_TOV%</th>\n      <th>Home_ORB%</th>\n      <th>Home_FTR</th>\n      <th>Home_opponent_eFG%</th>\n      <th>Home_opponent_TOV%</th>\n      <th>Home_opponent_ORB%</th>\n      <th>Home_opponent_FTR</th>\n      <th>Visitor_eFG%</th>\n      <th>Visitor_TOV%</th>\n      <th>Visitor_ORB%</th>\n      <th>Visitor_FTR</th>\n      <th>Visitor_opponent_eFG%</th>\n      <th>Visitor_opponent_TOV%</th>\n      <th>Visitor_opponent_ORB%</th>\n      <th>Visitor_opponent_FTR</th>\n    </tr>\n  </thead>\n  <tbody>\n    <tr>\n      <th>0</th>\n      <td>0.573</td>\n      <td>12.3</td>\n      <td>21.8</td>\n      <td>0.209</td>\n      <td>0.535</td>\n      <td>11.3</td>\n      <td>77.6</td>\n      <td>0.188</td>\n      <td>0.546</td>\n      <td>13.3</td>\n      <td>17.8</td>\n      <td>0.189</td>\n      <td>0.525</td>\n      <td>13.3</td>\n      <td>76.6</td>\n      <td>0.226</td>\n    </tr>\n    <tr>\n      <th>1</th>\n      <td>0.538</td>\n      <td>13.8</td>\n      <td>22.5</td>\n      <td>0.198</td>\n      <td>0.524</td>\n      <td>13.8</td>\n      <td>79.4</td>\n      <td>0.179</td>\n      <td>0.564</td>\n      <td>12.0</td>\n      <td>22.9</td>\n      <td>0.186</td>\n      <td>0.532</td>\n      <td>11.9</td>\n      <td>79.1</td>\n      <td>0.190</td>\n    </tr>\n    <tr>\n      <th>2</th>\n      <td>0.512</td>\n      <td>14.0</td>\n      <td>23.7</td>\n      <td>0.189</td>\n      <td>0.554</td>\n      <td>13.5</td>\n      <td>76.4</td>\n      <td>0.185</td>\n      <td>0.538</td>\n      <td>13.5</td>\n      <td>23.3</td>\n      <td>0.181</td>\n      <td>0.549</td>\n      <td>13.4</td>\n      <td>75.8</td>\n      <td>0.162</td>\n    </tr>\n    <tr>\n      <th>3</th>\n      <td>0.540</td>\n      <td>11.9</td>\n      <td>20.1</td>\n      <td>0.182</td>\n      <td>0.531</td>\n      <td>13.0</td>\n      <td>74.8</td>\n      <td>0.201</td>\n      <td>0.523</td>\n      <td>12.1</td>\n      <td>22.9</td>\n      <td>0.191</td>\n      <td>0.514</td>\n      <td>11.8</td>\n      <td>79.0</td>\n      <td>0.194</td>\n    </tr>\n    <tr>\n      <th>4</th>\n      <td>0.492</td>\n      <td>11.5</td>\n      <td>21.5</td>\n      <td>0.181</td>\n      <td>0.547</td>\n      <td>11.8</td>\n      <td>78.5</td>\n      <td>0.167</td>\n      <td>0.538</td>\n      <td>13.2</td>\n      <td>19.2</td>\n      <td>0.201</td>\n      <td>0.537</td>\n      <td>14.0</td>\n      <td>77.5</td>\n      <td>0.182</td>\n    </tr>\n    <tr>\n      <th>...</th>\n      <td>...</td>\n      <td>...</td>\n      <td>...</td>\n      <td>...</td>\n      <td>...</td>\n      <td>...</td>\n      <td>...</td>\n      <td>...</td>\n      <td>...</td>\n      <td>...</td>\n      <td>...</td>\n      <td>...</td>\n      <td>...</td>\n      <td>...</td>\n      <td>...</td>\n      <td>...</td>\n    </tr>\n    <tr>\n      <th>1006</th>\n      <td>0.533</td>\n      <td>12.0</td>\n      <td>20.7</td>\n      <td>0.199</td>\n      <td>0.540</td>\n      <td>14.5</td>\n      <td>76.1</td>\n      <td>0.235</td>\n      <td>0.526</td>\n      <td>11.5</td>\n      <td>23.9</td>\n      <td>0.177</td>\n      <td>0.536</td>\n      <td>13.4</td>\n      <td>78.8</td>\n      <td>0.200</td>\n    </tr>\n    <tr>\n      <th>1007</th>\n      <td>0.561</td>\n      <td>12.2</td>\n      <td>24.8</td>\n      <td>0.175</td>\n      <td>0.544</td>\n      <td>12.8</td>\n      <td>78.9</td>\n      <td>0.195</td>\n      <td>0.573</td>\n      <td>12.3</td>\n      <td>21.8</td>\n      <td>0.209</td>\n      <td>0.535</td>\n      <td>11.3</td>\n      <td>77.6</td>\n      <td>0.188</td>\n    </tr>\n    <tr>\n      <th>1008</th>\n      <td>0.546</td>\n      <td>13.3</td>\n      <td>17.8</td>\n      <td>0.189</td>\n      <td>0.525</td>\n      <td>13.3</td>\n      <td>76.6</td>\n      <td>0.226</td>\n      <td>0.511</td>\n      <td>14.5</td>\n      <td>20.8</td>\n      <td>0.176</td>\n      <td>0.544</td>\n      <td>11.5</td>\n      <td>77.8</td>\n      <td>0.166</td>\n    </tr>\n    <tr>\n      <th>1009</th>\n      <td>0.534</td>\n      <td>10.1</td>\n      <td>23.4</td>\n      <td>0.193</td>\n      <td>0.549</td>\n      <td>11.3</td>\n      <td>77.2</td>\n      <td>0.203</td>\n      <td>0.520</td>\n      <td>10.3</td>\n      <td>20.0</td>\n      <td>0.195</td>\n      <td>0.535</td>\n      <td>11.9</td>\n      <td>77.1</td>\n      <td>0.176</td>\n    </tr>\n    <tr>\n      <th>1010</th>\n      <td>0.563</td>\n      <td>12.7</td>\n      <td>24.2</td>\n      <td>0.195</td>\n      <td>0.506</td>\n      <td>10.3</td>\n      <td>79.0</td>\n      <td>0.160</td>\n      <td>0.517</td>\n      <td>13.1</td>\n      <td>19.7</td>\n      <td>0.186</td>\n      <td>0.549</td>\n      <td>13.1</td>\n      <td>77.0</td>\n      <td>0.200</td>\n    </tr>\n  </tbody>\n</table>\n<p>1011 rows × 16 columns</p>\n</div>"
     },
     "metadata": {},
     "execution_count": 138
    }
   ],
   "source": [
    "X = model_data.iloc[:, 1:]\n",
    "X"
   ]
  },
  {
   "cell_type": "code",
   "execution_count": 139,
   "metadata": {},
   "outputs": [
    {
     "output_type": "execute_result",
     "data": {
      "text/plain": [
       "     Home_eFG%  Home_TOV%  Home_ORB%  Home_FTR  Home_opponent_eFG%  \\\n",
       "193      0.573       12.3       21.8     0.209               0.535   \n",
       "444      0.533       12.1       24.5     0.228               0.531   \n",
       "384      0.562       11.8       20.9     0.172               0.529   \n",
       "387      0.546       13.3       17.8     0.189               0.525   \n",
       "953      0.564       12.0       22.9     0.186               0.532   \n",
       "..         ...        ...        ...       ...                 ...   \n",
       "320      0.492       11.5       21.5     0.181               0.547   \n",
       "527      0.540       11.9       20.1     0.182               0.531   \n",
       "996      0.538       13.5       23.3     0.181               0.549   \n",
       "125      0.517       13.1       19.7     0.186               0.549   \n",
       "265      0.538       13.5       23.3     0.181               0.549   \n",
       "\n",
       "     Home_opponent_TOV%  Home_opponent_ORB%  Home_opponent_FTR  Visitor_eFG%  \\\n",
       "193                11.3                77.6              0.188         0.565   \n",
       "444                11.2                77.5              0.193         0.561   \n",
       "384                12.5                78.7              0.191         0.540   \n",
       "387                13.3                76.6              0.226         0.573   \n",
       "953                11.9                79.1              0.190         0.561   \n",
       "..                  ...                 ...                ...           ...   \n",
       "320                11.8                78.5              0.167         0.548   \n",
       "527                13.0                74.8              0.201         0.561   \n",
       "996                13.4                75.8              0.162         0.492   \n",
       "125                13.1                77.0              0.200         0.492   \n",
       "265                13.4                75.8              0.162         0.540   \n",
       "\n",
       "     Visitor_TOV%  Visitor_ORB%  Visitor_FTR  Visitor_opponent_eFG%  \\\n",
       "193          12.2          23.3        0.173                  0.532   \n",
       "444          12.2          24.8        0.175                  0.544   \n",
       "384          13.0          23.5        0.229                  0.522   \n",
       "387          12.3          21.8        0.209                  0.535   \n",
       "953          12.2          24.8        0.175                  0.544   \n",
       "..            ...           ...          ...                    ...   \n",
       "320          13.8          22.0        0.160                  0.540   \n",
       "527          12.2          24.8        0.175                  0.544   \n",
       "996          11.5          21.5        0.181                  0.547   \n",
       "125          11.5          21.5        0.181                  0.547   \n",
       "265          11.9          20.1        0.182                  0.531   \n",
       "\n",
       "     Visitor_opponent_TOV%  Visitor_opponent_ORB%  Visitor_opponent_FTR  \n",
       "193                   11.6                   79.7                 0.157  \n",
       "444                   12.8                   78.9                 0.195  \n",
       "384                   13.9                   78.7                 0.202  \n",
       "387                   11.3                   77.6                 0.188  \n",
       "953                   12.8                   78.9                 0.195  \n",
       "..                     ...                    ...                   ...  \n",
       "320                   11.5                   80.4                 0.200  \n",
       "527                   12.8                   78.9                 0.195  \n",
       "996                   11.8                   78.5                 0.167  \n",
       "125                   11.8                   78.5                 0.167  \n",
       "265                   13.0                   74.8                 0.201  \n",
       "\n",
       "[808 rows x 16 columns]"
      ],
      "text/html": "<div>\n<style scoped>\n    .dataframe tbody tr th:only-of-type {\n        vertical-align: middle;\n    }\n\n    .dataframe tbody tr th {\n        vertical-align: top;\n    }\n\n    .dataframe thead th {\n        text-align: right;\n    }\n</style>\n<table border=\"1\" class=\"dataframe\">\n  <thead>\n    <tr style=\"text-align: right;\">\n      <th></th>\n      <th>Home_eFG%</th>\n      <th>Home_TOV%</th>\n      <th>Home_ORB%</th>\n      <th>Home_FTR</th>\n      <th>Home_opponent_eFG%</th>\n      <th>Home_opponent_TOV%</th>\n      <th>Home_opponent_ORB%</th>\n      <th>Home_opponent_FTR</th>\n      <th>Visitor_eFG%</th>\n      <th>Visitor_TOV%</th>\n      <th>Visitor_ORB%</th>\n      <th>Visitor_FTR</th>\n      <th>Visitor_opponent_eFG%</th>\n      <th>Visitor_opponent_TOV%</th>\n      <th>Visitor_opponent_ORB%</th>\n      <th>Visitor_opponent_FTR</th>\n    </tr>\n  </thead>\n  <tbody>\n    <tr>\n      <th>193</th>\n      <td>0.573</td>\n      <td>12.3</td>\n      <td>21.8</td>\n      <td>0.209</td>\n      <td>0.535</td>\n      <td>11.3</td>\n      <td>77.6</td>\n      <td>0.188</td>\n      <td>0.565</td>\n      <td>12.2</td>\n      <td>23.3</td>\n      <td>0.173</td>\n      <td>0.532</td>\n      <td>11.6</td>\n      <td>79.7</td>\n      <td>0.157</td>\n    </tr>\n    <tr>\n      <th>444</th>\n      <td>0.533</td>\n      <td>12.1</td>\n      <td>24.5</td>\n      <td>0.228</td>\n      <td>0.531</td>\n      <td>11.2</td>\n      <td>77.5</td>\n      <td>0.193</td>\n      <td>0.561</td>\n      <td>12.2</td>\n      <td>24.8</td>\n      <td>0.175</td>\n      <td>0.544</td>\n      <td>12.8</td>\n      <td>78.9</td>\n      <td>0.195</td>\n    </tr>\n    <tr>\n      <th>384</th>\n      <td>0.562</td>\n      <td>11.8</td>\n      <td>20.9</td>\n      <td>0.172</td>\n      <td>0.529</td>\n      <td>12.5</td>\n      <td>78.7</td>\n      <td>0.191</td>\n      <td>0.540</td>\n      <td>13.0</td>\n      <td>23.5</td>\n      <td>0.229</td>\n      <td>0.522</td>\n      <td>13.9</td>\n      <td>78.7</td>\n      <td>0.202</td>\n    </tr>\n    <tr>\n      <th>387</th>\n      <td>0.546</td>\n      <td>13.3</td>\n      <td>17.8</td>\n      <td>0.189</td>\n      <td>0.525</td>\n      <td>13.3</td>\n      <td>76.6</td>\n      <td>0.226</td>\n      <td>0.573</td>\n      <td>12.3</td>\n      <td>21.8</td>\n      <td>0.209</td>\n      <td>0.535</td>\n      <td>11.3</td>\n      <td>77.6</td>\n      <td>0.188</td>\n    </tr>\n    <tr>\n      <th>953</th>\n      <td>0.564</td>\n      <td>12.0</td>\n      <td>22.9</td>\n      <td>0.186</td>\n      <td>0.532</td>\n      <td>11.9</td>\n      <td>79.1</td>\n      <td>0.190</td>\n      <td>0.561</td>\n      <td>12.2</td>\n      <td>24.8</td>\n      <td>0.175</td>\n      <td>0.544</td>\n      <td>12.8</td>\n      <td>78.9</td>\n      <td>0.195</td>\n    </tr>\n    <tr>\n      <th>...</th>\n      <td>...</td>\n      <td>...</td>\n      <td>...</td>\n      <td>...</td>\n      <td>...</td>\n      <td>...</td>\n      <td>...</td>\n      <td>...</td>\n      <td>...</td>\n      <td>...</td>\n      <td>...</td>\n      <td>...</td>\n      <td>...</td>\n      <td>...</td>\n      <td>...</td>\n      <td>...</td>\n    </tr>\n    <tr>\n      <th>320</th>\n      <td>0.492</td>\n      <td>11.5</td>\n      <td>21.5</td>\n      <td>0.181</td>\n      <td>0.547</td>\n      <td>11.8</td>\n      <td>78.5</td>\n      <td>0.167</td>\n      <td>0.548</td>\n      <td>13.8</td>\n      <td>22.0</td>\n      <td>0.160</td>\n      <td>0.540</td>\n      <td>11.5</td>\n      <td>80.4</td>\n      <td>0.200</td>\n    </tr>\n    <tr>\n      <th>527</th>\n      <td>0.540</td>\n      <td>11.9</td>\n      <td>20.1</td>\n      <td>0.182</td>\n      <td>0.531</td>\n      <td>13.0</td>\n      <td>74.8</td>\n      <td>0.201</td>\n      <td>0.561</td>\n      <td>12.2</td>\n      <td>24.8</td>\n      <td>0.175</td>\n      <td>0.544</td>\n      <td>12.8</td>\n      <td>78.9</td>\n      <td>0.195</td>\n    </tr>\n    <tr>\n      <th>996</th>\n      <td>0.538</td>\n      <td>13.5</td>\n      <td>23.3</td>\n      <td>0.181</td>\n      <td>0.549</td>\n      <td>13.4</td>\n      <td>75.8</td>\n      <td>0.162</td>\n      <td>0.492</td>\n      <td>11.5</td>\n      <td>21.5</td>\n      <td>0.181</td>\n      <td>0.547</td>\n      <td>11.8</td>\n      <td>78.5</td>\n      <td>0.167</td>\n    </tr>\n    <tr>\n      <th>125</th>\n      <td>0.517</td>\n      <td>13.1</td>\n      <td>19.7</td>\n      <td>0.186</td>\n      <td>0.549</td>\n      <td>13.1</td>\n      <td>77.0</td>\n      <td>0.200</td>\n      <td>0.492</td>\n      <td>11.5</td>\n      <td>21.5</td>\n      <td>0.181</td>\n      <td>0.547</td>\n      <td>11.8</td>\n      <td>78.5</td>\n      <td>0.167</td>\n    </tr>\n    <tr>\n      <th>265</th>\n      <td>0.538</td>\n      <td>13.5</td>\n      <td>23.3</td>\n      <td>0.181</td>\n      <td>0.549</td>\n      <td>13.4</td>\n      <td>75.8</td>\n      <td>0.162</td>\n      <td>0.540</td>\n      <td>11.9</td>\n      <td>20.1</td>\n      <td>0.182</td>\n      <td>0.531</td>\n      <td>13.0</td>\n      <td>74.8</td>\n      <td>0.201</td>\n    </tr>\n  </tbody>\n</table>\n<p>808 rows × 16 columns</p>\n</div>"
     },
     "metadata": {},
     "execution_count": 139
    }
   ],
   "source": [
    "from sklearn.model_selection import train_test_split\n",
    "\n",
    "X_train, X_test, y_train, y_test = train_test_split(X, y, test_size=0.2, random_state=10)\n",
    "X_train"
   ]
  },
  {
   "cell_type": "code",
   "execution_count": 140,
   "metadata": {},
   "outputs": [
    {
     "output_type": "execute_result",
     "data": {
      "text/plain": [
       "array([[ 1.8493866 , -0.15522351, -0.20284637, ..., -0.85745323,\n",
       "         1.39432032, -1.93534385],\n",
       "       [-0.2780399 , -0.3555759 ,  1.20067296, ...,  0.33518291,\n",
       "         0.82032424,  0.13903992],\n",
       "       [ 1.26434431, -0.65610448, -0.67068615, ...,  1.4284327 ,\n",
       "         0.67682521,  0.52116325],\n",
       "       ...,\n",
       "       [-0.01211159,  1.04689083,  0.57688659, ..., -0.65868054,\n",
       "         0.53332619, -1.38945339],\n",
       "       [-1.1290105 ,  0.64618605, -1.29447252, ..., -0.65868054,\n",
       "         0.53332619, -1.38945339],\n",
       "       [-0.01211159,  1.04689083,  0.57688659, ...,  0.5339556 ,\n",
       "        -2.12140571,  0.4665742 ]])"
      ]
     },
     "metadata": {},
     "execution_count": 140
    }
   ],
   "source": [
    "from sklearn.preprocessing import StandardScaler\n",
    "\n",
    "scaler = StandardScaler()\n",
    "scaled_X_train = scaler.fit_transform(X_train)\n",
    "scaled_X_train"
   ]
  },
  {
   "cell_type": "code",
   "execution_count": 141,
   "metadata": {},
   "outputs": [
    {
     "output_type": "execute_result",
     "data": {
      "text/plain": [
       "array([[-0.01211159,  1.04689083,  0.57688659, ...,  0.5339556 ,\n",
       "        -2.12140571,  0.4665742 ],\n",
       "       [-0.01211159,  1.34741941,  0.16102901, ..., -0.5592942 ,\n",
       "        -2.12140571,  0.24821802],\n",
       "       [-0.43759689,  0.14530507, -0.56672175, ...,  1.4284327 ,\n",
       "         0.67682521,  0.52116325],\n",
       "       ...,\n",
       "       [-0.01211159,  1.04689083,  0.57688659, ..., -0.95683958,\n",
       "         1.8965669 ,  0.41198516],\n",
       "       [-0.43759689,  0.14530507, -0.56672175, ..., -0.65868054,\n",
       "         0.53332619, -1.38945339],\n",
       "       [-0.01211159,  1.34741941,  0.16102901, ...,  0.33518291,\n",
       "         0.82032424,  0.13903992]])"
      ]
     },
     "metadata": {},
     "execution_count": 141
    }
   ],
   "source": [
    "scaled_X_test = scaler.transform(X_test)\n",
    "scaled_X_test"
   ]
  },
  {
   "cell_type": "code",
   "execution_count": 142,
   "metadata": {},
   "outputs": [
    {
     "output_type": "execute_result",
     "data": {
      "text/plain": [
       "array(['Home', 'Home', 'Home', 'Home', 'Visitor', 'Home', 'Visitor',\n",
       "       'Home', 'Home', 'Visitor', 'Home', 'Home', 'Visitor', 'Home',\n",
       "       'Home', 'Visitor', 'Home', 'Visitor', 'Home', 'Home', 'Home',\n",
       "       'Home', 'Visitor', 'Home', 'Visitor', 'Visitor', 'Home', 'Home',\n",
       "       'Home', 'Visitor', 'Visitor', 'Home', 'Home', 'Home', 'Home',\n",
       "       'Visitor', 'Home', 'Visitor', 'Home', 'Visitor', 'Home', 'Home',\n",
       "       'Home', 'Visitor', 'Home', 'Visitor', 'Home', 'Visitor', 'Visitor',\n",
       "       'Home', 'Home', 'Home', 'Home', 'Home', 'Visitor', 'Visitor',\n",
       "       'Visitor', 'Visitor', 'Home', 'Visitor', 'Visitor', 'Home', 'Home',\n",
       "       'Visitor', 'Home', 'Home', 'Visitor', 'Home', 'Visitor', 'Home',\n",
       "       'Home', 'Visitor', 'Home', 'Home', 'Home', 'Visitor', 'Visitor',\n",
       "       'Home', 'Visitor', 'Visitor', 'Visitor', 'Visitor', 'Visitor',\n",
       "       'Home', 'Home', 'Home', 'Visitor', 'Home', 'Visitor', 'Visitor',\n",
       "       'Visitor', 'Visitor', 'Visitor', 'Visitor', 'Visitor', 'Home',\n",
       "       'Visitor', 'Visitor', 'Home', 'Home', 'Visitor', 'Visitor', 'Home',\n",
       "       'Visitor', 'Visitor', 'Home', 'Visitor', 'Home', 'Home', 'Home',\n",
       "       'Home', 'Visitor', 'Home', 'Visitor', 'Home', 'Home', 'Visitor',\n",
       "       'Home', 'Home', 'Home', 'Home', 'Visitor', 'Visitor', 'Home',\n",
       "       'Home', 'Visitor', 'Visitor', 'Visitor', 'Home', 'Visitor', 'Home',\n",
       "       'Home', 'Visitor', 'Home', 'Home', 'Visitor', 'Visitor', 'Home',\n",
       "       'Home', 'Home', 'Home', 'Visitor', 'Home', 'Visitor', 'Visitor',\n",
       "       'Home', 'Home', 'Visitor', 'Visitor', 'Home', 'Visitor', 'Visitor',\n",
       "       'Home', 'Home', 'Visitor', 'Home', 'Visitor', 'Visitor', 'Home',\n",
       "       'Home', 'Home', 'Home', 'Home', 'Home', 'Home', 'Visitor', 'Home',\n",
       "       'Home', 'Home', 'Home', 'Visitor', 'Home', 'Home', 'Home',\n",
       "       'Visitor', 'Visitor', 'Visitor', 'Visitor', 'Visitor', 'Home',\n",
       "       'Home', 'Visitor', 'Home', 'Home', 'Home', 'Home', 'Visitor',\n",
       "       'Visitor', 'Home', 'Home', 'Home', 'Visitor', 'Home', 'Visitor',\n",
       "       'Visitor', 'Visitor', 'Home', 'Home', 'Home', 'Visitor', 'Home',\n",
       "       'Home', 'Home'], dtype=object)"
      ]
     },
     "metadata": {},
     "execution_count": 142
    }
   ],
   "source": [
    "from sklearn.svm import SVC\n",
    "\n",
    "svc_clf = SVC()\n",
    "svc_clf.fit(scaled_X_train, y_train)\n",
    "svc_clf_predictions = svc_clf.predict(scaled_X_test)\n",
    "svc_clf_predictions"
   ]
  },
  {
   "cell_type": "code",
   "execution_count": 143,
   "metadata": {},
   "outputs": [],
   "source": [
    "def svc_prediction(data):\n",
    "    y1 = data[\"Home/Away Winner\"]\n",
    "    X1 = data.iloc[:, 1:]\n",
    "\n",
    "    X1_train, X1_test, y1_train, y1_test = train_test_split(X1, y1, test_size=0.2, random_state=10)\n",
    "\n",
    "    scaler = StandardScaler()\n",
    "    scaled_X1_train = scaler.fit_transform(X1_train)    \n",
    "    scaled_X1_test = scaler.transform(X1_test)\n",
    "\n",
    "    svc_clf1 = SVC()\n",
    "    svc_clf1.fit(scaled_X1_train, y1_train)\n",
    "    svc_clf1_predictions = svc_clf1.predict(scaled_X1_test)\n",
    "\n",
    "    return accuracy_score(y1_test, svc_clf1_predictions)"
   ]
  },
  {
   "cell_type": "code",
   "execution_count": 165,
   "metadata": {},
   "outputs": [
    {
     "output_type": "execute_result",
     "data": {
      "text/plain": [
       "array([[73, 27],\n",
       "       [43, 60]])"
      ]
     },
     "metadata": {},
     "execution_count": 165
    }
   ],
   "source": [
    "from sklearn.metrics import confusion_matrix, accuracy_score, precision_score, recall_score, classification_report\n",
    "\n",
    "confusion_matrix(y_test, svc_clf_predictions)"
   ]
  },
  {
   "cell_type": "code",
   "execution_count": 145,
   "metadata": {},
   "outputs": [
    {
     "output_type": "execute_result",
     "data": {
      "text/plain": [
       "0.6551724137931034"
      ]
     },
     "metadata": {},
     "execution_count": 145
    }
   ],
   "source": [
    "accuracy_score(y_test, svc_clf_predictions)"
   ]
  },
  {
   "cell_type": "code",
   "execution_count": 146,
   "metadata": {},
   "outputs": [],
   "source": [
    "def algo_accuracy(y_test, predictions):\n",
    "    conf_matrix = confusion_matrix(y_test, predictions)\n",
    "    accuracy = accuracy_score(y_test, predictions)\n",
    "    precision = precision_score(y_test, predictions, pos_label=\"Home\")\n",
    "    recall = recall_score(y_test, predictions, pos_label=\"Home\")\n",
    "\n",
    "    return conf_matrix, accuracy, precision, recall"
   ]
  },
  {
   "cell_type": "code",
   "execution_count": 147,
   "metadata": {},
   "outputs": [],
   "source": [
    "model_data2 = model_data"
   ]
  },
  {
   "cell_type": "code",
   "execution_count": 148,
   "metadata": {},
   "outputs": [
    {
     "output_type": "execute_result",
     "data": {
      "text/plain": [
       "     Home/Away Winner  Home_eFG%  Home_TOV%  Home_ORB%  Home_FTR  \\\n",
       "0                Home      0.573       12.3       21.8     0.209   \n",
       "1             Visitor      0.538       13.8       22.5     0.198   \n",
       "2                Home      0.512       14.0       23.7     0.189   \n",
       "3                Home      0.540       11.9       20.1     0.182   \n",
       "4                Home      0.492       11.5       21.5     0.181   \n",
       "...               ...        ...        ...        ...       ...   \n",
       "1006          Visitor      0.533       12.0       20.7     0.199   \n",
       "1007          Visitor      0.561       12.2       24.8     0.175   \n",
       "1008             Home      0.546       13.3       17.8     0.189   \n",
       "1009             Home      0.534       10.1       23.4     0.193   \n",
       "1010             Home      0.563       12.7       24.2     0.195   \n",
       "\n",
       "      Home_opponent_eFG%  Home_opponent_TOV%  Home_opponent_ORB%  \\\n",
       "0                  0.535                11.3                77.6   \n",
       "1                  0.524                13.8                79.4   \n",
       "2                  0.554                13.5                76.4   \n",
       "3                  0.531                13.0                74.8   \n",
       "4                  0.547                11.8                78.5   \n",
       "...                  ...                 ...                 ...   \n",
       "1006               0.540                14.5                76.1   \n",
       "1007               0.544                12.8                78.9   \n",
       "1008               0.525                13.3                76.6   \n",
       "1009               0.549                11.3                77.2   \n",
       "1010               0.506                10.3                79.0   \n",
       "\n",
       "      Home_opponent_FTR  Visitor_eFG%  ...  Visitor_opponent_ORB%  \\\n",
       "0                 0.188         0.546  ...                   76.6   \n",
       "1                 0.179         0.564  ...                   79.1   \n",
       "2                 0.185         0.538  ...                   75.8   \n",
       "3                 0.201         0.523  ...                   79.0   \n",
       "4                 0.167         0.538  ...                   77.5   \n",
       "...                 ...           ...  ...                    ...   \n",
       "1006              0.235         0.526  ...                   78.8   \n",
       "1007              0.195         0.573  ...                   77.6   \n",
       "1008              0.226         0.511  ...                   77.8   \n",
       "1009              0.203         0.520  ...                   77.1   \n",
       "1010              0.160         0.517  ...                   77.0   \n",
       "\n",
       "      Visitor_opponent_FTR  home_away_eFG%_ratio  home_away_TOV%_ratio  \\\n",
       "0                    0.226              1.049451              0.924812   \n",
       "1                    0.190              0.953901              1.150000   \n",
       "2                    0.162              0.951673              1.037037   \n",
       "3                    0.194              1.032505              0.983471   \n",
       "4                    0.182              0.914498              0.871212   \n",
       "...                    ...                   ...                   ...   \n",
       "1006                 0.200              1.013308              1.043478   \n",
       "1007                 0.188              0.979058              0.991870   \n",
       "1008                 0.166              1.068493              0.917241   \n",
       "1009                 0.176              1.026923              0.980583   \n",
       "1010                 0.200              1.088975              0.969466   \n",
       "\n",
       "      home_away_ORB%_ratio  home_away_FTR_ratio  \\\n",
       "0                 1.224719             1.105820   \n",
       "1                 0.982533             1.064516   \n",
       "2                 1.017167             1.044199   \n",
       "3                 0.877729             0.952880   \n",
       "4                 1.119792             0.900498   \n",
       "...                    ...                  ...   \n",
       "1006              0.866109             1.124294   \n",
       "1007              1.137615             0.837321   \n",
       "1008              0.855769             1.073864   \n",
       "1009              1.170000             0.989744   \n",
       "1010              1.228426             1.048387   \n",
       "\n",
       "      home_away_opponent_eFG%_ratio  home_away_opponent_TOV%_ratio  \\\n",
       "0                          1.019048                       0.849624   \n",
       "1                          0.984962                       1.159664   \n",
       "2                          1.009107                       1.007463   \n",
       "3                          1.033074                       1.101695   \n",
       "4                          1.018622                       0.842857   \n",
       "...                             ...                            ...   \n",
       "1006                       1.007463                       1.082090   \n",
       "1007                       1.016822                       1.132743   \n",
       "1008                       0.965074                       1.156522   \n",
       "1009                       1.026168                       0.949580   \n",
       "1010                       0.921676                       0.786260   \n",
       "\n",
       "      home_away_opponent_ORB%_ratio  home_away_opponent_FTR_ratio  \n",
       "0                          1.013055                      0.831858  \n",
       "1                          1.003793                      0.942105  \n",
       "2                          1.007916                      1.141975  \n",
       "3                          0.946835                      1.036082  \n",
       "4                          1.012903                      0.917582  \n",
       "...                             ...                           ...  \n",
       "1006                       0.965736                      1.175000  \n",
       "1007                       1.016753                      1.037234  \n",
       "1008                       0.984576                      1.361446  \n",
       "1009                       1.001297                      1.153409  \n",
       "1010                       1.025974                      0.800000  \n",
       "\n",
       "[1011 rows x 25 columns]"
      ],
      "text/html": "<div>\n<style scoped>\n    .dataframe tbody tr th:only-of-type {\n        vertical-align: middle;\n    }\n\n    .dataframe tbody tr th {\n        vertical-align: top;\n    }\n\n    .dataframe thead th {\n        text-align: right;\n    }\n</style>\n<table border=\"1\" class=\"dataframe\">\n  <thead>\n    <tr style=\"text-align: right;\">\n      <th></th>\n      <th>Home/Away Winner</th>\n      <th>Home_eFG%</th>\n      <th>Home_TOV%</th>\n      <th>Home_ORB%</th>\n      <th>Home_FTR</th>\n      <th>Home_opponent_eFG%</th>\n      <th>Home_opponent_TOV%</th>\n      <th>Home_opponent_ORB%</th>\n      <th>Home_opponent_FTR</th>\n      <th>Visitor_eFG%</th>\n      <th>...</th>\n      <th>Visitor_opponent_ORB%</th>\n      <th>Visitor_opponent_FTR</th>\n      <th>home_away_eFG%_ratio</th>\n      <th>home_away_TOV%_ratio</th>\n      <th>home_away_ORB%_ratio</th>\n      <th>home_away_FTR_ratio</th>\n      <th>home_away_opponent_eFG%_ratio</th>\n      <th>home_away_opponent_TOV%_ratio</th>\n      <th>home_away_opponent_ORB%_ratio</th>\n      <th>home_away_opponent_FTR_ratio</th>\n    </tr>\n  </thead>\n  <tbody>\n    <tr>\n      <th>0</th>\n      <td>Home</td>\n      <td>0.573</td>\n      <td>12.3</td>\n      <td>21.8</td>\n      <td>0.209</td>\n      <td>0.535</td>\n      <td>11.3</td>\n      <td>77.6</td>\n      <td>0.188</td>\n      <td>0.546</td>\n      <td>...</td>\n      <td>76.6</td>\n      <td>0.226</td>\n      <td>1.049451</td>\n      <td>0.924812</td>\n      <td>1.224719</td>\n      <td>1.105820</td>\n      <td>1.019048</td>\n      <td>0.849624</td>\n      <td>1.013055</td>\n      <td>0.831858</td>\n    </tr>\n    <tr>\n      <th>1</th>\n      <td>Visitor</td>\n      <td>0.538</td>\n      <td>13.8</td>\n      <td>22.5</td>\n      <td>0.198</td>\n      <td>0.524</td>\n      <td>13.8</td>\n      <td>79.4</td>\n      <td>0.179</td>\n      <td>0.564</td>\n      <td>...</td>\n      <td>79.1</td>\n      <td>0.190</td>\n      <td>0.953901</td>\n      <td>1.150000</td>\n      <td>0.982533</td>\n      <td>1.064516</td>\n      <td>0.984962</td>\n      <td>1.159664</td>\n      <td>1.003793</td>\n      <td>0.942105</td>\n    </tr>\n    <tr>\n      <th>2</th>\n      <td>Home</td>\n      <td>0.512</td>\n      <td>14.0</td>\n      <td>23.7</td>\n      <td>0.189</td>\n      <td>0.554</td>\n      <td>13.5</td>\n      <td>76.4</td>\n      <td>0.185</td>\n      <td>0.538</td>\n      <td>...</td>\n      <td>75.8</td>\n      <td>0.162</td>\n      <td>0.951673</td>\n      <td>1.037037</td>\n      <td>1.017167</td>\n      <td>1.044199</td>\n      <td>1.009107</td>\n      <td>1.007463</td>\n      <td>1.007916</td>\n      <td>1.141975</td>\n    </tr>\n    <tr>\n      <th>3</th>\n      <td>Home</td>\n      <td>0.540</td>\n      <td>11.9</td>\n      <td>20.1</td>\n      <td>0.182</td>\n      <td>0.531</td>\n      <td>13.0</td>\n      <td>74.8</td>\n      <td>0.201</td>\n      <td>0.523</td>\n      <td>...</td>\n      <td>79.0</td>\n      <td>0.194</td>\n      <td>1.032505</td>\n      <td>0.983471</td>\n      <td>0.877729</td>\n      <td>0.952880</td>\n      <td>1.033074</td>\n      <td>1.101695</td>\n      <td>0.946835</td>\n      <td>1.036082</td>\n    </tr>\n    <tr>\n      <th>4</th>\n      <td>Home</td>\n      <td>0.492</td>\n      <td>11.5</td>\n      <td>21.5</td>\n      <td>0.181</td>\n      <td>0.547</td>\n      <td>11.8</td>\n      <td>78.5</td>\n      <td>0.167</td>\n      <td>0.538</td>\n      <td>...</td>\n      <td>77.5</td>\n      <td>0.182</td>\n      <td>0.914498</td>\n      <td>0.871212</td>\n      <td>1.119792</td>\n      <td>0.900498</td>\n      <td>1.018622</td>\n      <td>0.842857</td>\n      <td>1.012903</td>\n      <td>0.917582</td>\n    </tr>\n    <tr>\n      <th>...</th>\n      <td>...</td>\n      <td>...</td>\n      <td>...</td>\n      <td>...</td>\n      <td>...</td>\n      <td>...</td>\n      <td>...</td>\n      <td>...</td>\n      <td>...</td>\n      <td>...</td>\n      <td>...</td>\n      <td>...</td>\n      <td>...</td>\n      <td>...</td>\n      <td>...</td>\n      <td>...</td>\n      <td>...</td>\n      <td>...</td>\n      <td>...</td>\n      <td>...</td>\n      <td>...</td>\n    </tr>\n    <tr>\n      <th>1006</th>\n      <td>Visitor</td>\n      <td>0.533</td>\n      <td>12.0</td>\n      <td>20.7</td>\n      <td>0.199</td>\n      <td>0.540</td>\n      <td>14.5</td>\n      <td>76.1</td>\n      <td>0.235</td>\n      <td>0.526</td>\n      <td>...</td>\n      <td>78.8</td>\n      <td>0.200</td>\n      <td>1.013308</td>\n      <td>1.043478</td>\n      <td>0.866109</td>\n      <td>1.124294</td>\n      <td>1.007463</td>\n      <td>1.082090</td>\n      <td>0.965736</td>\n      <td>1.175000</td>\n    </tr>\n    <tr>\n      <th>1007</th>\n      <td>Visitor</td>\n      <td>0.561</td>\n      <td>12.2</td>\n      <td>24.8</td>\n      <td>0.175</td>\n      <td>0.544</td>\n      <td>12.8</td>\n      <td>78.9</td>\n      <td>0.195</td>\n      <td>0.573</td>\n      <td>...</td>\n      <td>77.6</td>\n      <td>0.188</td>\n      <td>0.979058</td>\n      <td>0.991870</td>\n      <td>1.137615</td>\n      <td>0.837321</td>\n      <td>1.016822</td>\n      <td>1.132743</td>\n      <td>1.016753</td>\n      <td>1.037234</td>\n    </tr>\n    <tr>\n      <th>1008</th>\n      <td>Home</td>\n      <td>0.546</td>\n      <td>13.3</td>\n      <td>17.8</td>\n      <td>0.189</td>\n      <td>0.525</td>\n      <td>13.3</td>\n      <td>76.6</td>\n      <td>0.226</td>\n      <td>0.511</td>\n      <td>...</td>\n      <td>77.8</td>\n      <td>0.166</td>\n      <td>1.068493</td>\n      <td>0.917241</td>\n      <td>0.855769</td>\n      <td>1.073864</td>\n      <td>0.965074</td>\n      <td>1.156522</td>\n      <td>0.984576</td>\n      <td>1.361446</td>\n    </tr>\n    <tr>\n      <th>1009</th>\n      <td>Home</td>\n      <td>0.534</td>\n      <td>10.1</td>\n      <td>23.4</td>\n      <td>0.193</td>\n      <td>0.549</td>\n      <td>11.3</td>\n      <td>77.2</td>\n      <td>0.203</td>\n      <td>0.520</td>\n      <td>...</td>\n      <td>77.1</td>\n      <td>0.176</td>\n      <td>1.026923</td>\n      <td>0.980583</td>\n      <td>1.170000</td>\n      <td>0.989744</td>\n      <td>1.026168</td>\n      <td>0.949580</td>\n      <td>1.001297</td>\n      <td>1.153409</td>\n    </tr>\n    <tr>\n      <th>1010</th>\n      <td>Home</td>\n      <td>0.563</td>\n      <td>12.7</td>\n      <td>24.2</td>\n      <td>0.195</td>\n      <td>0.506</td>\n      <td>10.3</td>\n      <td>79.0</td>\n      <td>0.160</td>\n      <td>0.517</td>\n      <td>...</td>\n      <td>77.0</td>\n      <td>0.200</td>\n      <td>1.088975</td>\n      <td>0.969466</td>\n      <td>1.228426</td>\n      <td>1.048387</td>\n      <td>0.921676</td>\n      <td>0.786260</td>\n      <td>1.025974</td>\n      <td>0.800000</td>\n    </tr>\n  </tbody>\n</table>\n<p>1011 rows × 25 columns</p>\n</div>"
     },
     "metadata": {},
     "execution_count": 148
    }
   ],
   "source": [
    "model_data2[\"home_away_eFG%_ratio\"] = model_data2[\"Home_eFG%\"] / model_data2[\"Visitor_eFG%\"]\n",
    "model_data2[\"home_away_TOV%_ratio\"] = model_data2[\"Home_TOV%\"] / model_data2[\"Visitor_TOV%\"]\n",
    "model_data2[\"home_away_ORB%_ratio\"] = model_data2[\"Home_ORB%\"] / model_data2[\"Visitor_ORB%\"]\n",
    "model_data2[\"home_away_FTR_ratio\"] = model_data2[\"Home_FTR\"] / model_data2[\"Visitor_FTR\"]\n",
    "model_data2[\"home_away_opponent_eFG%_ratio\"] = model_data2[\"Home_opponent_eFG%\"] / model_data2[\"Visitor_opponent_eFG%\"]\n",
    "model_data2[\"home_away_opponent_TOV%_ratio\"] = model_data2[\"Home_opponent_TOV%\"] / model_data2[\"Visitor_opponent_TOV%\"]\n",
    "model_data2[\"home_away_opponent_ORB%_ratio\"] = model_data2[\"Home_opponent_ORB%\"] / model_data2[\"Visitor_opponent_ORB%\"]\n",
    "model_data2[\"home_away_opponent_FTR_ratio\"] = model_data2[\"Home_opponent_FTR\"] / model_data2[\"Visitor_opponent_FTR\"]\n",
    "\n",
    "model_data2"
   ]
  },
  {
   "cell_type": "code",
   "execution_count": 149,
   "metadata": {},
   "outputs": [
    {
     "output_type": "execute_result",
     "data": {
      "text/plain": [
       "Index(['Home/Away Winner', 'Home_eFG%', 'Home_TOV%', 'Home_ORB%', 'Home_FTR',\n",
       "       'Home_opponent_eFG%', 'Home_opponent_TOV%', 'Home_opponent_ORB%',\n",
       "       'Home_opponent_FTR', 'Visitor_eFG%', 'Visitor_TOV%', 'Visitor_ORB%',\n",
       "       'Visitor_FTR', 'Visitor_opponent_eFG%', 'Visitor_opponent_TOV%',\n",
       "       'Visitor_opponent_ORB%', 'Visitor_opponent_FTR', 'home_away_eFG%_ratio',\n",
       "       'home_away_TOV%_ratio', 'home_away_ORB%_ratio', 'home_away_FTR_ratio',\n",
       "       'home_away_opponent_eFG%_ratio', 'home_away_opponent_TOV%_ratio',\n",
       "       'home_away_opponent_ORB%_ratio', 'home_away_opponent_FTR_ratio'],\n",
       "      dtype='object')"
      ]
     },
     "metadata": {},
     "execution_count": 149
    }
   ],
   "source": [
    "model_data2.columns"
   ]
  },
  {
   "source": [
    "model_data2.drop(columns=['Home_eFG%', 'Home_TOV%', 'Home_ORB%', 'Home_FTR',\n",
    "       'Home_opponent_eFG%', 'Home_opponent_TOV%', 'Home_opponent_ORB%',\n",
    "       'Home_opponent_FTR', 'Visitor_eFG%', 'Visitor_TOV%', 'Visitor_ORB%',\n",
    "       'Visitor_FTR', 'Visitor_opponent_eFG%', 'Visitor_opponent_TOV%',\n",
    "       'Visitor_opponent_ORB%', 'Visitor_opponent_FTR'], inplace=True)"
   ],
   "cell_type": "code",
   "metadata": {},
   "execution_count": 150,
   "outputs": []
  },
  {
   "cell_type": "code",
   "execution_count": 151,
   "metadata": {},
   "outputs": [
    {
     "output_type": "execute_result",
     "data": {
      "text/plain": [
       "     Home/Away Winner  home_away_eFG%_ratio  home_away_TOV%_ratio  \\\n",
       "0                Home              1.049451              0.924812   \n",
       "1             Visitor              0.953901              1.150000   \n",
       "2                Home              0.951673              1.037037   \n",
       "3                Home              1.032505              0.983471   \n",
       "4                Home              0.914498              0.871212   \n",
       "...               ...                   ...                   ...   \n",
       "1006          Visitor              1.013308              1.043478   \n",
       "1007          Visitor              0.979058              0.991870   \n",
       "1008             Home              1.068493              0.917241   \n",
       "1009             Home              1.026923              0.980583   \n",
       "1010             Home              1.088975              0.969466   \n",
       "\n",
       "      home_away_ORB%_ratio  home_away_FTR_ratio  \\\n",
       "0                 1.224719             1.105820   \n",
       "1                 0.982533             1.064516   \n",
       "2                 1.017167             1.044199   \n",
       "3                 0.877729             0.952880   \n",
       "4                 1.119792             0.900498   \n",
       "...                    ...                  ...   \n",
       "1006              0.866109             1.124294   \n",
       "1007              1.137615             0.837321   \n",
       "1008              0.855769             1.073864   \n",
       "1009              1.170000             0.989744   \n",
       "1010              1.228426             1.048387   \n",
       "\n",
       "      home_away_opponent_eFG%_ratio  home_away_opponent_TOV%_ratio  \\\n",
       "0                          1.019048                       0.849624   \n",
       "1                          0.984962                       1.159664   \n",
       "2                          1.009107                       1.007463   \n",
       "3                          1.033074                       1.101695   \n",
       "4                          1.018622                       0.842857   \n",
       "...                             ...                            ...   \n",
       "1006                       1.007463                       1.082090   \n",
       "1007                       1.016822                       1.132743   \n",
       "1008                       0.965074                       1.156522   \n",
       "1009                       1.026168                       0.949580   \n",
       "1010                       0.921676                       0.786260   \n",
       "\n",
       "      home_away_opponent_ORB%_ratio  home_away_opponent_FTR_ratio  \n",
       "0                          1.013055                      0.831858  \n",
       "1                          1.003793                      0.942105  \n",
       "2                          1.007916                      1.141975  \n",
       "3                          0.946835                      1.036082  \n",
       "4                          1.012903                      0.917582  \n",
       "...                             ...                           ...  \n",
       "1006                       0.965736                      1.175000  \n",
       "1007                       1.016753                      1.037234  \n",
       "1008                       0.984576                      1.361446  \n",
       "1009                       1.001297                      1.153409  \n",
       "1010                       1.025974                      0.800000  \n",
       "\n",
       "[1011 rows x 9 columns]"
      ],
      "text/html": "<div>\n<style scoped>\n    .dataframe tbody tr th:only-of-type {\n        vertical-align: middle;\n    }\n\n    .dataframe tbody tr th {\n        vertical-align: top;\n    }\n\n    .dataframe thead th {\n        text-align: right;\n    }\n</style>\n<table border=\"1\" class=\"dataframe\">\n  <thead>\n    <tr style=\"text-align: right;\">\n      <th></th>\n      <th>Home/Away Winner</th>\n      <th>home_away_eFG%_ratio</th>\n      <th>home_away_TOV%_ratio</th>\n      <th>home_away_ORB%_ratio</th>\n      <th>home_away_FTR_ratio</th>\n      <th>home_away_opponent_eFG%_ratio</th>\n      <th>home_away_opponent_TOV%_ratio</th>\n      <th>home_away_opponent_ORB%_ratio</th>\n      <th>home_away_opponent_FTR_ratio</th>\n    </tr>\n  </thead>\n  <tbody>\n    <tr>\n      <th>0</th>\n      <td>Home</td>\n      <td>1.049451</td>\n      <td>0.924812</td>\n      <td>1.224719</td>\n      <td>1.105820</td>\n      <td>1.019048</td>\n      <td>0.849624</td>\n      <td>1.013055</td>\n      <td>0.831858</td>\n    </tr>\n    <tr>\n      <th>1</th>\n      <td>Visitor</td>\n      <td>0.953901</td>\n      <td>1.150000</td>\n      <td>0.982533</td>\n      <td>1.064516</td>\n      <td>0.984962</td>\n      <td>1.159664</td>\n      <td>1.003793</td>\n      <td>0.942105</td>\n    </tr>\n    <tr>\n      <th>2</th>\n      <td>Home</td>\n      <td>0.951673</td>\n      <td>1.037037</td>\n      <td>1.017167</td>\n      <td>1.044199</td>\n      <td>1.009107</td>\n      <td>1.007463</td>\n      <td>1.007916</td>\n      <td>1.141975</td>\n    </tr>\n    <tr>\n      <th>3</th>\n      <td>Home</td>\n      <td>1.032505</td>\n      <td>0.983471</td>\n      <td>0.877729</td>\n      <td>0.952880</td>\n      <td>1.033074</td>\n      <td>1.101695</td>\n      <td>0.946835</td>\n      <td>1.036082</td>\n    </tr>\n    <tr>\n      <th>4</th>\n      <td>Home</td>\n      <td>0.914498</td>\n      <td>0.871212</td>\n      <td>1.119792</td>\n      <td>0.900498</td>\n      <td>1.018622</td>\n      <td>0.842857</td>\n      <td>1.012903</td>\n      <td>0.917582</td>\n    </tr>\n    <tr>\n      <th>...</th>\n      <td>...</td>\n      <td>...</td>\n      <td>...</td>\n      <td>...</td>\n      <td>...</td>\n      <td>...</td>\n      <td>...</td>\n      <td>...</td>\n      <td>...</td>\n    </tr>\n    <tr>\n      <th>1006</th>\n      <td>Visitor</td>\n      <td>1.013308</td>\n      <td>1.043478</td>\n      <td>0.866109</td>\n      <td>1.124294</td>\n      <td>1.007463</td>\n      <td>1.082090</td>\n      <td>0.965736</td>\n      <td>1.175000</td>\n    </tr>\n    <tr>\n      <th>1007</th>\n      <td>Visitor</td>\n      <td>0.979058</td>\n      <td>0.991870</td>\n      <td>1.137615</td>\n      <td>0.837321</td>\n      <td>1.016822</td>\n      <td>1.132743</td>\n      <td>1.016753</td>\n      <td>1.037234</td>\n    </tr>\n    <tr>\n      <th>1008</th>\n      <td>Home</td>\n      <td>1.068493</td>\n      <td>0.917241</td>\n      <td>0.855769</td>\n      <td>1.073864</td>\n      <td>0.965074</td>\n      <td>1.156522</td>\n      <td>0.984576</td>\n      <td>1.361446</td>\n    </tr>\n    <tr>\n      <th>1009</th>\n      <td>Home</td>\n      <td>1.026923</td>\n      <td>0.980583</td>\n      <td>1.170000</td>\n      <td>0.989744</td>\n      <td>1.026168</td>\n      <td>0.949580</td>\n      <td>1.001297</td>\n      <td>1.153409</td>\n    </tr>\n    <tr>\n      <th>1010</th>\n      <td>Home</td>\n      <td>1.088975</td>\n      <td>0.969466</td>\n      <td>1.228426</td>\n      <td>1.048387</td>\n      <td>0.921676</td>\n      <td>0.786260</td>\n      <td>1.025974</td>\n      <td>0.800000</td>\n    </tr>\n  </tbody>\n</table>\n<p>1011 rows × 9 columns</p>\n</div>"
     },
     "metadata": {},
     "execution_count": 151
    }
   ],
   "source": [
    "model_data2"
   ]
  },
  {
   "cell_type": "code",
   "execution_count": 152,
   "metadata": {},
   "outputs": [
    {
     "output_type": "execute_result",
     "data": {
      "text/plain": [
       "0.6551724137931034"
      ]
     },
     "metadata": {},
     "execution_count": 152
    }
   ],
   "source": [
    "y2 = model_data2[\"Home/Away Winner\"]\n",
    "X2 = model_data2.iloc[:, 1:]\n",
    "\n",
    "X2_train, X2_test, y2_train, y2_test = train_test_split(X2, y2, test_size=0.2, random_state=10)\n",
    "\n",
    "scaler = StandardScaler()\n",
    "scaled_X2_train = scaler.fit_transform(X2_train)    \n",
    "scaled_X2_test = scaler.transform(X2_test)\n",
    "\n",
    "svc_clf2 = SVC()\n",
    "svc_clf2.fit(scaled_X2_train, y2_train)\n",
    "svc_clf2_predictions = svc_clf2.predict(scaled_X2_test)\n",
    "\n",
    "accuracy_score(y2_test, svc_clf2_predictions)"
   ]
  },
  {
   "cell_type": "code",
   "execution_count": 153,
   "metadata": {},
   "outputs": [
    {
     "output_type": "execute_result",
     "data": {
      "text/plain": [
       "     Home/Away Winner  home_away_eFG%_ratio  home_away_TOV%_ratio  \\\n",
       "0                Home              1.049451              0.924812   \n",
       "1             Visitor              0.953901              1.150000   \n",
       "2                Home              0.951673              1.037037   \n",
       "3                Home              1.032505              0.983471   \n",
       "4                Home              0.914498              0.871212   \n",
       "...               ...                   ...                   ...   \n",
       "1006          Visitor              1.013308              1.043478   \n",
       "1007          Visitor              0.979058              0.991870   \n",
       "1008             Home              1.068493              0.917241   \n",
       "1009             Home              1.026923              0.980583   \n",
       "1010             Home              1.088975              0.969466   \n",
       "\n",
       "      home_away_ORB%_ratio  home_away_FTR_ratio  \\\n",
       "0                 1.224719             1.105820   \n",
       "1                 0.982533             1.064516   \n",
       "2                 1.017167             1.044199   \n",
       "3                 0.877729             0.952880   \n",
       "4                 1.119792             0.900498   \n",
       "...                    ...                  ...   \n",
       "1006              0.866109             1.124294   \n",
       "1007              1.137615             0.837321   \n",
       "1008              0.855769             1.073864   \n",
       "1009              1.170000             0.989744   \n",
       "1010              1.228426             1.048387   \n",
       "\n",
       "      home_away_opponent_eFG%_ratio  home_away_opponent_TOV%_ratio  \\\n",
       "0                          1.019048                       0.849624   \n",
       "1                          0.984962                       1.159664   \n",
       "2                          1.009107                       1.007463   \n",
       "3                          1.033074                       1.101695   \n",
       "4                          1.018622                       0.842857   \n",
       "...                             ...                            ...   \n",
       "1006                       1.007463                       1.082090   \n",
       "1007                       1.016822                       1.132743   \n",
       "1008                       0.965074                       1.156522   \n",
       "1009                       1.026168                       0.949580   \n",
       "1010                       0.921676                       0.786260   \n",
       "\n",
       "      home_away_opponent_ORB%_ratio  home_away_opponent_FTR_ratio  \n",
       "0                          1.013055                      0.831858  \n",
       "1                          1.003793                      0.942105  \n",
       "2                          1.007916                      1.141975  \n",
       "3                          0.946835                      1.036082  \n",
       "4                          1.012903                      0.917582  \n",
       "...                             ...                           ...  \n",
       "1006                       0.965736                      1.175000  \n",
       "1007                       1.016753                      1.037234  \n",
       "1008                       0.984576                      1.361446  \n",
       "1009                       1.001297                      1.153409  \n",
       "1010                       1.025974                      0.800000  \n",
       "\n",
       "[1011 rows x 9 columns]"
      ],
      "text/html": "<div>\n<style scoped>\n    .dataframe tbody tr th:only-of-type {\n        vertical-align: middle;\n    }\n\n    .dataframe tbody tr th {\n        vertical-align: top;\n    }\n\n    .dataframe thead th {\n        text-align: right;\n    }\n</style>\n<table border=\"1\" class=\"dataframe\">\n  <thead>\n    <tr style=\"text-align: right;\">\n      <th></th>\n      <th>Home/Away Winner</th>\n      <th>home_away_eFG%_ratio</th>\n      <th>home_away_TOV%_ratio</th>\n      <th>home_away_ORB%_ratio</th>\n      <th>home_away_FTR_ratio</th>\n      <th>home_away_opponent_eFG%_ratio</th>\n      <th>home_away_opponent_TOV%_ratio</th>\n      <th>home_away_opponent_ORB%_ratio</th>\n      <th>home_away_opponent_FTR_ratio</th>\n    </tr>\n  </thead>\n  <tbody>\n    <tr>\n      <th>0</th>\n      <td>Home</td>\n      <td>1.049451</td>\n      <td>0.924812</td>\n      <td>1.224719</td>\n      <td>1.105820</td>\n      <td>1.019048</td>\n      <td>0.849624</td>\n      <td>1.013055</td>\n      <td>0.831858</td>\n    </tr>\n    <tr>\n      <th>1</th>\n      <td>Visitor</td>\n      <td>0.953901</td>\n      <td>1.150000</td>\n      <td>0.982533</td>\n      <td>1.064516</td>\n      <td>0.984962</td>\n      <td>1.159664</td>\n      <td>1.003793</td>\n      <td>0.942105</td>\n    </tr>\n    <tr>\n      <th>2</th>\n      <td>Home</td>\n      <td>0.951673</td>\n      <td>1.037037</td>\n      <td>1.017167</td>\n      <td>1.044199</td>\n      <td>1.009107</td>\n      <td>1.007463</td>\n      <td>1.007916</td>\n      <td>1.141975</td>\n    </tr>\n    <tr>\n      <th>3</th>\n      <td>Home</td>\n      <td>1.032505</td>\n      <td>0.983471</td>\n      <td>0.877729</td>\n      <td>0.952880</td>\n      <td>1.033074</td>\n      <td>1.101695</td>\n      <td>0.946835</td>\n      <td>1.036082</td>\n    </tr>\n    <tr>\n      <th>4</th>\n      <td>Home</td>\n      <td>0.914498</td>\n      <td>0.871212</td>\n      <td>1.119792</td>\n      <td>0.900498</td>\n      <td>1.018622</td>\n      <td>0.842857</td>\n      <td>1.012903</td>\n      <td>0.917582</td>\n    </tr>\n    <tr>\n      <th>...</th>\n      <td>...</td>\n      <td>...</td>\n      <td>...</td>\n      <td>...</td>\n      <td>...</td>\n      <td>...</td>\n      <td>...</td>\n      <td>...</td>\n      <td>...</td>\n    </tr>\n    <tr>\n      <th>1006</th>\n      <td>Visitor</td>\n      <td>1.013308</td>\n      <td>1.043478</td>\n      <td>0.866109</td>\n      <td>1.124294</td>\n      <td>1.007463</td>\n      <td>1.082090</td>\n      <td>0.965736</td>\n      <td>1.175000</td>\n    </tr>\n    <tr>\n      <th>1007</th>\n      <td>Visitor</td>\n      <td>0.979058</td>\n      <td>0.991870</td>\n      <td>1.137615</td>\n      <td>0.837321</td>\n      <td>1.016822</td>\n      <td>1.132743</td>\n      <td>1.016753</td>\n      <td>1.037234</td>\n    </tr>\n    <tr>\n      <th>1008</th>\n      <td>Home</td>\n      <td>1.068493</td>\n      <td>0.917241</td>\n      <td>0.855769</td>\n      <td>1.073864</td>\n      <td>0.965074</td>\n      <td>1.156522</td>\n      <td>0.984576</td>\n      <td>1.361446</td>\n    </tr>\n    <tr>\n      <th>1009</th>\n      <td>Home</td>\n      <td>1.026923</td>\n      <td>0.980583</td>\n      <td>1.170000</td>\n      <td>0.989744</td>\n      <td>1.026168</td>\n      <td>0.949580</td>\n      <td>1.001297</td>\n      <td>1.153409</td>\n    </tr>\n    <tr>\n      <th>1010</th>\n      <td>Home</td>\n      <td>1.088975</td>\n      <td>0.969466</td>\n      <td>1.228426</td>\n      <td>1.048387</td>\n      <td>0.921676</td>\n      <td>0.786260</td>\n      <td>1.025974</td>\n      <td>0.800000</td>\n    </tr>\n  </tbody>\n</table>\n<p>1011 rows × 9 columns</p>\n</div>"
     },
     "metadata": {},
     "execution_count": 153
    }
   ],
   "source": [
    "model_data3 = model_data\n",
    "model_data3"
   ]
  },
  {
   "cell_type": "code",
   "execution_count": 154,
   "metadata": {},
   "outputs": [
    {
     "output_type": "execute_result",
     "data": {
      "text/plain": [
       "Index(['Home/Away Winner', 'home_away_eFG%_ratio', 'home_away_TOV%_ratio',\n",
       "       'home_away_ORB%_ratio', 'home_away_FTR_ratio',\n",
       "       'home_away_opponent_eFG%_ratio', 'home_away_opponent_TOV%_ratio',\n",
       "       'home_away_opponent_ORB%_ratio', 'home_away_opponent_FTR_ratio',\n",
       "       'Home_eFG%', 'Home_TOV%', 'Home_ORB%', 'Home_FTR', 'Home_opponent_eFG%',\n",
       "       'Home_opponent_TOV%', 'Home_opponent_ORB%', 'Home_opponent_FTR',\n",
       "       'Visitor_eFG%', 'Visitor_TOV%', 'Visitor_ORB%', 'Visitor_FTR',\n",
       "       'Visitor_opponent_eFG%', 'Visitor_opponent_TOV%',\n",
       "       'Visitor_opponent_ORB%', 'Visitor_opponent_FTR',\n",
       "       'home_away_eFG%_margin', 'home_away_TOV%_margin',\n",
       "       'home_away_ORB%_margin', 'home_away_FTR_margin',\n",
       "       'home_away_opponent_eFG%_margin', 'home_away_opponent_TOV%_margin',\n",
       "       'home_away_opponent_ORB%_margin', 'home_away_opponent_FTR_margin'],\n",
       "      dtype='object')"
      ]
     },
     "metadata": {},
     "execution_count": 154
    }
   ],
   "source": [
    "model_data[\"Home_eFG%\"] = home_efg\n",
    "model_data[\"Home_TOV%\"] = home_to\n",
    "model_data[\"Home_ORB%\"] = home_orb\n",
    "model_data[\"Home_FTR\"] = home_ftr\n",
    "model_data[\"Home_opponent_eFG%\"] = home_opponent_efg\n",
    "model_data[\"Home_opponent_TOV%\"] = home_opponent_to\n",
    "model_data[\"Home_opponent_ORB%\"] = home_opponent_orb\n",
    "model_data[\"Home_opponent_FTR\"] = home_opponent_ftr\n",
    "\n",
    "model_data[\"Visitor_eFG%\"] = away_efg\n",
    "model_data[\"Visitor_TOV%\"] = away_to\n",
    "model_data[\"Visitor_ORB%\"] = away_orb\n",
    "model_data[\"Visitor_FTR\"] = away_ftr\n",
    "model_data[\"Visitor_opponent_eFG%\"] = away_opponent_efg\n",
    "model_data[\"Visitor_opponent_TOV%\"] = away_opponent_to\n",
    "model_data[\"Visitor_opponent_ORB%\"] = away_opponent_orb\n",
    "model_data[\"Visitor_opponent_FTR\"] = away_opponent_ftr\n",
    "\n",
    "model_data3[\"home_away_eFG%_margin\"] = model_data[\"Home_eFG%\"] - model_data[\"Visitor_eFG%\"]\n",
    "model_data3[\"home_away_TOV%_margin\"] = model_data[\"Home_TOV%\"] - model_data[\"Visitor_TOV%\"]\n",
    "model_data3[\"home_away_ORB%_margin\"] = model_data[\"Home_ORB%\"] - model_data[\"Visitor_ORB%\"]\n",
    "model_data3[\"home_away_FTR_margin\"] = model_data[\"Home_FTR\"] - model_data[\"Visitor_FTR\"]\n",
    "model_data3[\"home_away_opponent_eFG%_margin\"] = model_data[\"Home_opponent_eFG%\"] - model_data[\"Visitor_opponent_eFG%\"]\n",
    "model_data3[\"home_away_opponent_TOV%_margin\"] = model_data[\"Home_opponent_TOV%\"] - model_data[\"Visitor_opponent_TOV%\"]\n",
    "model_data3[\"home_away_opponent_ORB%_margin\"] = model_data[\"Home_opponent_ORB%\"] - model_data[\"Visitor_opponent_ORB%\"]\n",
    "model_data3[\"home_away_opponent_FTR_margin\"] = model_data[\"Home_opponent_FTR\"] - model_data[\"Visitor_opponent_FTR\"]\n",
    "\n",
    "model_data3.columns"
   ]
  },
  {
   "cell_type": "code",
   "execution_count": 155,
   "metadata": {},
   "outputs": [],
   "source": [
    "model_data3.drop(columns=['home_away_eFG%_ratio', 'home_away_TOV%_ratio',\n",
    "       'home_away_ORB%_ratio', 'home_away_FTR_ratio',\n",
    "       'home_away_opponent_eFG%_ratio', 'home_away_opponent_TOV%_ratio',\n",
    "       'home_away_opponent_ORB%_ratio', 'home_away_opponent_FTR_ratio',\n",
    "       'Home_eFG%', 'Home_TOV%', 'Home_ORB%', 'Home_FTR', 'Home_opponent_eFG%',\n",
    "       'Home_opponent_TOV%', 'Home_opponent_ORB%', 'Home_opponent_FTR',\n",
    "       'Visitor_eFG%', 'Visitor_TOV%', 'Visitor_ORB%', 'Visitor_FTR',\n",
    "       'Visitor_opponent_eFG%', 'Visitor_opponent_TOV%',\n",
    "       'Visitor_opponent_ORB%', 'Visitor_opponent_FTR'], inplace=True)"
   ]
  },
  {
   "cell_type": "code",
   "execution_count": 156,
   "metadata": {},
   "outputs": [
    {
     "output_type": "execute_result",
     "data": {
      "text/plain": [
       "     Home/Away Winner  home_away_eFG%_margin  home_away_TOV%_margin  \\\n",
       "0                Home                  0.027                   -1.0   \n",
       "1             Visitor                 -0.026                    1.8   \n",
       "2                Home                 -0.026                    0.5   \n",
       "3                Home                  0.017                   -0.2   \n",
       "4                Home                 -0.046                   -1.7   \n",
       "...               ...                    ...                    ...   \n",
       "1006          Visitor                  0.007                    0.5   \n",
       "1007          Visitor                 -0.012                   -0.1   \n",
       "1008             Home                  0.035                   -1.2   \n",
       "1009             Home                  0.014                   -0.2   \n",
       "1010             Home                  0.046                   -0.4   \n",
       "\n",
       "      home_away_ORB%_margin  home_away_FTR_margin  \\\n",
       "0                       4.0                 0.020   \n",
       "1                      -0.4                 0.012   \n",
       "2                       0.4                 0.008   \n",
       "3                      -2.8                -0.009   \n",
       "4                       2.3                -0.020   \n",
       "...                     ...                   ...   \n",
       "1006                   -3.2                 0.022   \n",
       "1007                    3.0                -0.034   \n",
       "1008                   -3.0                 0.013   \n",
       "1009                    3.4                -0.002   \n",
       "1010                    4.5                 0.009   \n",
       "\n",
       "      home_away_opponent_eFG%_margin  home_away_opponent_TOV%_margin  \\\n",
       "0                              0.010                            -2.0   \n",
       "1                             -0.008                             1.9   \n",
       "2                              0.005                             0.1   \n",
       "3                              0.017                             1.2   \n",
       "4                              0.010                            -2.2   \n",
       "...                              ...                             ...   \n",
       "1006                           0.004                             1.1   \n",
       "1007                           0.009                             1.5   \n",
       "1008                          -0.019                             1.8   \n",
       "1009                           0.014                            -0.6   \n",
       "1010                          -0.043                            -2.8   \n",
       "\n",
       "      home_away_opponent_ORB%_margin  home_away_opponent_FTR_margin  \n",
       "0                                1.0                         -0.038  \n",
       "1                                0.3                         -0.011  \n",
       "2                                0.6                          0.023  \n",
       "3                               -4.2                          0.007  \n",
       "4                                1.0                         -0.015  \n",
       "...                              ...                            ...  \n",
       "1006                            -2.7                          0.035  \n",
       "1007                             1.3                          0.007  \n",
       "1008                            -1.2                          0.060  \n",
       "1009                             0.1                          0.027  \n",
       "1010                             2.0                         -0.040  \n",
       "\n",
       "[1011 rows x 9 columns]"
      ],
      "text/html": "<div>\n<style scoped>\n    .dataframe tbody tr th:only-of-type {\n        vertical-align: middle;\n    }\n\n    .dataframe tbody tr th {\n        vertical-align: top;\n    }\n\n    .dataframe thead th {\n        text-align: right;\n    }\n</style>\n<table border=\"1\" class=\"dataframe\">\n  <thead>\n    <tr style=\"text-align: right;\">\n      <th></th>\n      <th>Home/Away Winner</th>\n      <th>home_away_eFG%_margin</th>\n      <th>home_away_TOV%_margin</th>\n      <th>home_away_ORB%_margin</th>\n      <th>home_away_FTR_margin</th>\n      <th>home_away_opponent_eFG%_margin</th>\n      <th>home_away_opponent_TOV%_margin</th>\n      <th>home_away_opponent_ORB%_margin</th>\n      <th>home_away_opponent_FTR_margin</th>\n    </tr>\n  </thead>\n  <tbody>\n    <tr>\n      <th>0</th>\n      <td>Home</td>\n      <td>0.027</td>\n      <td>-1.0</td>\n      <td>4.0</td>\n      <td>0.020</td>\n      <td>0.010</td>\n      <td>-2.0</td>\n      <td>1.0</td>\n      <td>-0.038</td>\n    </tr>\n    <tr>\n      <th>1</th>\n      <td>Visitor</td>\n      <td>-0.026</td>\n      <td>1.8</td>\n      <td>-0.4</td>\n      <td>0.012</td>\n      <td>-0.008</td>\n      <td>1.9</td>\n      <td>0.3</td>\n      <td>-0.011</td>\n    </tr>\n    <tr>\n      <th>2</th>\n      <td>Home</td>\n      <td>-0.026</td>\n      <td>0.5</td>\n      <td>0.4</td>\n      <td>0.008</td>\n      <td>0.005</td>\n      <td>0.1</td>\n      <td>0.6</td>\n      <td>0.023</td>\n    </tr>\n    <tr>\n      <th>3</th>\n      <td>Home</td>\n      <td>0.017</td>\n      <td>-0.2</td>\n      <td>-2.8</td>\n      <td>-0.009</td>\n      <td>0.017</td>\n      <td>1.2</td>\n      <td>-4.2</td>\n      <td>0.007</td>\n    </tr>\n    <tr>\n      <th>4</th>\n      <td>Home</td>\n      <td>-0.046</td>\n      <td>-1.7</td>\n      <td>2.3</td>\n      <td>-0.020</td>\n      <td>0.010</td>\n      <td>-2.2</td>\n      <td>1.0</td>\n      <td>-0.015</td>\n    </tr>\n    <tr>\n      <th>...</th>\n      <td>...</td>\n      <td>...</td>\n      <td>...</td>\n      <td>...</td>\n      <td>...</td>\n      <td>...</td>\n      <td>...</td>\n      <td>...</td>\n      <td>...</td>\n    </tr>\n    <tr>\n      <th>1006</th>\n      <td>Visitor</td>\n      <td>0.007</td>\n      <td>0.5</td>\n      <td>-3.2</td>\n      <td>0.022</td>\n      <td>0.004</td>\n      <td>1.1</td>\n      <td>-2.7</td>\n      <td>0.035</td>\n    </tr>\n    <tr>\n      <th>1007</th>\n      <td>Visitor</td>\n      <td>-0.012</td>\n      <td>-0.1</td>\n      <td>3.0</td>\n      <td>-0.034</td>\n      <td>0.009</td>\n      <td>1.5</td>\n      <td>1.3</td>\n      <td>0.007</td>\n    </tr>\n    <tr>\n      <th>1008</th>\n      <td>Home</td>\n      <td>0.035</td>\n      <td>-1.2</td>\n      <td>-3.0</td>\n      <td>0.013</td>\n      <td>-0.019</td>\n      <td>1.8</td>\n      <td>-1.2</td>\n      <td>0.060</td>\n    </tr>\n    <tr>\n      <th>1009</th>\n      <td>Home</td>\n      <td>0.014</td>\n      <td>-0.2</td>\n      <td>3.4</td>\n      <td>-0.002</td>\n      <td>0.014</td>\n      <td>-0.6</td>\n      <td>0.1</td>\n      <td>0.027</td>\n    </tr>\n    <tr>\n      <th>1010</th>\n      <td>Home</td>\n      <td>0.046</td>\n      <td>-0.4</td>\n      <td>4.5</td>\n      <td>0.009</td>\n      <td>-0.043</td>\n      <td>-2.8</td>\n      <td>2.0</td>\n      <td>-0.040</td>\n    </tr>\n  </tbody>\n</table>\n<p>1011 rows × 9 columns</p>\n</div>"
     },
     "metadata": {},
     "execution_count": 156
    }
   ],
   "source": [
    "model_data3"
   ]
  },
  {
   "cell_type": "code",
   "execution_count": 157,
   "metadata": {},
   "outputs": [
    {
     "output_type": "execute_result",
     "data": {
      "text/plain": [
       "0.6551724137931034"
      ]
     },
     "metadata": {},
     "execution_count": 157
    }
   ],
   "source": [
    "y3 = model_data2[\"Home/Away Winner\"]\n",
    "X3 = model_data2.iloc[:, 1:]\n",
    "\n",
    "X3_train, X3_test, y3_train, y3_test = train_test_split(X3, y3, test_size=0.2, random_state=10)\n",
    "\n",
    "scaler = StandardScaler()\n",
    "scaled_X3_train = scaler.fit_transform(X3_train)    \n",
    "scaled_X3_test = scaler.transform(X3_test)\n",
    "\n",
    "svc_clf3 = SVC()\n",
    "svc_clf3.fit(scaled_X3_train, y3_train)\n",
    "svc_clf3_predictions = svc_clf3.predict(scaled_X3_test)\n",
    "\n",
    "accuracy_score(y3_test, svc_clf3_predictions)"
   ]
  },
  {
   "cell_type": "code",
   "execution_count": 162,
   "metadata": {},
   "outputs": [
    {
     "output_type": "execute_result",
     "data": {
      "text/plain": [
       "GridSearchCV(estimator=SVC(),\n",
       "             param_grid=[{'C': [0.1, 1, 10, 100, 1000],\n",
       "                          'gamma': [1, 0.1, 0.01, 0.001, 0.0001],\n",
       "                          'kernel': ['rbf']},\n",
       "                         {'C': [0.1, 1, 10, 100, 1000],\n",
       "                          'gamma': [1, 0.1, 0.01, 0.001, 0.0001],\n",
       "                          'kernel': ['linear']}],\n",
       "             return_train_score=True, scoring='accuracy')"
      ]
     },
     "metadata": {},
     "execution_count": 162
    }
   ],
   "source": [
    "from sklearn.model_selection import GridSearchCV\n",
    "\n",
    "tuned_parameters = [\n",
    "    {'kernel': ['rbf'], 'C': [0.1, 1, 10, 100, 1000], 'gamma': [1, 0.1, 0.01, 0.001, 0.0001]},\n",
    "    {'kernel': ['linear'], 'C': [0.1, 1, 10, 100, 1000], 'gamma': [1, 0.1, 0.01, 0.001, 0.0001]}\n",
    "]\n",
    "\n",
    "grid = GridSearchCV(SVC(), tuned_parameters, scoring='accuracy', return_train_score=True)\n",
    "grid.fit(X3_train, y3_train)"
   ]
  },
  {
   "cell_type": "code",
   "execution_count": 163,
   "metadata": {},
   "outputs": [
    {
     "output_type": "execute_result",
     "data": {
      "text/plain": [
       "{'C': 1000, 'gamma': 1, 'kernel': 'linear'}"
      ]
     },
     "metadata": {},
     "execution_count": 163
    }
   ],
   "source": [
    "grid.best_params_"
   ]
  },
  {
   "cell_type": "code",
   "execution_count": 164,
   "metadata": {},
   "outputs": [
    {
     "output_type": "execute_result",
     "data": {
      "text/plain": [
       "SVC(C=1000, gamma=1, kernel='linear')"
      ]
     },
     "metadata": {},
     "execution_count": 164
    }
   ],
   "source": [
    "grid.best_estimator_"
   ]
  },
  {
   "cell_type": "code",
   "execution_count": 166,
   "metadata": {},
   "outputs": [
    {
     "output_type": "execute_result",
     "data": {
      "text/plain": [
       "'              precision    recall  f1-score   support\\n\\n        Home       0.64      0.75      0.69       100\\n     Visitor       0.71      0.58      0.64       103\\n\\n    accuracy                           0.67       203\\n   macro avg       0.67      0.67      0.66       203\\nweighted avg       0.67      0.67      0.66       203\\n'"
      ]
     },
     "metadata": {},
     "execution_count": 166
    }
   ],
   "source": [
    "grid_predictions = grid.predict(X3_test)\n",
    "classification_report(y3_test, grid_predictions)"
   ]
  },
  {
   "cell_type": "code",
   "execution_count": null,
   "metadata": {},
   "outputs": [],
   "source": []
  }
 ]
}